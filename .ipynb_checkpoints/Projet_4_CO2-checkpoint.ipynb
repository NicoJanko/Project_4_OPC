{
 "cells": [
  {
   "cell_type": "markdown",
   "id": "2fb6cab8-d975-41e3-95f8-be280fd8eca2",
   "metadata": {},
   "source": [
    "# Modelisation de la consommation totale d'energie"
   ]
  },
  {
   "cell_type": "code",
   "execution_count": 1,
   "id": "ff631086-1f08-49b0-9844-8833ce2b57fc",
   "metadata": {
    "execution": {
     "iopub.execute_input": "2022-10-28T07:33:53.615855Z",
     "iopub.status.busy": "2022-10-28T07:33:53.615855Z",
     "iopub.status.idle": "2022-10-28T07:33:55.724365Z",
     "shell.execute_reply": "2022-10-28T07:33:55.724365Z",
     "shell.execute_reply.started": "2022-10-28T07:33:53.615855Z"
    },
    "tags": []
   },
   "outputs": [],
   "source": [
    "import pandas as pd\n",
    "import numpy as np \n",
    "import matplotlib.pyplot as plt\n",
    "import seaborn as sns\n",
    "from sklearn.model_selection import train_test_split, GridSearchCV\n",
    "import sklearn.preprocessing as sk_prepro\n",
    "from sklearn import metrics"
   ]
  },
  {
   "cell_type": "code",
   "execution_count": 2,
   "id": "121579be-483c-4051-98e6-1a39153a8573",
   "metadata": {
    "execution": {
     "iopub.execute_input": "2022-10-28T07:33:55.725367Z",
     "iopub.status.busy": "2022-10-28T07:33:55.725367Z",
     "iopub.status.idle": "2022-10-28T07:33:55.831365Z",
     "shell.execute_reply": "2022-10-28T07:33:55.831365Z",
     "shell.execute_reply.started": "2022-10-28T07:33:55.725367Z"
    },
    "tags": []
   },
   "outputs": [],
   "source": [
    "df = pd.read_csv('data_full.csv')"
   ]
  },
  {
   "cell_type": "code",
   "execution_count": 3,
   "id": "3d8984b7-8236-4e08-b8b2-ddfe192af60e",
   "metadata": {
    "execution": {
     "iopub.execute_input": "2022-10-28T07:33:55.833367Z",
     "iopub.status.busy": "2022-10-28T07:33:55.833367Z",
     "iopub.status.idle": "2022-10-28T07:33:55.847391Z",
     "shell.execute_reply": "2022-10-28T07:33:55.847391Z",
     "shell.execute_reply.started": "2022-10-28T07:33:55.833367Z"
    },
    "tags": []
   },
   "outputs": [],
   "source": [
    "data_num = df\n",
    "target_tag = 'TotalGHGEmissions'\n",
    "target = data_num[target_tag]\n",
    "data_num = data_num.drop(labels = [target_tag,'SiteEnergyUse(kBtu)', 'ENERGYSTARScore'], axis = 1)"
   ]
  },
  {
   "cell_type": "code",
   "execution_count": 4,
   "id": "d6e42a06-c50f-4760-af56-b86d619123bb",
   "metadata": {
    "execution": {
     "iopub.execute_input": "2022-10-28T07:33:55.849367Z",
     "iopub.status.busy": "2022-10-28T07:33:55.848367Z",
     "iopub.status.idle": "2022-10-28T07:33:55.879366Z",
     "shell.execute_reply": "2022-10-28T07:33:55.879366Z",
     "shell.execute_reply.started": "2022-10-28T07:33:55.849367Z"
    },
    "tags": []
   },
   "outputs": [
    {
     "name": "stdout",
     "output_type": "stream",
     "text": [
      "<class 'pandas.core.frame.DataFrame'>\n",
      "RangeIndex: 1651 entries, 0 to 1650\n",
      "Columns: 574 entries, 0 to ThirdLargestPropertyUseTypeGFA\n",
      "dtypes: float64(574)\n",
      "memory usage: 7.2 MB\n"
     ]
    }
   ],
   "source": [
    "data_num.info()"
   ]
  },
  {
   "cell_type": "markdown",
   "id": "ae5491d6-cd97-46a4-a2d1-c74d321697d0",
   "metadata": {},
   "source": [
    "## Modèle linéaire"
   ]
  },
  {
   "cell_type": "code",
   "execution_count": 5,
   "id": "31efd872-fd59-43f1-89f2-06ee288152bb",
   "metadata": {
    "execution": {
     "iopub.execute_input": "2022-10-28T07:33:55.880370Z",
     "iopub.status.busy": "2022-10-28T07:33:55.880370Z",
     "iopub.status.idle": "2022-10-28T07:33:55.975365Z",
     "shell.execute_reply": "2022-10-28T07:33:55.975365Z",
     "shell.execute_reply.started": "2022-10-28T07:33:55.880370Z"
    },
    "tags": []
   },
   "outputs": [],
   "source": [
    "from sklearn.linear_model import Ridge\n",
    "from sklearn import svm\n",
    "from sklearn.neighbors import KNeighborsRegressor"
   ]
  },
  {
   "cell_type": "code",
   "execution_count": 6,
   "id": "74cd14cd-9495-4c1c-895a-017e4e90a10a",
   "metadata": {
    "execution": {
     "iopub.execute_input": "2022-10-28T07:33:55.977367Z",
     "iopub.status.busy": "2022-10-28T07:33:55.976367Z",
     "iopub.status.idle": "2022-10-28T07:33:56.713366Z",
     "shell.execute_reply": "2022-10-28T07:33:56.713366Z",
     "shell.execute_reply.started": "2022-10-28T07:33:55.977367Z"
    },
    "tags": []
   },
   "outputs": [
    {
     "name": "stdout",
     "output_type": "stream",
     "text": [
      "Fitting 3 folds for each of 14 candidates, totalling 42 fits\n",
      "Best params on training set : {'n_neighbors': 8}\n",
      "GridCV results : \n",
      "r2 = 0.123 (+/- 1.681) for {'n_neighbors': 2}\n",
      "r2 = 0.203 (+/- 1.051) for {'n_neighbors': 3}\n",
      "r2 = 0.268 (+/- 0.868) for {'n_neighbors': 4}\n",
      "r2 = 0.342 (+/- 0.474) for {'n_neighbors': 5}\n",
      "r2 = 0.345 (+/- 0.312) for {'n_neighbors': 6}\n",
      "r2 = 0.339 (+/- 0.208) for {'n_neighbors': 7}\n",
      "r2 = 0.380 (+/- 0.069) for {'n_neighbors': 8}\n",
      "r2 = 0.358 (+/- 0.083) for {'n_neighbors': 9}\n",
      "r2 = 0.335 (+/- 0.092) for {'n_neighbors': 10}\n",
      "r2 = 0.314 (+/- 0.097) for {'n_neighbors': 11}\n",
      "r2 = 0.295 (+/- 0.098) for {'n_neighbors': 12}\n",
      "r2 = 0.277 (+/- 0.099) for {'n_neighbors': 13}\n",
      "r2 = 0.290 (+/- 0.174) for {'n_neighbors': 14}\n",
      "r2 = 0.279 (+/- 0.168) for {'n_neighbors': 15}\n"
     ]
    }
   ],
   "source": [
    "#first let's test this on knregressoe\n",
    "xtrain, xtest, ytrain, ytest = train_test_split(data_num, target, test_size = 0.2)\n",
    "\n",
    "#let's standard scale\n",
    "\n",
    "sscaler = sk_prepro.StandardScaler()\n",
    "sscaler_fit = sscaler.fit(xtrain)\n",
    "xtrain = sscaler_fit.transform(xtrain)\n",
    "xtest = sscaler_fit.transform(xtest)\n",
    "\n",
    "#let's grid search for the k\n",
    "\n",
    "k_grid = {'n_neighbors' : list(range(2,16))}\n",
    "score = 'r2'\n",
    "\n",
    "reg = GridSearchCV(KNeighborsRegressor(), k_grid, cv =3, scoring = score, verbose = 1)\n",
    "\n",
    "reg.fit(xtrain, ytrain)\n",
    "\n",
    "print('Best params on training set : {}'.format(reg.best_params_))\n",
    "\n",
    "print('GridCV results : ')\n",
    "for mean, std, k in zip(reg.cv_results_['mean_test_score'],\n",
    "                       reg.cv_results_['std_test_score'],\n",
    "                       reg.cv_results_['params']):\n",
    "    print('{} = {:.3f} (+/- {:.3f}) for {}'.format(score,mean,std*2,k))"
   ]
  },
  {
   "cell_type": "code",
   "execution_count": 7,
   "id": "df57154a-6b95-49f2-b3d8-30dcd8e16d4c",
   "metadata": {
    "execution": {
     "iopub.execute_input": "2022-10-28T07:33:56.714367Z",
     "iopub.status.busy": "2022-10-28T07:33:56.714367Z",
     "iopub.status.idle": "2022-10-28T07:33:56.729366Z",
     "shell.execute_reply": "2022-10-28T07:33:56.729366Z",
     "shell.execute_reply.started": "2022-10-28T07:33:56.714367Z"
    },
    "tags": []
   },
   "outputs": [],
   "source": [
    "from sklearn import linear_model\n",
    "line_reg = linear_model.LinearRegression()"
   ]
  },
  {
   "cell_type": "code",
   "execution_count": 8,
   "id": "127c7198-7b1b-4a8f-bd84-8b4f5145d06b",
   "metadata": {
    "execution": {
     "iopub.execute_input": "2022-10-28T07:33:56.730368Z",
     "iopub.status.busy": "2022-10-28T07:33:56.730368Z",
     "iopub.status.idle": "2022-10-28T07:33:56.745369Z",
     "shell.execute_reply": "2022-10-28T07:33:56.745369Z",
     "shell.execute_reply.started": "2022-10-28T07:33:56.730368Z"
    },
    "tags": []
   },
   "outputs": [],
   "source": [
    "def true_pred_plot(y_train,pred_train, y_test, pred_test):\n",
    "    fig, ax = plt.subplots(2, figsize = (10,10))\n",
    "    \n",
    "    line_reg_train = line_reg.fit(np.array(pred_train).reshape(-1,1),y_train)\n",
    "    r2_train = line_reg_train.score(np.array(pred_train).reshape(-1,1),y_train)\n",
    "    rmse_train = np.sqrt(metrics.mean_squared_error(y_train, pred_train))\n",
    "    a = float(line_reg_train.coef_)\n",
    "    b= line_reg_train.intercept_\n",
    "    ax[0].scatter( y_train, pred_train)\n",
    "    ax[0].plot([a*np.abs(b)+b, a*y_train.max()+b],[np.abs(b), ytrain.max()], linestyle = 'dashed')\n",
    "    ax[0].text(0.7,0.7,'R2 : {:.3f} RMSE : {: .2f}.e6'.format(r2_train,rmse_train/1000000), transform = ax[0].transAxes)\n",
    "    ax[0].set_xlabel('True values')\n",
    "    ax[0].set_ylabel('Predicted values')\n",
    "    ax[0].set_xlim(-10,y_train.max())\n",
    "    ax[0].set_ylim(-10,pred_train.max())\n",
    "    ax[0].set_title('On train values')\n",
    "\n",
    "    line_reg_test  = line_reg.fit(np.array(pred_test).reshape(-1,1),y_test)\n",
    "    r2_test =  line_reg_test.score(np.array(pred_test).reshape(-1,1),y_test)\n",
    "    rmse_test = np.sqrt(metrics.mean_squared_error(y_test, pred_test))\n",
    "    a = float(line_reg_test.coef_)\n",
    "    b=  line_reg_test.intercept_\n",
    "    ax[1].scatter( y_test, pred_test)\n",
    "    ax[1].plot([a*np.abs(b)+b, a*y_test.max()+b],[np.abs(b), y_test.max()], linestyle = 'dashed')\n",
    "    ax[1].text(0.7,0.7,'R2 : {:.3f} RMSE : {: .2f}.e6'.format(r2_test, rmse_test/1000000), transform = ax[1].transAxes)\n",
    "    ax[1].set_xlabel('True values')\n",
    "    ax[1].set_ylabel('Predicted values')\n",
    "    ax[1].set_xlim(-10,y_test.max())\n",
    "    ax[1].set_ylim(-10,pred_test.max())\n",
    "    ax[1].set_title('On test values')\n",
    "    \n",
    "    plt.show()\n",
    "    plt.clf()"
   ]
  },
  {
   "cell_type": "code",
   "execution_count": 9,
   "id": "10ca39c1-0fb0-42ac-b7a5-5e4ff328d098",
   "metadata": {
    "execution": {
     "iopub.execute_input": "2022-10-28T07:33:56.746372Z",
     "iopub.status.busy": "2022-10-28T07:33:56.746372Z",
     "iopub.status.idle": "2022-10-28T07:33:57.056368Z",
     "shell.execute_reply": "2022-10-28T07:33:57.056368Z",
     "shell.execute_reply.started": "2022-10-28T07:33:56.746372Z"
    },
    "tags": []
   },
   "outputs": [
    {
     "data": {
      "image/png": "[encoded data removed]",
      "text/plain": [
       "<Figure size 720x720 with 2 Axes>"
      ]
     },
     "metadata": {
      "needs_background": "light"
     },
     "output_type": "display_data"
    },
    {
     "data": {
      "text/plain": [
       "<Figure size 432x288 with 0 Axes>"
      ]
     },
     "metadata": {},
     "output_type": "display_data"
    }
   ],
   "source": [
    "model = KNeighborsRegressor(n_neighbors=7).fit(xtrain, ytrain)\n",
    "\n",
    "true_pred_plot(ytrain, model.predict(xtrain), ytest, model.predict(xtest))"
   ]
  },
  {
   "cell_type": "code",
   "execution_count": 10,
   "id": "7864a029-dd2a-4ba5-ab75-8cb4461bb5a7",
   "metadata": {
    "execution": {
     "iopub.execute_input": "2022-10-28T07:33:57.057367Z",
     "iopub.status.busy": "2022-10-28T07:33:57.057367Z",
     "iopub.status.idle": "2022-10-28T07:33:57.321366Z",
     "shell.execute_reply": "2022-10-28T07:33:57.321366Z",
     "shell.execute_reply.started": "2022-10-28T07:33:57.057367Z"
    },
    "tags": []
   },
   "outputs": [
    {
     "data": {
      "image/png": "[encoded data removed]",
      "text/plain": [
       "<Figure size 720x720 with 2 Axes>"
      ]
     },
     "metadata": {
      "needs_background": "light"
     },
     "output_type": "display_data"
    },
    {
     "data": {
      "text/plain": [
       "<Figure size 432x288 with 0 Axes>"
      ]
     },
     "metadata": {},
     "output_type": "display_data"
    }
   ],
   "source": [
    "line_reg_m = linear_model.LinearRegression()\n",
    "\n",
    "line_reg_m.fit(xtrain,ytrain)\n",
    "\n",
    "\n",
    "true_pred_plot(ytrain, line_reg_m.predict(xtrain), ytest, line_reg_m.predict(xtest))"
   ]
  },
  {
   "cell_type": "code",
   "execution_count": 11,
   "id": "b2042a43-3b70-4d07-9eec-fe814f5feed5",
   "metadata": {
    "execution": {
     "iopub.execute_input": "2022-10-28T07:33:57.322366Z",
     "iopub.status.busy": "2022-10-28T07:33:57.322366Z",
     "iopub.status.idle": "2022-10-28T07:33:57.338369Z",
     "shell.execute_reply": "2022-10-28T07:33:57.337366Z",
     "shell.execute_reply.started": "2022-10-28T07:33:57.322366Z"
    },
    "tags": []
   },
   "outputs": [
    {
     "name": "stdout",
     "output_type": "stream",
     "text": [
      "0.01687098 96069725564.94214\n"
     ]
    }
   ],
   "source": [
    "print(ytest.max()/1000000, line_reg_m.predict(xtest).max()/1000000)"
   ]
  },
  {
   "cell_type": "code",
   "execution_count": 12,
   "id": "88ed7501-a873-41ed-a11e-e84949e975cf",
   "metadata": {
    "execution": {
     "iopub.execute_input": "2022-10-28T07:33:57.340366Z",
     "iopub.status.busy": "2022-10-28T07:33:57.340366Z",
     "iopub.status.idle": "2022-10-28T07:34:05.649439Z",
     "shell.execute_reply": "2022-10-28T07:34:05.649439Z",
     "shell.execute_reply.started": "2022-10-28T07:33:57.340366Z"
    },
    "tags": []
   },
   "outputs": [
    {
     "name": "stdin",
     "output_type": "stream",
     "text": [
      "Do you want to launch ? [y/n] n\n"
     ]
    }
   ],
   "source": [
    "x = input('Do you want to launch ? [y/n]')\n",
    "if x == 'y':\n",
    "\n",
    "    #let's try with a svr\n",
    "    C_range = [1.0, 5.0, 10.0, 100.0]\n",
    "    kernels = ['linear', 'rbf', 'sigmoid', 'poly']\n",
    "    degrees = [2,3,4]\n",
    "    gamma_range  = np.logspace(-2, 1, 10)\n",
    "    #gamma_range = np.logspace(-2, 1, 10)\n",
    "    #'gamma' : gamma_range\n",
    "    param_grid = {'gamma' : gamma_range, 'kernel' : kernels, 'degree' : degrees}\n",
    "\n",
    "    score = 'neg_mean_squared_error'\n",
    "\n",
    "    svr_cv = GridSearchCV(svm.SVR(), param_grid, cv = 3, scoring = score, verbose = 1)\n",
    "\n",
    "    svr_cv.fit(xtrain, ytrain)\n",
    "\n",
    "    print('Best params on training set : {}'.format(svr_cv.best_params_))"
   ]
  },
  {
   "cell_type": "code",
   "execution_count": 13,
   "id": "42deff6e-0cbc-4de7-b1dc-510e44fbc678",
   "metadata": {
    "execution": {
     "iopub.execute_input": "2022-10-28T07:34:05.651442Z",
     "iopub.status.busy": "2022-10-28T07:34:05.650443Z",
     "iopub.status.idle": "2022-10-28T07:34:06.785439Z",
     "shell.execute_reply": "2022-10-28T07:34:06.785439Z",
     "shell.execute_reply.started": "2022-10-28T07:34:05.651442Z"
    },
    "tags": []
   },
   "outputs": [
    {
     "data": {
      "image/png": "[encoded data removed]",
      "text/plain": [
       "<Figure size 720x720 with 2 Axes>"
      ]
     },
     "metadata": {
      "needs_background": "light"
     },
     "output_type": "display_data"
    },
    {
     "data": {
      "text/plain": [
       "<Figure size 432x288 with 0 Axes>"
      ]
     },
     "metadata": {},
     "output_type": "display_data"
    }
   ],
   "source": [
    "svr = svm.SVR(kernel=\"poly\", C=1.0, gamma = 0.2, degree = 2)\n",
    "svr = svr.fit(xtrain,ytrain)\n",
    "\n",
    "true_pred_plot(ytrain, svr.predict(xtrain), ytest, svr.predict(xtest))"
   ]
  },
  {
   "cell_type": "code",
   "execution_count": 14,
   "id": "23dc3ed2-d38d-4ce9-86a7-a1a57896a884",
   "metadata": {
    "execution": {
     "iopub.execute_input": "2022-10-28T07:34:06.786442Z",
     "iopub.status.busy": "2022-10-28T07:34:06.786442Z",
     "iopub.status.idle": "2022-10-28T07:34:09.802228Z",
     "shell.execute_reply": "2022-10-28T07:34:09.802228Z",
     "shell.execute_reply.started": "2022-10-28T07:34:06.786442Z"
    },
    "tags": []
   },
   "outputs": [
    {
     "name": "stdin",
     "output_type": "stream",
     "text": [
      "Do you want to launch ? [y/n] n\n"
     ]
    }
   ],
   "source": [
    "from sklearn import kernel_ridge\n",
    "#let's try with a ridge regression\n",
    "\n",
    "x = input('Do you want to launch ? [y/n]')\n",
    "if x == 'y':\n",
    "    alpha_range = [1.0, 5.0, 10.0, 100.0]\n",
    "    kernels = ['linear', 'poly', 'sigmoid', 'rbf']\n",
    "    degrees = [3,4,5]\n",
    "    gamma_range  = np.logspace(-2, 1, 10)\n",
    "\n",
    "\n",
    "    param_grid = {'gamma' : gamma_range, 'kernel' : kernels, 'degree' : degrees, 'alpha' : alpha_range}\n",
    "    \n",
    "    score = 'neg_mean_absolute_percentage_error'\n",
    "\n",
    "    kernel_ridge_cv = GridSearchCV(kernel_ridge.KernelRidge(), param_grid, cv = 3, scoring = score, verbose = 1)\n",
    "\n",
    "    kernel_ridge_cv.fit(xtrain, ytrain)\n",
    "\n",
    "    print('Best params on training set : {}'.format(kernel_ridge_cv.best_params_))"
   ]
  },
  {
   "cell_type": "code",
   "execution_count": 15,
   "id": "0ac765ef-774b-4160-8c8d-5543b44202a6",
   "metadata": {
    "execution": {
     "iopub.execute_input": "2022-10-28T07:34:09.804230Z",
     "iopub.status.busy": "2022-10-28T07:34:09.803231Z",
     "iopub.status.idle": "2022-10-28T07:34:10.145261Z",
     "shell.execute_reply": "2022-10-28T07:34:10.145261Z",
     "shell.execute_reply.started": "2022-10-28T07:34:09.804230Z"
    },
    "tags": []
   },
   "outputs": [
    {
     "data": {
      "image/png": "[encoded data removed]",
      "text/plain": [
       "<Figure size 720x720 with 2 Axes>"
      ]
     },
     "metadata": {
      "needs_background": "light"
     },
     "output_type": "display_data"
    },
    {
     "data": {
      "text/plain": [
       "<Figure size 432x288 with 0 Axes>"
      ]
     },
     "metadata": {},
     "output_type": "display_data"
    }
   ],
   "source": [
    "model = kernel_ridge.KernelRidge(alpha = 100.0, kernel = 'rbf', degree = 3, gamma = 0.1)\n",
    "model = model.fit(xtrain, ytrain)\n",
    "\n",
    "true_pred_plot(ytrain, model.predict(xtrain), ytest, model.predict(xtest))"
   ]
  },
  {
   "cell_type": "markdown",
   "id": "27b30d39-eb07-4bc6-9b40-753127644a6b",
   "metadata": {},
   "source": [
    "## Neural network"
   ]
  },
  {
   "cell_type": "code",
   "execution_count": 16,
   "id": "10ba7dc1-8841-438d-8f24-2f406bd4e4e7",
   "metadata": {
    "execution": {
     "iopub.execute_input": "2022-10-28T07:34:10.147231Z",
     "iopub.status.busy": "2022-10-28T07:34:10.146253Z",
     "iopub.status.idle": "2022-10-28T07:34:12.728565Z",
     "shell.execute_reply": "2022-10-28T07:34:12.726562Z",
     "shell.execute_reply.started": "2022-10-28T07:34:10.147231Z"
    },
    "tags": []
   },
   "outputs": [],
   "source": [
    "import tensorflow as tf\n",
    "from tensorflow import keras\n",
    "from tensorflow.keras import layers"
   ]
  },
  {
   "cell_type": "code",
   "execution_count": 17,
   "id": "ae6fcc3d-1ed1-4744-8aa8-1fee512a03ca",
   "metadata": {
    "execution": {
     "iopub.execute_input": "2022-10-28T07:34:12.729563Z",
     "iopub.status.busy": "2022-10-28T07:34:12.729563Z",
     "iopub.status.idle": "2022-10-28T07:34:12.901185Z",
     "shell.execute_reply": "2022-10-28T07:34:12.901185Z",
     "shell.execute_reply.started": "2022-10-28T07:34:12.729563Z"
    },
    "tags": []
   },
   "outputs": [
    {
     "name": "stdout",
     "output_type": "stream",
     "text": [
      "Model: \"sequential\"\n",
      "_________________________________________________________________\n",
      " Layer (type)                Output Shape              Param #   \n",
      "=================================================================\n",
      " dense (Dense)               (None, 1)                 575       \n",
      "                                                                 \n",
      "=================================================================\n",
      "Total params: 575\n",
      "Trainable params: 575\n",
      "Non-trainable params: 0\n",
      "_________________________________________________________________\n"
     ]
    }
   ],
   "source": [
    "#test with a single perceptron\n",
    "model = keras.Sequential()\n",
    "model.add(keras.Input(shape = xtrain.shape[1]))\n",
    "model.add(layers.Dense(1,input_dim = 2, activation = 'linear'))\n",
    "\n",
    "model.compile(metrics = [tf.keras.metrics.RootMeanSquaredError()], loss = 'mean_absolute_percentage_error', optimizer = 'adam')\n",
    "\n",
    "model.summary()"
   ]
  },
  {
   "cell_type": "code",
   "execution_count": 18,
   "id": "ef614bee-95aa-4226-814a-26d0a235f876",
   "metadata": {
    "execution": {
     "iopub.execute_input": "2022-10-28T07:34:12.902169Z",
     "iopub.status.busy": "2022-10-28T07:34:12.902169Z",
     "iopub.status.idle": "2022-10-28T07:34:28.296446Z",
     "shell.execute_reply": "2022-10-28T07:34:28.296446Z",
     "shell.execute_reply.started": "2022-10-28T07:34:12.902169Z"
    },
    "tags": []
   },
   "outputs": [
    {
     "name": "stdout",
     "output_type": "stream",
     "text": [
      "Epoch 1/50\n",
      "330/330 [==============================] - 1s 933us/step - loss: 99.1830 - root_mean_squared_error: 705.2687\n",
      "Epoch 2/50\n",
      "330/330 [==============================] - 0s 960us/step - loss: 96.6329 - root_mean_squared_error: 705.6111\n",
      "Epoch 3/50\n",
      "330/330 [==============================] - 0s 873us/step - loss: 94.8365 - root_mean_squared_error: 705.8238\n",
      "Epoch 4/50\n",
      "330/330 [==============================] - 0s 946us/step - loss: 93.3908 - root_mean_squared_error: 706.0606\n",
      "Epoch 5/50\n",
      "330/330 [==============================] - 0s 887us/step - loss: 92.0884 - root_mean_squared_error: 706.1723\n",
      "Epoch 6/50\n",
      "330/330 [==============================] - 0s 884us/step - loss: 91.7097 - root_mean_squared_error: 706.4091\n",
      "Epoch 7/50\n",
      "330/330 [==============================] - 0s 872us/step - loss: 90.5562 - root_mean_squared_error: 706.4735\n",
      "Epoch 8/50\n",
      "330/330 [==============================] - 0s 887us/step - loss: 89.8962 - root_mean_squared_error: 706.6469\n",
      "Epoch 9/50\n",
      "330/330 [==============================] - 0s 889us/step - loss: 89.3477 - root_mean_squared_error: 706.7641\n",
      "Epoch 10/50\n",
      "330/330 [==============================] - 0s 907us/step - loss: 88.8046 - root_mean_squared_error: 706.9089\n",
      "Epoch 11/50\n",
      "330/330 [==============================] - 0s 868us/step - loss: 88.3983 - root_mean_squared_error: 707.0626\n",
      "Epoch 12/50\n",
      "330/330 [==============================] - 0s 872us/step - loss: 87.7102 - root_mean_squared_error: 707.1568\n",
      "Epoch 13/50\n",
      "330/330 [==============================] - 0s 883us/step - loss: 87.2987 - root_mean_squared_error: 707.2889\n",
      "Epoch 14/50\n",
      "330/330 [==============================] - 0s 880us/step - loss: 87.0565 - root_mean_squared_error: 707.4419\n",
      "Epoch 15/50\n",
      "330/330 [==============================] - 0s 874us/step - loss: 86.2240 - root_mean_squared_error: 707.4879\n",
      "Epoch 16/50\n",
      "330/330 [==============================] - 0s 890us/step - loss: 86.2978 - root_mean_squared_error: 707.6115\n",
      "Epoch 17/50\n",
      "330/330 [==============================] - 0s 895us/step - loss: 85.6178 - root_mean_squared_error: 707.7579\n",
      "Epoch 18/50\n",
      "330/330 [==============================] - 0s 877us/step - loss: 85.5553 - root_mean_squared_error: 707.7438\n",
      "Epoch 19/50\n",
      "330/330 [==============================] - 0s 895us/step - loss: 85.0261 - root_mean_squared_error: 707.9298\n",
      "Epoch 20/50\n",
      "330/330 [==============================] - 0s 921us/step - loss: 84.8194 - root_mean_squared_error: 707.9406\n",
      "Epoch 21/50\n",
      "330/330 [==============================] - 0s 899us/step - loss: 84.4233 - root_mean_squared_error: 708.1248\n",
      "Epoch 22/50\n",
      "330/330 [==============================] - 0s 898us/step - loss: 84.3152 - root_mean_squared_error: 708.1506\n",
      "Epoch 23/50\n",
      "330/330 [==============================] - 0s 897us/step - loss: 84.0952 - root_mean_squared_error: 708.1850\n",
      "Epoch 24/50\n",
      "330/330 [==============================] - 0s 896us/step - loss: 83.6626 - root_mean_squared_error: 708.3719\n",
      "Epoch 25/50\n",
      "330/330 [==============================] - 0s 885us/step - loss: 83.6297 - root_mean_squared_error: 708.4374\n",
      "Epoch 26/50\n",
      "330/330 [==============================] - 0s 884us/step - loss: 83.0033 - root_mean_squared_error: 708.4658\n",
      "Epoch 27/50\n",
      "330/330 [==============================] - 0s 894us/step - loss: 83.2689 - root_mean_squared_error: 708.5728\n",
      "Epoch 28/50\n",
      "330/330 [==============================] - 0s 893us/step - loss: 82.5715 - root_mean_squared_error: 708.6771\n",
      "Epoch 29/50\n",
      "330/330 [==============================] - 0s 881us/step - loss: 82.7868 - root_mean_squared_error: 708.7920\n",
      "Epoch 30/50\n",
      "330/330 [==============================] - 0s 895us/step - loss: 82.2540 - root_mean_squared_error: 708.7784\n",
      "Epoch 31/50\n",
      "330/330 [==============================] - 0s 880us/step - loss: 82.3186 - root_mean_squared_error: 708.8461\n",
      "Epoch 32/50\n",
      "330/330 [==============================] - 0s 890us/step - loss: 81.8987 - root_mean_squared_error: 708.9453\n",
      "Epoch 33/50\n",
      "330/330 [==============================] - 0s 964us/step - loss: 81.7822 - root_mean_squared_error: 709.0702\n",
      "Epoch 34/50\n",
      "330/330 [==============================] - 0s 895us/step - loss: 81.5921 - root_mean_squared_error: 709.0756\n",
      "Epoch 35/50\n",
      "330/330 [==============================] - 0s 909us/step - loss: 81.4059 - root_mean_squared_error: 709.1475\n",
      "Epoch 36/50\n",
      "330/330 [==============================] - 0s 910us/step - loss: 81.3460 - root_mean_squared_error: 709.2671\n",
      "Epoch 37/50\n",
      "330/330 [==============================] - 0s 905us/step - loss: 81.0420 - root_mean_squared_error: 709.2914\n",
      "Epoch 38/50\n",
      "330/330 [==============================] - 0s 946us/step - loss: 80.8844 - root_mean_squared_error: 709.3139\n",
      "Epoch 39/50\n",
      "330/330 [==============================] - 0s 899us/step - loss: 80.7440 - root_mean_squared_error: 709.3983\n",
      "Epoch 40/50\n",
      "330/330 [==============================] - 0s 902us/step - loss: 80.6753 - root_mean_squared_error: 709.4917\n",
      "Epoch 41/50\n",
      "330/330 [==============================] - 0s 892us/step - loss: 80.3867 - root_mean_squared_error: 709.5345\n",
      "Epoch 42/50\n",
      "330/330 [==============================] - 0s 907us/step - loss: 80.3200 - root_mean_squared_error: 709.5721\n",
      "Epoch 43/50\n",
      "330/330 [==============================] - 0s 920us/step - loss: 80.0620 - root_mean_squared_error: 709.6155\n",
      "Epoch 44/50\n",
      "330/330 [==============================] - 0s 898us/step - loss: 80.1558 - root_mean_squared_error: 709.7719\n",
      "Epoch 45/50\n",
      "330/330 [==============================] - 0s 881us/step - loss: 79.8539 - root_mean_squared_error: 709.7430\n",
      "Epoch 46/50\n",
      "330/330 [==============================] - 0s 895us/step - loss: 79.8368 - root_mean_squared_error: 709.7921\n",
      "Epoch 47/50\n",
      "330/330 [==============================] - 0s 960us/step - loss: 79.6307 - root_mean_squared_error: 709.8879\n",
      "Epoch 48/50\n",
      "330/330 [==============================] - 0s 915us/step - loss: 79.4417 - root_mean_squared_error: 709.9377\n",
      "Epoch 49/50\n",
      "330/330 [==============================] - 0s 897us/step - loss: 79.4306 - root_mean_squared_error: 710.0067\n",
      "Epoch 50/50\n",
      "330/330 [==============================] - 0s 921us/step - loss: 79.4718 - root_mean_squared_error: 710.0418\n"
     ]
    }
   ],
   "source": [
    "history = model.fit(xtrain, ytrain, epochs = 50, batch_size = 4, verbose = 1)"
   ]
  },
  {
   "cell_type": "code",
   "execution_count": 19,
   "id": "17a6d228-d235-4d48-a400-c9021e8aceac",
   "metadata": {
    "execution": {
     "iopub.execute_input": "2022-10-28T07:34:28.297416Z",
     "iopub.status.busy": "2022-10-28T07:34:28.297416Z",
     "iopub.status.idle": "2022-10-28T07:37:19.880468Z",
     "shell.execute_reply": "2022-10-28T07:37:19.880468Z",
     "shell.execute_reply.started": "2022-10-28T07:34:28.297416Z"
    },
    "tags": []
   },
   "outputs": [
    {
     "name": "stdout",
     "output_type": "stream",
     "text": [
      "Model: \"sequential_1\"\n",
      "_________________________________________________________________\n",
      " Layer (type)                Output Shape              Param #   \n",
      "=================================================================\n",
      " layer1 (Dense)              (None, 574)               330050    \n",
      "                                                                 \n",
      " layer2 (Dense)              (None, 383)               220225    \n",
      "                                                                 \n",
      " layer2b (Dense)             (None, 287)               110208    \n",
      "                                                                 \n",
      " layer3 (Dense)              (None, 82)                23616     \n",
      "                                                                 \n",
      " layer4 (Dense)              (None, 20)                1660      \n",
      "                                                                 \n",
      " layer5 (Dense)              (None, 4)                 84        \n",
      "                                                                 \n",
      " layer6 (Dense)              (None, 1)                 5         \n",
      "                                                                 \n",
      "=================================================================\n",
      "Total params: 685,848\n",
      "Trainable params: 685,848\n",
      "Non-trainable params: 0\n",
      "_________________________________________________________________\n",
      "Epoch 1/50\n",
      "1320/1320 [==============================] - 4s 3ms/step - loss: 99.8013 - root_mean_squared_error: 704.4254\n",
      "Epoch 2/50\n",
      "1320/1320 [==============================] - 4s 3ms/step - loss: 97.9902 - root_mean_squared_error: 704.7383\n",
      "Epoch 3/50\n",
      "1320/1320 [==============================] - 3s 3ms/step - loss: 96.8716 - root_mean_squared_error: 704.6747\n",
      "Epoch 4/50\n",
      "1320/1320 [==============================] - 3s 3ms/step - loss: 95.9447 - root_mean_squared_error: 704.6289\n",
      "Epoch 5/50\n",
      "1320/1320 [==============================] - 3s 3ms/step - loss: 95.4016 - root_mean_squared_error: 704.5862\n",
      "Epoch 6/50\n",
      "1320/1320 [==============================] - 3s 3ms/step - loss: 94.9000 - root_mean_squared_error: 704.5474\n",
      "Epoch 7/50\n",
      "1320/1320 [==============================] - 3s 3ms/step - loss: 94.5620 - root_mean_squared_error: 704.5203\n",
      "Epoch 8/50\n",
      "1320/1320 [==============================] - 3s 3ms/step - loss: 94.2548 - root_mean_squared_error: 704.4925\n",
      "Epoch 9/50\n",
      "1320/1320 [==============================] - 3s 3ms/step - loss: 93.9670 - root_mean_squared_error: 704.4666\n",
      "Epoch 10/50\n",
      "1320/1320 [==============================] - 3s 3ms/step - loss: 93.7089 - root_mean_squared_error: 704.4423\n",
      "Epoch 11/50\n",
      "1320/1320 [==============================] - 3s 2ms/step - loss: 93.4900 - root_mean_squared_error: 704.4127\n",
      "Epoch 12/50\n",
      "1320/1320 [==============================] - 3s 3ms/step - loss: 93.3445 - root_mean_squared_error: 704.3938\n",
      "Epoch 13/50\n",
      "1320/1320 [==============================] - 3s 3ms/step - loss: 93.2311 - root_mean_squared_error: 704.3687\n",
      "Epoch 14/50\n",
      "1320/1320 [==============================] - 3s 3ms/step - loss: 93.1084 - root_mean_squared_error: 704.3510\n",
      "Epoch 15/50\n",
      "1320/1320 [==============================] - 3s 3ms/step - loss: 93.0142 - root_mean_squared_error: 704.3376\n",
      "Epoch 16/50\n",
      "1320/1320 [==============================] - 3s 3ms/step - loss: 92.9253 - root_mean_squared_error: 704.3223\n",
      "Epoch 17/50\n",
      "1320/1320 [==============================] - 3s 3ms/step - loss: 92.8320 - root_mean_squared_error: 704.3045\n",
      "Epoch 18/50\n",
      "1320/1320 [==============================] - 3s 3ms/step - loss: 92.7335 - root_mean_squared_error: 704.2870\n",
      "Epoch 19/50\n",
      "1320/1320 [==============================] - 3s 3ms/step - loss: 92.6483 - root_mean_squared_error: 704.2729\n",
      "Epoch 20/50\n",
      "1320/1320 [==============================] - 3s 3ms/step - loss: 92.5821 - root_mean_squared_error: 704.2582\n",
      "Epoch 21/50\n",
      "1320/1320 [==============================] - 3s 3ms/step - loss: 92.5257 - root_mean_squared_error: 704.2426\n",
      "Epoch 22/50\n",
      "1320/1320 [==============================] - 3s 3ms/step - loss: 92.4685 - root_mean_squared_error: 704.2305\n",
      "Epoch 23/50\n",
      "1320/1320 [==============================] - 3s 3ms/step - loss: 92.4346 - root_mean_squared_error: 704.2179\n",
      "Epoch 24/50\n",
      "1320/1320 [==============================] - 3s 3ms/step - loss: 92.4009 - root_mean_squared_error: 704.2104\n",
      "Epoch 25/50\n",
      "1320/1320 [==============================] - 3s 3ms/step - loss: 92.3707 - root_mean_squared_error: 704.2000\n",
      "Epoch 26/50\n",
      "1320/1320 [==============================] - 3s 3ms/step - loss: 92.3352 - root_mean_squared_error: 704.1954\n",
      "Epoch 27/50\n",
      "1320/1320 [==============================] - 4s 3ms/step - loss: 92.3125 - root_mean_squared_error: 704.1770\n",
      "Epoch 28/50\n",
      "1320/1320 [==============================] - 3s 3ms/step - loss: 92.2766 - root_mean_squared_error: 704.1737\n",
      "Epoch 29/50\n",
      "1320/1320 [==============================] - 3s 3ms/step - loss: 92.2534 - root_mean_squared_error: 704.1672\n",
      "Epoch 30/50\n",
      "1320/1320 [==============================] - 3s 3ms/step - loss: 92.2409 - root_mean_squared_error: 704.1501\n",
      "Epoch 31/50\n",
      "1320/1320 [==============================] - 3s 3ms/step - loss: 92.2095 - root_mean_squared_error: 704.1435\n",
      "Epoch 32/50\n",
      "1320/1320 [==============================] - 3s 3ms/step - loss: 92.1950 - root_mean_squared_error: 704.1353\n",
      "Epoch 33/50\n",
      "1320/1320 [==============================] - 4s 3ms/step - loss: 92.1782 - root_mean_squared_error: 704.1274\n",
      "Epoch 34/50\n",
      "1320/1320 [==============================] - 3s 3ms/step - loss: 92.1660 - root_mean_squared_error: 704.1205\n",
      "Epoch 35/50\n",
      "1320/1320 [==============================] - 3s 3ms/step - loss: 92.1477 - root_mean_squared_error: 704.1183\n",
      "Epoch 36/50\n",
      "1320/1320 [==============================] - 3s 3ms/step - loss: 92.1393 - root_mean_squared_error: 704.1102\n",
      "Epoch 37/50\n",
      "1320/1320 [==============================] - 3s 3ms/step - loss: 92.1363 - root_mean_squared_error: 704.1014\n",
      "Epoch 38/50\n",
      "1320/1320 [==============================] - 3s 3ms/step - loss: 92.1284 - root_mean_squared_error: 704.0980\n",
      "Epoch 39/50\n",
      "1320/1320 [==============================] - 3s 3ms/step - loss: 92.1197 - root_mean_squared_error: 704.0966\n",
      "Epoch 40/50\n",
      "1320/1320 [==============================] - 3s 3ms/step - loss: 92.1234 - root_mean_squared_error: 704.0850\n",
      "Epoch 41/50\n",
      "1320/1320 [==============================] - 3s 3ms/step - loss: 92.1148 - root_mean_squared_error: 704.0842\n",
      "Epoch 42/50\n",
      "1320/1320 [==============================] - 3s 3ms/step - loss: 92.1125 - root_mean_squared_error: 704.0847\n",
      "Epoch 43/50\n",
      "1320/1320 [==============================] - 3s 3ms/step - loss: 92.1109 - root_mean_squared_error: 704.0814\n",
      "Epoch 44/50\n",
      "1320/1320 [==============================] - 3s 3ms/step - loss: 92.1127 - root_mean_squared_error: 704.0737\n",
      "Epoch 45/50\n",
      "1320/1320 [==============================] - 3s 3ms/step - loss: 92.1176 - root_mean_squared_error: 704.0729\n",
      "Epoch 46/50\n",
      "1320/1320 [==============================] - 3s 3ms/step - loss: 92.1073 - root_mean_squared_error: 704.0709\n",
      "Epoch 47/50\n",
      "1320/1320 [==============================] - 3s 3ms/step - loss: 92.1068 - root_mean_squared_error: 704.0682\n",
      "Epoch 48/50\n",
      "1320/1320 [==============================] - 3s 3ms/step - loss: 92.1104 - root_mean_squared_error: 704.0653\n",
      "Epoch 49/50\n",
      "1320/1320 [==============================] - 3s 3ms/step - loss: 92.1135 - root_mean_squared_error: 704.0593\n",
      "Epoch 50/50\n",
      "1320/1320 [==============================] - 3s 3ms/step - loss: 92.1028 - root_mean_squared_error: 704.0630\n"
     ]
    }
   ],
   "source": [
    "#now with a multi layer network\n",
    "\n",
    "model2 = keras.Sequential(\n",
    "    [\n",
    "        layers.Dense(xtrain.shape[1], activation=\"relu\", name=\"layer1\", input_shape=(xtrain.shape[1],), input_dim = 2),\n",
    "        layers.Dense(383, activation=\"relu\", name=\"layer2\"),\n",
    "        layers.Dense(287, activation=\"relu\", name=\"layer2b\"),\n",
    "        layers.Dense(82, activation=\"relu\", name=\"layer3\"),\n",
    "        layers.Dense(20, activation=\"relu\", name=\"layer4\"),\n",
    "        layers.Dense(4, activation = \"relu\", name = \"layer5\"),\n",
    "        layers.Dense(1, activation = 'linear', name=\"layer6\"),\n",
    "    ]\n",
    ")\n",
    "\n",
    "model2.compile(metrics = [tf.keras.metrics.RootMeanSquaredError()], loss = 'mean_absolute_percentage_error', optimizer = 'adam')\n",
    "\n",
    "model2.summary()\n",
    "\n",
    "history2 = model2.fit(xtrain, ytrain, epochs = 50, batch_size = 1, verbose = 1)"
   ]
  },
  {
   "cell_type": "code",
   "execution_count": 20,
   "id": "796021a2-e991-4b29-856f-f42c645d6195",
   "metadata": {
    "execution": {
     "iopub.execute_input": "2022-10-28T07:37:19.881448Z",
     "iopub.status.busy": "2022-10-28T07:37:19.881448Z",
     "iopub.status.idle": "2022-10-28T07:37:53.907815Z",
     "shell.execute_reply": "2022-10-28T07:37:53.906815Z",
     "shell.execute_reply.started": "2022-10-28T07:37:19.881448Z"
    },
    "tags": []
   },
   "outputs": [
    {
     "name": "stdout",
     "output_type": "stream",
     "text": [
      "Model: \"sequential_2\"\n",
      "_________________________________________________________________\n",
      " Layer (type)                Output Shape              Param #   \n",
      "=================================================================\n",
      " layer1 (Dense)              (None, 574)               330050    \n",
      "                                                                 \n",
      " layer2 (Dense)              (None, 287)               165025    \n",
      "                                                                 \n",
      " layer3 (Dense)              (None, 1)                 288       \n",
      "                                                                 \n",
      "=================================================================\n",
      "Total params: 495,363\n",
      "Trainable params: 495,363\n",
      "Non-trainable params: 0\n",
      "_________________________________________________________________\n",
      "Epoch 1/50\n",
      "330/330 [==============================] - 1s 2ms/step - loss: 99.0791 - root_mean_squared_error: 702.3220\n",
      "Epoch 2/50\n",
      "330/330 [==============================] - 1s 2ms/step - loss: 80.8697 - root_mean_squared_error: 699.4575\n",
      "Epoch 3/50\n",
      "330/330 [==============================] - 1s 2ms/step - loss: 77.2305 - root_mean_squared_error: 695.8672\n",
      "Epoch 4/50\n",
      "330/330 [==============================] - 1s 2ms/step - loss: 70.9446 - root_mean_squared_error: 690.3104\n",
      "Epoch 5/50\n",
      "330/330 [==============================] - 1s 2ms/step - loss: 66.1789 - root_mean_squared_error: 684.3820\n",
      "Epoch 6/50\n",
      "330/330 [==============================] - 1s 2ms/step - loss: 63.0721 - root_mean_squared_error: 678.7582\n",
      "Epoch 7/50\n",
      "330/330 [==============================] - 1s 2ms/step - loss: 60.6877 - root_mean_squared_error: 669.7111\n",
      "Epoch 8/50\n",
      "330/330 [==============================] - 1s 2ms/step - loss: 61.9304 - root_mean_squared_error: 661.8438\n",
      "Epoch 9/50\n",
      "330/330 [==============================] - 1s 2ms/step - loss: 56.9022 - root_mean_squared_error: 652.5529\n",
      "Epoch 10/50\n",
      "330/330 [==============================] - 1s 2ms/step - loss: 54.8907 - root_mean_squared_error: 643.2493\n",
      "Epoch 11/50\n",
      "330/330 [==============================] - 1s 2ms/step - loss: 54.8642 - root_mean_squared_error: 635.5123\n",
      "Epoch 12/50\n",
      "330/330 [==============================] - 1s 2ms/step - loss: 52.4453 - root_mean_squared_error: 629.9752\n",
      "Epoch 13/50\n",
      "330/330 [==============================] - 1s 2ms/step - loss: 50.7062 - root_mean_squared_error: 624.2358\n",
      "Epoch 14/50\n",
      "330/330 [==============================] - 1s 2ms/step - loss: 50.9977 - root_mean_squared_error: 616.4965\n",
      "Epoch 15/50\n",
      "330/330 [==============================] - 1s 2ms/step - loss: 49.7973 - root_mean_squared_error: 615.1326\n",
      "Epoch 16/50\n",
      "330/330 [==============================] - 1s 2ms/step - loss: 48.8247 - root_mean_squared_error: 606.4948\n",
      "Epoch 17/50\n",
      "330/330 [==============================] - 1s 2ms/step - loss: 48.3306 - root_mean_squared_error: 600.6295\n",
      "Epoch 18/50\n",
      "330/330 [==============================] - 1s 2ms/step - loss: 46.7996 - root_mean_squared_error: 595.1530\n",
      "Epoch 19/50\n",
      "330/330 [==============================] - 1s 2ms/step - loss: 46.4372 - root_mean_squared_error: 592.1503\n",
      "Epoch 20/50\n",
      "330/330 [==============================] - 1s 2ms/step - loss: 45.6492 - root_mean_squared_error: 586.0665\n",
      "Epoch 21/50\n",
      "330/330 [==============================] - 1s 2ms/step - loss: 47.1108 - root_mean_squared_error: 581.1002\n",
      "Epoch 22/50\n",
      "330/330 [==============================] - 1s 2ms/step - loss: 44.5740 - root_mean_squared_error: 574.2769\n",
      "Epoch 23/50\n",
      "330/330 [==============================] - 1s 2ms/step - loss: 44.9695 - root_mean_squared_error: 575.9258\n",
      "Epoch 24/50\n",
      "330/330 [==============================] - 1s 2ms/step - loss: 43.5103 - root_mean_squared_error: 562.2935\n",
      "Epoch 25/50\n",
      "330/330 [==============================] - 1s 2ms/step - loss: 43.6771 - root_mean_squared_error: 555.2739\n",
      "Epoch 26/50\n",
      "330/330 [==============================] - 1s 2ms/step - loss: 43.1263 - root_mean_squared_error: 545.6900\n",
      "Epoch 27/50\n",
      "330/330 [==============================] - 1s 2ms/step - loss: 42.5713 - root_mean_squared_error: 546.8682\n",
      "Epoch 28/50\n",
      "330/330 [==============================] - 1s 2ms/step - loss: 41.7106 - root_mean_squared_error: 538.5436\n",
      "Epoch 29/50\n",
      "330/330 [==============================] - 1s 2ms/step - loss: 41.1173 - root_mean_squared_error: 530.0907\n",
      "Epoch 30/50\n",
      "330/330 [==============================] - 1s 2ms/step - loss: 40.2197 - root_mean_squared_error: 521.1156\n",
      "Epoch 31/50\n",
      "330/330 [==============================] - 1s 2ms/step - loss: 40.0047 - root_mean_squared_error: 515.0380\n",
      "Epoch 32/50\n",
      "330/330 [==============================] - 1s 2ms/step - loss: 39.6420 - root_mean_squared_error: 505.7352\n",
      "Epoch 33/50\n",
      "330/330 [==============================] - 1s 2ms/step - loss: 39.9075 - root_mean_squared_error: 494.5399\n",
      "Epoch 34/50\n",
      "330/330 [==============================] - 1s 2ms/step - loss: 38.7887 - root_mean_squared_error: 498.4742\n",
      "Epoch 35/50\n",
      "330/330 [==============================] - 1s 2ms/step - loss: 39.0085 - root_mean_squared_error: 475.4764\n",
      "Epoch 36/50\n",
      "330/330 [==============================] - 1s 2ms/step - loss: 37.6924 - root_mean_squared_error: 471.9417\n",
      "Epoch 37/50\n",
      "330/330 [==============================] - 1s 2ms/step - loss: 37.2319 - root_mean_squared_error: 461.8769\n",
      "Epoch 38/50\n",
      "330/330 [==============================] - 1s 2ms/step - loss: 37.1252 - root_mean_squared_error: 465.6386\n",
      "Epoch 39/50\n",
      "330/330 [==============================] - 1s 2ms/step - loss: 36.4174 - root_mean_squared_error: 460.6150\n",
      "Epoch 40/50\n",
      "330/330 [==============================] - 1s 2ms/step - loss: 35.5794 - root_mean_squared_error: 451.0632\n",
      "Epoch 41/50\n",
      "330/330 [==============================] - 1s 2ms/step - loss: 36.4922 - root_mean_squared_error: 445.5472\n",
      "Epoch 42/50\n",
      "330/330 [==============================] - 1s 2ms/step - loss: 34.7265 - root_mean_squared_error: 431.6315\n",
      "Epoch 43/50\n",
      "330/330 [==============================] - 1s 2ms/step - loss: 35.2794 - root_mean_squared_error: 426.7534\n",
      "Epoch 44/50\n",
      "330/330 [==============================] - 1s 2ms/step - loss: 34.8846 - root_mean_squared_error: 419.6224\n",
      "Epoch 45/50\n",
      "330/330 [==============================] - 1s 2ms/step - loss: 34.7046 - root_mean_squared_error: 415.3244\n",
      "Epoch 46/50\n",
      "330/330 [==============================] - 1s 2ms/step - loss: 34.6006 - root_mean_squared_error: 417.5621\n",
      "Epoch 47/50\n",
      "330/330 [==============================] - 1s 2ms/step - loss: 34.2057 - root_mean_squared_error: 407.7076\n",
      "Epoch 48/50\n",
      "330/330 [==============================] - 1s 2ms/step - loss: 34.0160 - root_mean_squared_error: 401.6876\n",
      "Epoch 49/50\n",
      "330/330 [==============================] - 1s 2ms/step - loss: 33.7180 - root_mean_squared_error: 407.6236\n",
      "Epoch 50/50\n",
      "330/330 [==============================] - 1s 2ms/step - loss: 33.9852 - root_mean_squared_error: 399.1935\n"
     ]
    }
   ],
   "source": [
    "model3 = keras.Sequential(\n",
    "    [\n",
    "        layers.Dense(xtrain.shape[1], activation=\"relu\", name=\"layer1\", input_shape=(xtrain.shape[1],), input_dim = 2),\n",
    "        layers.Dense(287, activation=\"relu\", name=\"layer2\"),\n",
    "        layers.Dense(1, activation = 'linear', name=\"layer3\"),\n",
    "    ]\n",
    ")\n",
    "\n",
    "model3.compile(metrics = [tf.keras.metrics.RootMeanSquaredError()], loss = 'mean_absolute_percentage_error', optimizer = 'adam')\n",
    "\n",
    "model3.summary()\n",
    "\n",
    "history3 = model3.fit(xtrain, ytrain, epochs = 50, batch_size = 4, verbose = 1)"
   ]
  }
 ],
 "metadata": {
  "kernelspec": {
   "display_name": "Python 3 (ipykernel)",
   "language": "python",
   "name": "python3"
  },
  "language_info": {
   "codemirror_mode": {
    "name": "ipython",
    "version": 3
   },
   "file_extension": ".py",
   "mimetype": "text/x-python",
   "name": "python",
   "nbconvert_exporter": "python",
   "pygments_lexer": "ipython3",
   "version": "3.9.12"
  }
 },
 "nbformat": 4,
 "nbformat_minor": 5
}
