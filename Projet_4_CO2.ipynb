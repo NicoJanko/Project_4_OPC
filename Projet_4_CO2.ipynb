{
 "cells": [
  {
   "cell_type": "markdown",
   "id": "2fb6cab8-d975-41e3-95f8-be280fd8eca2",
   "metadata": {},
   "source": [
    "# Modelisation de la consommation totale d'energie"
   ]
  },
  {
   "cell_type": "code",
   "execution_count": 1,
   "id": "ff631086-1f08-49b0-9844-8833ce2b57fc",
   "metadata": {
    "execution": {
     "iopub.execute_input": "2022-11-09T14:03:28.892507Z",
     "iopub.status.busy": "2022-11-09T14:03:28.892507Z",
     "iopub.status.idle": "2022-11-09T14:03:30.794616Z",
     "shell.execute_reply": "2022-11-09T14:03:30.792614Z",
     "shell.execute_reply.started": "2022-11-09T14:03:28.892507Z"
    },
    "tags": []
   },
   "outputs": [],
   "source": [
    "import pandas as pd\n",
    "import numpy as np \n",
    "import matplotlib.pyplot as plt\n",
    "import seaborn as sns\n",
    "from sklearn.model_selection import train_test_split, GridSearchCV\n",
    "import sklearn.preprocessing as sk_prepro\n",
    "from sklearn import metrics"
   ]
  },
  {
   "cell_type": "code",
   "execution_count": 2,
   "id": "121579be-483c-4051-98e6-1a39153a8573",
   "metadata": {
    "execution": {
     "iopub.execute_input": "2022-11-09T14:03:30.797615Z",
     "iopub.status.busy": "2022-11-09T14:03:30.796618Z",
     "iopub.status.idle": "2022-11-09T14:03:30.902613Z",
     "shell.execute_reply": "2022-11-09T14:03:30.902613Z",
     "shell.execute_reply.started": "2022-11-09T14:03:30.797615Z"
    },
    "tags": []
   },
   "outputs": [],
   "source": [
    "df = pd.read_csv('data_full.csv')"
   ]
  },
  {
   "cell_type": "code",
   "execution_count": 3,
   "id": "3d8984b7-8236-4e08-b8b2-ddfe192af60e",
   "metadata": {
    "execution": {
     "iopub.execute_input": "2022-11-09T14:03:30.904613Z",
     "iopub.status.busy": "2022-11-09T14:03:30.904613Z",
     "iopub.status.idle": "2022-11-09T14:03:30.917631Z",
     "shell.execute_reply": "2022-11-09T14:03:30.917631Z",
     "shell.execute_reply.started": "2022-11-09T14:03:30.904613Z"
    },
    "tags": []
   },
   "outputs": [],
   "source": [
    "data_num = df\n",
    "target_tag ='GHGEmissionsIntensity'\n",
    "target = data_num[target_tag]\n",
    "sqf = data_num['PropertyGFABuilding(s)']\n",
    "data_num = data_num.drop(labels = [target_tag,'SiteEnergyUse(kBtu)', 'ENERGYSTARScore','SiteEUI(kBtu/sf)', 'TotalGHGEmissions'], axis = 1)\n",
    "\n",
    "col_name_lib = {}\n",
    "col_name = data_num.columns\n",
    "for i,v in enumerate(col_name):\n",
    "    col_name_lib[f'{i}'] = v"
   ]
  },
  {
   "cell_type": "code",
   "execution_count": 4,
   "id": "d6e42a06-c50f-4760-af56-b86d619123bb",
   "metadata": {
    "execution": {
     "iopub.execute_input": "2022-11-09T14:03:30.919610Z",
     "iopub.status.busy": "2022-11-09T14:03:30.918611Z",
     "iopub.status.idle": "2022-11-09T14:03:30.948612Z",
     "shell.execute_reply": "2022-11-09T14:03:30.948612Z",
     "shell.execute_reply.started": "2022-11-09T14:03:30.919610Z"
    },
    "tags": []
   },
   "outputs": [
    {
     "name": "stdout",
     "output_type": "stream",
     "text": [
      "<class 'pandas.core.frame.DataFrame'>\n",
      "RangeIndex: 1630 entries, 0 to 1629\n",
      "Columns: 522 entries, BuildingType_Campus to ThirdLargestPropertyUseTypeGFA\n",
      "dtypes: float64(522)\n",
      "memory usage: 6.5 MB\n"
     ]
    }
   ],
   "source": [
    "data_num.info()"
   ]
  },
  {
   "cell_type": "markdown",
   "id": "ae5491d6-cd97-46a4-a2d1-c74d321697d0",
   "metadata": {},
   "source": [
    "## Modèle linéaire"
   ]
  },
  {
   "cell_type": "code",
   "execution_count": 5,
   "id": "31efd872-fd59-43f1-89f2-06ee288152bb",
   "metadata": {
    "execution": {
     "iopub.execute_input": "2022-11-09T14:03:30.949613Z",
     "iopub.status.busy": "2022-11-09T14:03:30.949613Z",
     "iopub.status.idle": "2022-11-09T14:03:31.042610Z",
     "shell.execute_reply": "2022-11-09T14:03:31.042610Z",
     "shell.execute_reply.started": "2022-11-09T14:03:30.949613Z"
    },
    "tags": []
   },
   "outputs": [],
   "source": [
    "from sklearn.linear_model import Ridge\n",
    "from sklearn import svm\n",
    "from sklearn.neighbors import KNeighborsRegressor"
   ]
  },
  {
   "cell_type": "code",
   "execution_count": 6,
   "id": "df57154a-6b95-49f2-b3d8-30dcd8e16d4c",
   "metadata": {
    "execution": {
     "iopub.execute_input": "2022-11-09T14:03:31.044611Z",
     "iopub.status.busy": "2022-11-09T14:03:31.043611Z",
     "iopub.status.idle": "2022-11-09T14:03:31.058620Z",
     "shell.execute_reply": "2022-11-09T14:03:31.058620Z",
     "shell.execute_reply.started": "2022-11-09T14:03:31.044611Z"
    },
    "tags": []
   },
   "outputs": [],
   "source": [
    "from sklearn import linear_model\n",
    "line_reg = linear_model.LinearRegression()"
   ]
  },
  {
   "cell_type": "code",
   "execution_count": 7,
   "id": "74cd14cd-9495-4c1c-895a-017e4e90a10a",
   "metadata": {
    "execution": {
     "iopub.execute_input": "2022-11-09T14:03:31.060613Z",
     "iopub.status.busy": "2022-11-09T14:03:31.059610Z",
     "iopub.status.idle": "2022-11-09T14:03:31.105609Z",
     "shell.execute_reply": "2022-11-09T14:03:31.105609Z",
     "shell.execute_reply.started": "2022-11-09T14:03:31.060613Z"
    },
    "tags": []
   },
   "outputs": [],
   "source": [
    "#first let's test this on knregressoe\n",
    "xtrain, xtest, ytrain, ytest, sqftrain, sqftest = train_test_split(data_num, target, sqf, test_size = 0.2)\n",
    "\n",
    "df_res = xtest\n",
    "\n",
    "#let's standard scale\n",
    "\n",
    "sscaler = sk_prepro.StandardScaler()\n",
    "sscaler_fit = sscaler.fit(xtrain)\n",
    "xtrain = sscaler_fit.transform(xtrain)\n",
    "xtest = sscaler_fit.transform(xtest)\n",
    "#log scale the target\n",
    "ytrain = np.log(ytrain)\n",
    "ytest = np.log(ytest)\n",
    "\n",
    "sqftrain = np.array(sqftrain).reshape(-1,1)\n",
    "sqftest = np.array(sqftest).reshape(-1,1)"
   ]
  },
  {
   "cell_type": "code",
   "execution_count": 8,
   "id": "127c7198-7b1b-4a8f-bd84-8b4f5145d06b",
   "metadata": {
    "execution": {
     "iopub.execute_input": "2022-11-09T14:03:31.106611Z",
     "iopub.status.busy": "2022-11-09T14:03:31.106611Z",
     "iopub.status.idle": "2022-11-09T14:03:31.121610Z",
     "shell.execute_reply": "2022-11-09T14:03:31.121610Z",
     "shell.execute_reply.started": "2022-11-09T14:03:31.106611Z"
    },
    "tags": []
   },
   "outputs": [],
   "source": [
    "def true_pred_plot(y_train,pred_train, y_test, pred_test):\n",
    "    fig, ax = plt.subplots(2, figsize = (10,10))\n",
    "    \n",
    "    y_train= np.array(np.exp(y_train)).reshape(-1,1)\n",
    "    pred_train = np.array(np.exp(pred_train)).reshape(-1,1)\n",
    "    y_test = np.array(np.exp(y_test)).reshape(-1,1)\n",
    "    pred_test = np.array(np.exp(pred_test)).reshape(-1,1)\n",
    "    \n",
    "    \n",
    "    \n",
    "    y_train = (y_train/1000)*sqftrain\n",
    "    pred_train = (pred_train/1000)*sqftrain\n",
    "    \n",
    "    y_test = (y_test/1000)*sqftest\n",
    "    pred_test = (pred_test/1000)*sqftest\n",
    "    \n",
    "\n",
    "    \n",
    "    line_reg_train = line_reg.fit(pred_train,y_train)\n",
    "    r2_train = line_reg_train.score(pred_train,y_train)\n",
    "    rmse_train = (np.sqrt(metrics.mean_squared_error(y_train, pred_train))/np.mean(y_train))\n",
    "    a = float(line_reg_train.coef_)\n",
    "    b= line_reg_train.intercept_\n",
    "    ax[0].scatter( y_train, pred_train)\n",
    "    ax[0].plot([a*np.abs(b)+b, a*y_train.max()+b],[np.abs(b), ytrain.max()], linestyle = 'dashed')\n",
    "    ax[0].text(0.7,0.4,'R2 : {:.3f} NRMSE : {: .2f}'.format(r2_train,rmse_train), transform = ax[0].transAxes)\n",
    "    ax[0].set_xlabel('True values')\n",
    "    ax[0].set_ylabel('Predicted values')\n",
    "    ax[0].set_xlim(y_train.min(),y_train.max())\n",
    "    ax[0].set_ylim(pred_train.min(),pred_train.max())\n",
    "    ax[0].set_title('On train values')\n",
    "\n",
    "\n",
    "    \n",
    "    line_reg_test  = line_reg.fit(pred_test,y_test)\n",
    "    r2_test =  line_reg_test.score(pred_test,y_test)\n",
    "    rmse_test = (np.sqrt(metrics.mean_squared_error(y_test, pred_test))/np.mean(y_test))\n",
    "    a = float(line_reg_test.coef_)\n",
    "    b=  line_reg_test.intercept_\n",
    "    ax[1].scatter( y_test, pred_test)\n",
    "    ax[1].plot([a*np.abs(b)+b, a*y_test.max()+b],[np.abs(b), y_test.max()], linestyle = 'dashed')\n",
    "    ax[1].text(0.7,0.4,'R2 : {:.3f} NRMSE : {: .2f}'.format(r2_test, rmse_test), transform = ax[1].transAxes)\n",
    "    ax[1].set_xlabel('True values')\n",
    "    ax[1].set_ylabel('Predicted values')\n",
    "    ax[1].set_xlim(y_test.min(),y_test.max())\n",
    "    ax[1].set_ylim(pred_test.min(),pred_test.max())\n",
    "    ax[1].set_title('On test values')\n",
    "    \n",
    "    plt.show()\n",
    "    plt.clf()"
   ]
  },
  {
   "cell_type": "code",
   "execution_count": 10,
   "id": "7864a029-dd2a-4ba5-ab75-8cb4461bb5a7",
   "metadata": {
    "execution": {
     "iopub.execute_input": "2022-11-09T14:03:44.806480Z",
     "iopub.status.busy": "2022-11-09T14:03:44.806480Z",
     "iopub.status.idle": "2022-11-09T14:03:45.476479Z",
     "shell.execute_reply": "2022-11-09T14:03:45.475476Z",
     "shell.execute_reply.started": "2022-11-09T14:03:44.806480Z"
    },
    "tags": []
   },
   "outputs": [
    {
     "name": "stderr",
     "output_type": "stream",
     "text": [
      "E:\\temp\\ipykernel_3720\\3496809683.py:7: RuntimeWarning: overflow encountered in exp\n",
      "  pred_test = np.array(np.exp(pred_test)).reshape(-1,1)\n",
      "E:\\Data_Science\\Anaconda\\lib\\site-packages\\numpy\\core\\shape_base.py:65: VisibleDeprecationWarning: Creating an ndarray from ragged nested sequences (which is a list-or-tuple of lists-or-tuples-or ndarrays with different lengths or shapes) is deprecated. If you meant to do this, you must specify 'dtype=object' when creating the ndarray.\n",
      "  ary = asanyarray(ary)\n"
     ]
    },
    {
     "ename": "ValueError",
     "evalue": "Input contains NaN, infinity or a value too large for dtype('float64').",
     "output_type": "error",
     "traceback": [
      "\u001b[1;31m---------------------------------------------------------------------------\u001b[0m",
      "\u001b[1;31mValueError\u001b[0m                                Traceback (most recent call last)",
      "Input \u001b[1;32mIn [10]\u001b[0m, in \u001b[0;36m<cell line: 6>\u001b[1;34m()\u001b[0m\n\u001b[0;32m      1\u001b[0m line_reg_m \u001b[38;5;241m=\u001b[39m linear_model\u001b[38;5;241m.\u001b[39mLinearRegression()\n\u001b[0;32m      3\u001b[0m model_lr \u001b[38;5;241m=\u001b[39m line_reg_m\u001b[38;5;241m.\u001b[39mfit(xtrain,ytrain)\n\u001b[1;32m----> 6\u001b[0m \u001b[43mtrue_pred_plot\u001b[49m\u001b[43m(\u001b[49m\u001b[43mytrain\u001b[49m\u001b[43m,\u001b[49m\u001b[43m  \u001b[49m\u001b[43mmodel_lr\u001b[49m\u001b[38;5;241;43m.\u001b[39;49m\u001b[43mpredict\u001b[49m\u001b[43m(\u001b[49m\u001b[43mxtrain\u001b[49m\u001b[43m)\u001b[49m\u001b[43m,\u001b[49m\u001b[43m \u001b[49m\u001b[43mytest\u001b[49m\u001b[43m,\u001b[49m\u001b[43m  \u001b[49m\u001b[43mmodel_lr\u001b[49m\u001b[38;5;241;43m.\u001b[39;49m\u001b[43mpredict\u001b[49m\u001b[43m(\u001b[49m\u001b[43mxtest\u001b[49m\u001b[43m)\u001b[49m\u001b[43m)\u001b[49m\n",
      "Input \u001b[1;32mIn [8]\u001b[0m, in \u001b[0;36mtrue_pred_plot\u001b[1;34m(y_train, pred_train, y_test, pred_test)\u001b[0m\n\u001b[0;32m     30\u001b[0m ax[\u001b[38;5;241m0\u001b[39m]\u001b[38;5;241m.\u001b[39mset_ylim(pred_train\u001b[38;5;241m.\u001b[39mmin(),pred_train\u001b[38;5;241m.\u001b[39mmax())\n\u001b[0;32m     31\u001b[0m ax[\u001b[38;5;241m0\u001b[39m]\u001b[38;5;241m.\u001b[39mset_title(\u001b[38;5;124m'\u001b[39m\u001b[38;5;124mOn train values\u001b[39m\u001b[38;5;124m'\u001b[39m)\n\u001b[1;32m---> 35\u001b[0m line_reg_test  \u001b[38;5;241m=\u001b[39m \u001b[43mline_reg\u001b[49m\u001b[38;5;241;43m.\u001b[39;49m\u001b[43mfit\u001b[49m\u001b[43m(\u001b[49m\u001b[43mpred_test\u001b[49m\u001b[43m,\u001b[49m\u001b[43my_test\u001b[49m\u001b[43m)\u001b[49m\n\u001b[0;32m     36\u001b[0m r2_test \u001b[38;5;241m=\u001b[39m  line_reg_test\u001b[38;5;241m.\u001b[39mscore(pred_test,y_test)\n\u001b[0;32m     37\u001b[0m rmse_test \u001b[38;5;241m=\u001b[39m (np\u001b[38;5;241m.\u001b[39msqrt(metrics\u001b[38;5;241m.\u001b[39mmean_squared_error(y_test, pred_test))\u001b[38;5;241m/\u001b[39mnp\u001b[38;5;241m.\u001b[39mmean(y_test))\n",
      "File \u001b[1;32mE:\\Data_Science\\Anaconda\\lib\\site-packages\\sklearn\\linear_model\\_base.py:662\u001b[0m, in \u001b[0;36mLinearRegression.fit\u001b[1;34m(self, X, y, sample_weight)\u001b[0m\n\u001b[0;32m    658\u001b[0m n_jobs_ \u001b[38;5;241m=\u001b[39m \u001b[38;5;28mself\u001b[39m\u001b[38;5;241m.\u001b[39mn_jobs\n\u001b[0;32m    660\u001b[0m accept_sparse \u001b[38;5;241m=\u001b[39m \u001b[38;5;28;01mFalse\u001b[39;00m \u001b[38;5;28;01mif\u001b[39;00m \u001b[38;5;28mself\u001b[39m\u001b[38;5;241m.\u001b[39mpositive \u001b[38;5;28;01melse\u001b[39;00m [\u001b[38;5;124m\"\u001b[39m\u001b[38;5;124mcsr\u001b[39m\u001b[38;5;124m\"\u001b[39m, \u001b[38;5;124m\"\u001b[39m\u001b[38;5;124mcsc\u001b[39m\u001b[38;5;124m\"\u001b[39m, \u001b[38;5;124m\"\u001b[39m\u001b[38;5;124mcoo\u001b[39m\u001b[38;5;124m\"\u001b[39m]\n\u001b[1;32m--> 662\u001b[0m X, y \u001b[38;5;241m=\u001b[39m \u001b[38;5;28;43mself\u001b[39;49m\u001b[38;5;241;43m.\u001b[39;49m\u001b[43m_validate_data\u001b[49m\u001b[43m(\u001b[49m\n\u001b[0;32m    663\u001b[0m \u001b[43m    \u001b[49m\u001b[43mX\u001b[49m\u001b[43m,\u001b[49m\u001b[43m \u001b[49m\u001b[43my\u001b[49m\u001b[43m,\u001b[49m\u001b[43m \u001b[49m\u001b[43maccept_sparse\u001b[49m\u001b[38;5;241;43m=\u001b[39;49m\u001b[43maccept_sparse\u001b[49m\u001b[43m,\u001b[49m\u001b[43m \u001b[49m\u001b[43my_numeric\u001b[49m\u001b[38;5;241;43m=\u001b[39;49m\u001b[38;5;28;43;01mTrue\u001b[39;49;00m\u001b[43m,\u001b[49m\u001b[43m \u001b[49m\u001b[43mmulti_output\u001b[49m\u001b[38;5;241;43m=\u001b[39;49m\u001b[38;5;28;43;01mTrue\u001b[39;49;00m\n\u001b[0;32m    664\u001b[0m \u001b[43m\u001b[49m\u001b[43m)\u001b[49m\n\u001b[0;32m    666\u001b[0m \u001b[38;5;28;01mif\u001b[39;00m sample_weight \u001b[38;5;129;01mis\u001b[39;00m \u001b[38;5;129;01mnot\u001b[39;00m \u001b[38;5;28;01mNone\u001b[39;00m:\n\u001b[0;32m    667\u001b[0m     sample_weight \u001b[38;5;241m=\u001b[39m _check_sample_weight(sample_weight, X, dtype\u001b[38;5;241m=\u001b[39mX\u001b[38;5;241m.\u001b[39mdtype)\n",
      "File \u001b[1;32mE:\\Data_Science\\Anaconda\\lib\\site-packages\\sklearn\\base.py:581\u001b[0m, in \u001b[0;36mBaseEstimator._validate_data\u001b[1;34m(self, X, y, reset, validate_separately, **check_params)\u001b[0m\n\u001b[0;32m    579\u001b[0m         y \u001b[38;5;241m=\u001b[39m check_array(y, \u001b[38;5;241m*\u001b[39m\u001b[38;5;241m*\u001b[39mcheck_y_params)\n\u001b[0;32m    580\u001b[0m     \u001b[38;5;28;01melse\u001b[39;00m:\n\u001b[1;32m--> 581\u001b[0m         X, y \u001b[38;5;241m=\u001b[39m check_X_y(X, y, \u001b[38;5;241m*\u001b[39m\u001b[38;5;241m*\u001b[39mcheck_params)\n\u001b[0;32m    582\u001b[0m     out \u001b[38;5;241m=\u001b[39m X, y\n\u001b[0;32m    584\u001b[0m \u001b[38;5;28;01mif\u001b[39;00m \u001b[38;5;129;01mnot\u001b[39;00m no_val_X \u001b[38;5;129;01mand\u001b[39;00m check_params\u001b[38;5;241m.\u001b[39mget(\u001b[38;5;124m\"\u001b[39m\u001b[38;5;124mensure_2d\u001b[39m\u001b[38;5;124m\"\u001b[39m, \u001b[38;5;28;01mTrue\u001b[39;00m):\n",
      "File \u001b[1;32mE:\\Data_Science\\Anaconda\\lib\\site-packages\\sklearn\\utils\\validation.py:964\u001b[0m, in \u001b[0;36mcheck_X_y\u001b[1;34m(X, y, accept_sparse, accept_large_sparse, dtype, order, copy, force_all_finite, ensure_2d, allow_nd, multi_output, ensure_min_samples, ensure_min_features, y_numeric, estimator)\u001b[0m\n\u001b[0;32m    961\u001b[0m \u001b[38;5;28;01mif\u001b[39;00m y \u001b[38;5;129;01mis\u001b[39;00m \u001b[38;5;28;01mNone\u001b[39;00m:\n\u001b[0;32m    962\u001b[0m     \u001b[38;5;28;01mraise\u001b[39;00m \u001b[38;5;167;01mValueError\u001b[39;00m(\u001b[38;5;124m\"\u001b[39m\u001b[38;5;124my cannot be None\u001b[39m\u001b[38;5;124m\"\u001b[39m)\n\u001b[1;32m--> 964\u001b[0m X \u001b[38;5;241m=\u001b[39m \u001b[43mcheck_array\u001b[49m\u001b[43m(\u001b[49m\n\u001b[0;32m    965\u001b[0m \u001b[43m    \u001b[49m\u001b[43mX\u001b[49m\u001b[43m,\u001b[49m\n\u001b[0;32m    966\u001b[0m \u001b[43m    \u001b[49m\u001b[43maccept_sparse\u001b[49m\u001b[38;5;241;43m=\u001b[39;49m\u001b[43maccept_sparse\u001b[49m\u001b[43m,\u001b[49m\n\u001b[0;32m    967\u001b[0m \u001b[43m    \u001b[49m\u001b[43maccept_large_sparse\u001b[49m\u001b[38;5;241;43m=\u001b[39;49m\u001b[43maccept_large_sparse\u001b[49m\u001b[43m,\u001b[49m\n\u001b[0;32m    968\u001b[0m \u001b[43m    \u001b[49m\u001b[43mdtype\u001b[49m\u001b[38;5;241;43m=\u001b[39;49m\u001b[43mdtype\u001b[49m\u001b[43m,\u001b[49m\n\u001b[0;32m    969\u001b[0m \u001b[43m    \u001b[49m\u001b[43morder\u001b[49m\u001b[38;5;241;43m=\u001b[39;49m\u001b[43morder\u001b[49m\u001b[43m,\u001b[49m\n\u001b[0;32m    970\u001b[0m \u001b[43m    \u001b[49m\u001b[43mcopy\u001b[49m\u001b[38;5;241;43m=\u001b[39;49m\u001b[43mcopy\u001b[49m\u001b[43m,\u001b[49m\n\u001b[0;32m    971\u001b[0m \u001b[43m    \u001b[49m\u001b[43mforce_all_finite\u001b[49m\u001b[38;5;241;43m=\u001b[39;49m\u001b[43mforce_all_finite\u001b[49m\u001b[43m,\u001b[49m\n\u001b[0;32m    972\u001b[0m \u001b[43m    \u001b[49m\u001b[43mensure_2d\u001b[49m\u001b[38;5;241;43m=\u001b[39;49m\u001b[43mensure_2d\u001b[49m\u001b[43m,\u001b[49m\n\u001b[0;32m    973\u001b[0m \u001b[43m    \u001b[49m\u001b[43mallow_nd\u001b[49m\u001b[38;5;241;43m=\u001b[39;49m\u001b[43mallow_nd\u001b[49m\u001b[43m,\u001b[49m\n\u001b[0;32m    974\u001b[0m \u001b[43m    \u001b[49m\u001b[43mensure_min_samples\u001b[49m\u001b[38;5;241;43m=\u001b[39;49m\u001b[43mensure_min_samples\u001b[49m\u001b[43m,\u001b[49m\n\u001b[0;32m    975\u001b[0m \u001b[43m    \u001b[49m\u001b[43mensure_min_features\u001b[49m\u001b[38;5;241;43m=\u001b[39;49m\u001b[43mensure_min_features\u001b[49m\u001b[43m,\u001b[49m\n\u001b[0;32m    976\u001b[0m \u001b[43m    \u001b[49m\u001b[43mestimator\u001b[49m\u001b[38;5;241;43m=\u001b[39;49m\u001b[43mestimator\u001b[49m\u001b[43m,\u001b[49m\n\u001b[0;32m    977\u001b[0m \u001b[43m\u001b[49m\u001b[43m)\u001b[49m\n\u001b[0;32m    979\u001b[0m y \u001b[38;5;241m=\u001b[39m _check_y(y, multi_output\u001b[38;5;241m=\u001b[39mmulti_output, y_numeric\u001b[38;5;241m=\u001b[39my_numeric)\n\u001b[0;32m    981\u001b[0m check_consistent_length(X, y)\n",
      "File \u001b[1;32mE:\\Data_Science\\Anaconda\\lib\\site-packages\\sklearn\\utils\\validation.py:800\u001b[0m, in \u001b[0;36mcheck_array\u001b[1;34m(array, accept_sparse, accept_large_sparse, dtype, order, copy, force_all_finite, ensure_2d, allow_nd, ensure_min_samples, ensure_min_features, estimator)\u001b[0m\n\u001b[0;32m    794\u001b[0m         \u001b[38;5;28;01mraise\u001b[39;00m \u001b[38;5;167;01mValueError\u001b[39;00m(\n\u001b[0;32m    795\u001b[0m             \u001b[38;5;124m\"\u001b[39m\u001b[38;5;124mFound array with dim \u001b[39m\u001b[38;5;132;01m%d\u001b[39;00m\u001b[38;5;124m. \u001b[39m\u001b[38;5;132;01m%s\u001b[39;00m\u001b[38;5;124m expected <= 2.\u001b[39m\u001b[38;5;124m\"\u001b[39m\n\u001b[0;32m    796\u001b[0m             \u001b[38;5;241m%\u001b[39m (array\u001b[38;5;241m.\u001b[39mndim, estimator_name)\n\u001b[0;32m    797\u001b[0m         )\n\u001b[0;32m    799\u001b[0m     \u001b[38;5;28;01mif\u001b[39;00m force_all_finite:\n\u001b[1;32m--> 800\u001b[0m         \u001b[43m_assert_all_finite\u001b[49m\u001b[43m(\u001b[49m\u001b[43marray\u001b[49m\u001b[43m,\u001b[49m\u001b[43m \u001b[49m\u001b[43mallow_nan\u001b[49m\u001b[38;5;241;43m=\u001b[39;49m\u001b[43mforce_all_finite\u001b[49m\u001b[43m \u001b[49m\u001b[38;5;241;43m==\u001b[39;49m\u001b[43m \u001b[49m\u001b[38;5;124;43m\"\u001b[39;49m\u001b[38;5;124;43mallow-nan\u001b[39;49m\u001b[38;5;124;43m\"\u001b[39;49m\u001b[43m)\u001b[49m\n\u001b[0;32m    802\u001b[0m \u001b[38;5;28;01mif\u001b[39;00m ensure_min_samples \u001b[38;5;241m>\u001b[39m \u001b[38;5;241m0\u001b[39m:\n\u001b[0;32m    803\u001b[0m     n_samples \u001b[38;5;241m=\u001b[39m _num_samples(array)\n",
      "File \u001b[1;32mE:\\Data_Science\\Anaconda\\lib\\site-packages\\sklearn\\utils\\validation.py:114\u001b[0m, in \u001b[0;36m_assert_all_finite\u001b[1;34m(X, allow_nan, msg_dtype)\u001b[0m\n\u001b[0;32m    107\u001b[0m     \u001b[38;5;28;01mif\u001b[39;00m (\n\u001b[0;32m    108\u001b[0m         allow_nan\n\u001b[0;32m    109\u001b[0m         \u001b[38;5;129;01mand\u001b[39;00m np\u001b[38;5;241m.\u001b[39misinf(X)\u001b[38;5;241m.\u001b[39many()\n\u001b[0;32m    110\u001b[0m         \u001b[38;5;129;01mor\u001b[39;00m \u001b[38;5;129;01mnot\u001b[39;00m allow_nan\n\u001b[0;32m    111\u001b[0m         \u001b[38;5;129;01mand\u001b[39;00m \u001b[38;5;129;01mnot\u001b[39;00m np\u001b[38;5;241m.\u001b[39misfinite(X)\u001b[38;5;241m.\u001b[39mall()\n\u001b[0;32m    112\u001b[0m     ):\n\u001b[0;32m    113\u001b[0m         type_err \u001b[38;5;241m=\u001b[39m \u001b[38;5;124m\"\u001b[39m\u001b[38;5;124minfinity\u001b[39m\u001b[38;5;124m\"\u001b[39m \u001b[38;5;28;01mif\u001b[39;00m allow_nan \u001b[38;5;28;01melse\u001b[39;00m \u001b[38;5;124m\"\u001b[39m\u001b[38;5;124mNaN, infinity\u001b[39m\u001b[38;5;124m\"\u001b[39m\n\u001b[1;32m--> 114\u001b[0m         \u001b[38;5;28;01mraise\u001b[39;00m \u001b[38;5;167;01mValueError\u001b[39;00m(\n\u001b[0;32m    115\u001b[0m             msg_err\u001b[38;5;241m.\u001b[39mformat(\n\u001b[0;32m    116\u001b[0m                 type_err, msg_dtype \u001b[38;5;28;01mif\u001b[39;00m msg_dtype \u001b[38;5;129;01mis\u001b[39;00m \u001b[38;5;129;01mnot\u001b[39;00m \u001b[38;5;28;01mNone\u001b[39;00m \u001b[38;5;28;01melse\u001b[39;00m X\u001b[38;5;241m.\u001b[39mdtype\n\u001b[0;32m    117\u001b[0m             )\n\u001b[0;32m    118\u001b[0m         )\n\u001b[0;32m    119\u001b[0m \u001b[38;5;66;03m# for object dtype data, we only check for NaNs (GH-13254)\u001b[39;00m\n\u001b[0;32m    120\u001b[0m \u001b[38;5;28;01melif\u001b[39;00m X\u001b[38;5;241m.\u001b[39mdtype \u001b[38;5;241m==\u001b[39m np\u001b[38;5;241m.\u001b[39mdtype(\u001b[38;5;124m\"\u001b[39m\u001b[38;5;124mobject\u001b[39m\u001b[38;5;124m\"\u001b[39m) \u001b[38;5;129;01mand\u001b[39;00m \u001b[38;5;129;01mnot\u001b[39;00m allow_nan:\n",
      "\u001b[1;31mValueError\u001b[0m: Input contains NaN, infinity or a value too large for dtype('float64')."
     ]
    },
    {
     "data": {
      "image/png": "[encoded data removed]",
      "text/plain": [
       "<Figure size 720x720 with 2 Axes>"
      ]
     },
     "metadata": {
      "needs_background": "light"
     },
     "output_type": "display_data"
    }
   ],
   "source": [
    "line_reg_m = linear_model.LinearRegression()\n",
    "\n",
    "model_lr = line_reg_m.fit(xtrain,ytrain)\n",
    "\n",
    "\n",
    "true_pred_plot(ytrain,  model_lr.predict(xtrain), ytest,  model_lr.predict(xtest))"
   ]
  },
  {
   "cell_type": "code",
   "execution_count": 11,
   "id": "e73a1b31-845a-4abf-852a-14d9dbddf55d",
   "metadata": {
    "execution": {
     "iopub.execute_input": "2022-11-09T14:03:49.263531Z",
     "iopub.status.busy": "2022-11-09T14:03:49.263531Z",
     "iopub.status.idle": "2022-11-09T14:03:50.122529Z",
     "shell.execute_reply": "2022-11-09T14:03:50.122529Z",
     "shell.execute_reply.started": "2022-11-09T14:03:49.263531Z"
    },
    "tags": []
   },
   "outputs": [
    {
     "name": "stdout",
     "output_type": "stream",
     "text": [
      "Fitting 3 folds for each of 14 candidates, totalling 42 fits\n",
      "Best params on training set : {'n_neighbors': 5}\n",
      "GridCV results : \n",
      "r2 = -0.013 (+/- 0.067) for {'n_neighbors': 2}\n",
      "r2 = 0.086 (+/- 0.046) for {'n_neighbors': 3}\n",
      "r2 = 0.139 (+/- 0.038) for {'n_neighbors': 4}\n",
      "r2 = 0.162 (+/- 0.050) for {'n_neighbors': 5}\n",
      "r2 = 0.155 (+/- 0.054) for {'n_neighbors': 6}\n",
      "r2 = 0.152 (+/- 0.052) for {'n_neighbors': 7}\n",
      "r2 = 0.145 (+/- 0.048) for {'n_neighbors': 8}\n",
      "r2 = 0.139 (+/- 0.043) for {'n_neighbors': 9}\n",
      "r2 = 0.140 (+/- 0.025) for {'n_neighbors': 10}\n",
      "r2 = 0.139 (+/- 0.030) for {'n_neighbors': 11}\n",
      "r2 = 0.137 (+/- 0.035) for {'n_neighbors': 12}\n",
      "r2 = 0.130 (+/- 0.040) for {'n_neighbors': 13}\n",
      "r2 = 0.124 (+/- 0.040) for {'n_neighbors': 14}\n",
      "r2 = 0.116 (+/- 0.031) for {'n_neighbors': 15}\n"
     ]
    },
    {
     "name": "stderr",
     "output_type": "stream",
     "text": [
      "E:\\Data_Science\\Anaconda\\lib\\site-packages\\numpy\\core\\shape_base.py:65: VisibleDeprecationWarning: Creating an ndarray from ragged nested sequences (which is a list-or-tuple of lists-or-tuples-or ndarrays with different lengths or shapes) is deprecated. If you meant to do this, you must specify 'dtype=object' when creating the ndarray.\n",
      "  ary = asanyarray(ary)\n",
      "E:\\Data_Science\\Anaconda\\lib\\site-packages\\numpy\\core\\shape_base.py:65: VisibleDeprecationWarning: Creating an ndarray from ragged nested sequences (which is a list-or-tuple of lists-or-tuples-or ndarrays with different lengths or shapes) is deprecated. If you meant to do this, you must specify 'dtype=object' when creating the ndarray.\n",
      "  ary = asanyarray(ary)\n"
     ]
    },
    {
     "data": {
      "image/png": "[encoded data removed]",
      "text/plain": [
       "<Figure size 720x720 with 2 Axes>"
      ]
     },
     "metadata": {
      "needs_background": "light"
     },
     "output_type": "display_data"
    },
    {
     "data": {
      "text/plain": [
       "<Figure size 432x288 with 0 Axes>"
      ]
     },
     "metadata": {},
     "output_type": "display_data"
    }
   ],
   "source": [
    "#let's grid search for the k\n",
    "\n",
    "k_grid = {'n_neighbors' : list(range(2,16))}\n",
    "score = 'r2'\n",
    "\n",
    "reg = GridSearchCV(KNeighborsRegressor(), k_grid, cv =3, scoring = score, verbose = 1)\n",
    "\n",
    "reg.fit(xtrain, ytrain)\n",
    "\n",
    "print('Best params on training set : {}'.format(reg.best_params_))\n",
    "\n",
    "print('GridCV results : ')\n",
    "for mean, std, k in zip(reg.cv_results_['mean_test_score'],\n",
    "                       reg.cv_results_['std_test_score'],\n",
    "                       reg.cv_results_['params']):\n",
    "    print('{} = {:.3f} (+/- {:.3f}) for {}'.format(score,mean,std*2,k))\n",
    "    \n",
    "model_kn = KNeighborsRegressor(n_neighbors = reg.best_params_['n_neighbors']).fit(xtrain, ytrain)\n",
    "\n",
    "true_pred_plot(ytrain, model_kn.predict(xtrain), ytest, model_kn.predict(xtest))"
   ]
  },
  {
   "cell_type": "code",
   "execution_count": 12,
   "id": "88ed7501-a873-41ed-a11e-e84949e975cf",
   "metadata": {
    "execution": {
     "iopub.execute_input": "2022-11-09T14:03:55.450226Z",
     "iopub.status.busy": "2022-11-09T14:03:55.450226Z",
     "iopub.status.idle": "2022-11-09T14:22:34.216446Z",
     "shell.execute_reply": "2022-11-09T14:22:34.216446Z",
     "shell.execute_reply.started": "2022-11-09T14:03:55.450226Z"
    },
    "tags": []
   },
   "outputs": [
    {
     "name": "stdin",
     "output_type": "stream",
     "text": [
      "Do you want to launch ? [y/n] y\n"
     ]
    },
    {
     "name": "stdout",
     "output_type": "stream",
     "text": [
      "Fitting 3 folds for each of 120 candidates, totalling 360 fits\n",
      "Best params on training set : {'degree': 2, 'gamma': 0.01, 'kernel': 'rbf'}\n"
     ]
    },
    {
     "name": "stderr",
     "output_type": "stream",
     "text": [
      "E:\\Data_Science\\Anaconda\\lib\\site-packages\\numpy\\core\\shape_base.py:65: VisibleDeprecationWarning: Creating an ndarray from ragged nested sequences (which is a list-or-tuple of lists-or-tuples-or ndarrays with different lengths or shapes) is deprecated. If you meant to do this, you must specify 'dtype=object' when creating the ndarray.\n",
      "  ary = asanyarray(ary)\n",
      "E:\\Data_Science\\Anaconda\\lib\\site-packages\\numpy\\core\\shape_base.py:65: VisibleDeprecationWarning: Creating an ndarray from ragged nested sequences (which is a list-or-tuple of lists-or-tuples-or ndarrays with different lengths or shapes) is deprecated. If you meant to do this, you must specify 'dtype=object' when creating the ndarray.\n",
      "  ary = asanyarray(ary)\n"
     ]
    },
    {
     "data": {
      "image/png": "[encoded data removed]",
      "text/plain": [
       "<Figure size 720x720 with 2 Axes>"
      ]
     },
     "metadata": {
      "needs_background": "light"
     },
     "output_type": "display_data"
    },
    {
     "data": {
      "text/plain": [
       "<Figure size 432x288 with 0 Axes>"
      ]
     },
     "metadata": {},
     "output_type": "display_data"
    }
   ],
   "source": [
    "x = input('Do you want to launch ? [y/n]')\n",
    "if x == 'y':\n",
    "\n",
    "    #let's try with a svr\n",
    "    C_range = [1.0, 5.0, 10.0, 100.0]\n",
    "    kernels = ['linear', 'rbf', 'sigmoid', 'poly']\n",
    "    degrees = [2,3,4]\n",
    "    gamma_range  = np.logspace(-2, 1, 10)\n",
    "    #gamma_range = np.logspace(-2, 1, 10)\n",
    "    #'gamma' : gamma_range\n",
    "    param_grid = {'gamma' : gamma_range, 'kernel' : kernels, 'degree' : degrees}\n",
    "\n",
    "    score = 'neg_mean_squared_error'\n",
    "\n",
    "    svr_cv = GridSearchCV(svm.SVR(), param_grid, cv = 3, scoring = score, verbose = 1)\n",
    "\n",
    "    svr_cv.fit(xtrain, ytrain)\n",
    "\n",
    "    print('Best params on training set : {}'.format(svr_cv.best_params_))\n",
    "bkernel = svr_cv.best_params_['kernel']\n",
    "bgamma = svr_cv.best_params_['gamma']\n",
    "bdegree = svr_cv.best_params_['degree']\n",
    "    \n",
    "svr = svm.SVR(kernel=bkernel, C=1.0, gamma = bgamma, degree = bdegree)\n",
    "model_svr = svr.fit(xtrain,ytrain)\n",
    "\n",
    "true_pred_plot(ytrain, model_svr.predict(xtrain), ytest, model_svr.predict(xtest))"
   ]
  },
  {
   "cell_type": "code",
   "execution_count": 13,
   "id": "23dc3ed2-d38d-4ce9-86a7-a1a57896a884",
   "metadata": {
    "execution": {
     "iopub.execute_input": "2022-11-09T14:23:33.208276Z",
     "iopub.status.busy": "2022-11-09T14:23:33.208276Z",
     "iopub.status.idle": "2022-11-09T14:24:23.091928Z",
     "shell.execute_reply": "2022-11-09T14:24:23.091928Z",
     "shell.execute_reply.started": "2022-11-09T14:23:33.208276Z"
    },
    "tags": []
   },
   "outputs": [
    {
     "name": "stdin",
     "output_type": "stream",
     "text": [
      "Do you want to launch ? [y/n] y\n"
     ]
    },
    {
     "name": "stdout",
     "output_type": "stream",
     "text": [
      "Fitting 3 folds for each of 360 candidates, totalling 1080 fits\n"
     ]
    },
    {
     "name": "stderr",
     "output_type": "stream",
     "text": [
      "E:\\Data_Science\\Anaconda\\lib\\site-packages\\sklearn\\linear_model\\_ridge.py:194: LinAlgWarning: Ill-conditioned matrix (rcond=4.92942e-17): result may not be accurate.\n",
      "  dual_coef = linalg.solve(K, y, sym_pos=True, overwrite_a=False)\n",
      "E:\\Data_Science\\Anaconda\\lib\\site-packages\\sklearn\\linear_model\\_ridge.py:194: LinAlgWarning: Ill-conditioned matrix (rcond=1.68554e-17): result may not be accurate.\n",
      "  dual_coef = linalg.solve(K, y, sym_pos=True, overwrite_a=False)\n",
      "E:\\Data_Science\\Anaconda\\lib\\site-packages\\sklearn\\linear_model\\_ridge.py:194: LinAlgWarning: Ill-conditioned matrix (rcond=1.56969e-17): result may not be accurate.\n",
      "  dual_coef = linalg.solve(K, y, sym_pos=True, overwrite_a=False)\n",
      "E:\\Data_Science\\Anaconda\\lib\\site-packages\\sklearn\\linear_model\\_ridge.py:194: LinAlgWarning: Ill-conditioned matrix (rcond=1.54635e-17): result may not be accurate.\n",
      "  dual_coef = linalg.solve(K, y, sym_pos=True, overwrite_a=False)\n",
      "E:\\Data_Science\\Anaconda\\lib\\site-packages\\sklearn\\linear_model\\_ridge.py:194: LinAlgWarning: Ill-conditioned matrix (rcond=1.53623e-17): result may not be accurate.\n",
      "  dual_coef = linalg.solve(K, y, sym_pos=True, overwrite_a=False)\n",
      "E:\\Data_Science\\Anaconda\\lib\\site-packages\\sklearn\\linear_model\\_ridge.py:194: LinAlgWarning: Ill-conditioned matrix (rcond=1.96357e-17): result may not be accurate.\n",
      "  dual_coef = linalg.solve(K, y, sym_pos=True, overwrite_a=False)\n",
      "E:\\Data_Science\\Anaconda\\lib\\site-packages\\sklearn\\linear_model\\_ridge.py:194: LinAlgWarning: Ill-conditioned matrix (rcond=1.57569e-17): result may not be accurate.\n",
      "  dual_coef = linalg.solve(K, y, sym_pos=True, overwrite_a=False)\n",
      "E:\\Data_Science\\Anaconda\\lib\\site-packages\\sklearn\\linear_model\\_ridge.py:194: LinAlgWarning: Ill-conditioned matrix (rcond=1.54648e-17): result may not be accurate.\n",
      "  dual_coef = linalg.solve(K, y, sym_pos=True, overwrite_a=False)\n",
      "E:\\Data_Science\\Anaconda\\lib\\site-packages\\sklearn\\linear_model\\_ridge.py:194: LinAlgWarning: Ill-conditioned matrix (rcond=1.53624e-17): result may not be accurate.\n",
      "  dual_coef = linalg.solve(K, y, sym_pos=True, overwrite_a=False)\n",
      "E:\\Data_Science\\Anaconda\\lib\\site-packages\\sklearn\\linear_model\\_ridge.py:194: LinAlgWarning: Ill-conditioned matrix (rcond=2.31074e-17): result may not be accurate.\n",
      "  dual_coef = linalg.solve(K, y, sym_pos=True, overwrite_a=False)\n",
      "E:\\Data_Science\\Anaconda\\lib\\site-packages\\sklearn\\linear_model\\_ridge.py:194: LinAlgWarning: Ill-conditioned matrix (rcond=1.58319e-17): result may not be accurate.\n",
      "  dual_coef = linalg.solve(K, y, sym_pos=True, overwrite_a=False)\n",
      "E:\\Data_Science\\Anaconda\\lib\\site-packages\\sklearn\\linear_model\\_ridge.py:194: LinAlgWarning: Ill-conditioned matrix (rcond=1.54664e-17): result may not be accurate.\n",
      "  dual_coef = linalg.solve(K, y, sym_pos=True, overwrite_a=False)\n",
      "E:\\Data_Science\\Anaconda\\lib\\site-packages\\sklearn\\linear_model\\_ridge.py:194: LinAlgWarning: Ill-conditioned matrix (rcond=1.53624e-17): result may not be accurate.\n",
      "  dual_coef = linalg.solve(K, y, sym_pos=True, overwrite_a=False)\n",
      "E:\\Data_Science\\Anaconda\\lib\\site-packages\\sklearn\\linear_model\\_ridge.py:194: LinAlgWarning: Ill-conditioned matrix (rcond=8.49356e-17): result may not be accurate.\n",
      "  dual_coef = linalg.solve(K, y, sym_pos=True, overwrite_a=False)\n",
      "E:\\Data_Science\\Anaconda\\lib\\site-packages\\sklearn\\linear_model\\_ridge.py:194: LinAlgWarning: Ill-conditioned matrix (rcond=1.71813e-17): result may not be accurate.\n",
      "  dual_coef = linalg.solve(K, y, sym_pos=True, overwrite_a=False)\n",
      "E:\\Data_Science\\Anaconda\\lib\\site-packages\\sklearn\\linear_model\\_ridge.py:194: LinAlgWarning: Ill-conditioned matrix (rcond=1.54955e-17): result may not be accurate.\n",
      "  dual_coef = linalg.solve(K, y, sym_pos=True, overwrite_a=False)\n",
      "E:\\Data_Science\\Anaconda\\lib\\site-packages\\sklearn\\linear_model\\_ridge.py:194: LinAlgWarning: Ill-conditioned matrix (rcond=1.5363e-17): result may not be accurate.\n",
      "  dual_coef = linalg.solve(K, y, sym_pos=True, overwrite_a=False)\n"
     ]
    },
    {
     "name": "stdout",
     "output_type": "stream",
     "text": [
      "Best params on training set : {'alpha': 100.0, 'degree': 3, 'gamma': 10.0, 'kernel': 'rbf'}\n"
     ]
    },
    {
     "name": "stderr",
     "output_type": "stream",
     "text": [
      "E:\\Data_Science\\Anaconda\\lib\\site-packages\\numpy\\core\\shape_base.py:65: VisibleDeprecationWarning: Creating an ndarray from ragged nested sequences (which is a list-or-tuple of lists-or-tuples-or ndarrays with different lengths or shapes) is deprecated. If you meant to do this, you must specify 'dtype=object' when creating the ndarray.\n",
      "  ary = asanyarray(ary)\n",
      "E:\\Data_Science\\Anaconda\\lib\\site-packages\\numpy\\core\\shape_base.py:65: VisibleDeprecationWarning: Creating an ndarray from ragged nested sequences (which is a list-or-tuple of lists-or-tuples-or ndarrays with different lengths or shapes) is deprecated. If you meant to do this, you must specify 'dtype=object' when creating the ndarray.\n",
      "  ary = asanyarray(ary)\n"
     ]
    },
    {
     "data": {
      "image/png": "[encoded data removed]",
      "text/plain": [
       "<Figure size 720x720 with 2 Axes>"
      ]
     },
     "metadata": {
      "needs_background": "light"
     },
     "output_type": "display_data"
    },
    {
     "data": {
      "text/plain": [
       "<Figure size 432x288 with 0 Axes>"
      ]
     },
     "metadata": {},
     "output_type": "display_data"
    }
   ],
   "source": [
    "from sklearn import kernel_ridge\n",
    "#let's try with a ridge regression\n",
    "\n",
    "x = input('Do you want to launch ? [y/n]')\n",
    "if x == 'y':\n",
    "    alpha_range = [1.0, 5.0, 10.0, 100.0]\n",
    "    kernels = ['linear', 'poly', 'rbf']\n",
    "    degrees = [3,4,5]\n",
    "    gamma_range  = np.logspace(-2, 1, 10)\n",
    "\n",
    "\n",
    "    param_grid = {'gamma' : gamma_range, 'kernel' : kernels, 'degree' : degrees, 'alpha' : alpha_range}\n",
    "    \n",
    "    score = 'neg_mean_absolute_percentage_error'\n",
    "\n",
    "    kernel_ridge_cv = GridSearchCV(kernel_ridge.KernelRidge(), param_grid, cv = 3, scoring = score, verbose = 1)\n",
    "\n",
    "    kernel_ridge_cv.fit(xtrain, ytrain)\n",
    "\n",
    "    print('Best params on training set : {}'.format(kernel_ridge_cv.best_params_))\n",
    "    \n",
    "bkernel = kernel_ridge_cv.best_params_['kernel']\n",
    "bgamma = kernel_ridge_cv.best_params_['gamma']\n",
    "bdegree = kernel_ridge_cv.best_params_['degree']\n",
    "balpha = kernel_ridge_cv.best_params_['alpha']\n",
    "\n",
    "model = kernel_ridge.KernelRidge(alpha = balpha, kernel = bkernel, degree = bdegree, gamma = bgamma)\n",
    "model_kr = model.fit(xtrain, ytrain)\n",
    "\n",
    "true_pred_plot(ytrain, model_kr.predict(xtrain), ytest, model_kr.predict(xtest))"
   ]
  },
  {
   "cell_type": "markdown",
   "id": "27b30d39-eb07-4bc6-9b40-753127644a6b",
   "metadata": {},
   "source": [
    "## Neural network"
   ]
  },
  {
   "cell_type": "code",
   "execution_count": null,
   "id": "10ba7dc1-8841-438d-8f24-2f406bd4e4e7",
   "metadata": {
    "execution": {
     "iopub.status.busy": "2022-11-09T14:03:31.582612Z",
     "iopub.status.idle": "2022-11-09T14:03:31.583612Z",
     "shell.execute_reply": "2022-11-09T14:03:31.582612Z",
     "shell.execute_reply.started": "2022-11-09T14:03:31.582612Z"
    },
    "tags": []
   },
   "outputs": [],
   "source": [
    "import tensorflow as tf\n",
    "from tensorflow import keras\n",
    "from tensorflow.keras import layers"
   ]
  },
  {
   "cell_type": "code",
   "execution_count": null,
   "id": "ae6fcc3d-1ed1-4744-8aa8-1fee512a03ca",
   "metadata": {
    "execution": {
     "iopub.status.busy": "2022-11-09T14:03:31.584612Z",
     "iopub.status.idle": "2022-11-09T14:03:31.584612Z",
     "shell.execute_reply": "2022-11-09T14:03:31.584612Z",
     "shell.execute_reply.started": "2022-11-09T14:03:31.584612Z"
    },
    "tags": []
   },
   "outputs": [],
   "source": [
    "#test with a single perceptron\n",
    "model1 = keras.Sequential()\n",
    "model1.add(keras.Input(shape = xtrain.shape[1]))\n",
    "model1.add(layers.Dense(1,input_dim = 2, activation = 'linear'))\n",
    "\n",
    "model1.compile(metrics = [tf.keras.metrics.RootMeanSquaredError()], loss = 'mean_absolute_percentage_error', optimizer = 'adam')\n",
    "\n",
    "model1.summary()\n",
    "\n",
    "history = model1.fit(xtrain, ytrain, epochs = 50, batch_size = 1, verbose = 1)"
   ]
  },
  {
   "cell_type": "code",
   "execution_count": null,
   "id": "5165db6e-15b9-43c5-9db0-013a06a5dcc1",
   "metadata": {
    "execution": {
     "iopub.status.busy": "2022-11-09T14:03:31.585612Z",
     "iopub.status.idle": "2022-11-09T14:03:31.585612Z",
     "shell.execute_reply": "2022-11-09T14:03:31.585612Z",
     "shell.execute_reply.started": "2022-11-09T14:03:31.585612Z"
    },
    "tags": []
   },
   "outputs": [],
   "source": [
    "true_pred_plot(ytrain, model1.predict(xtrain), ytest, model1.predict(xtest))"
   ]
  },
  {
   "cell_type": "code",
   "execution_count": null,
   "id": "796021a2-e991-4b29-856f-f42c645d6195",
   "metadata": {
    "execution": {
     "iopub.status.busy": "2022-11-09T14:03:31.586613Z",
     "iopub.status.idle": "2022-11-09T14:03:31.586613Z",
     "shell.execute_reply": "2022-11-09T14:03:31.586613Z",
     "shell.execute_reply.started": "2022-11-09T14:03:31.586613Z"
    },
    "tags": []
   },
   "outputs": [],
   "source": [
    "model2 = keras.Sequential(\n",
    "    [\n",
    "        layers.Dense(xtrain.shape[1], activation=\"relu\", name=\"layer1\", input_shape=(xtrain.shape[1],), input_dim = 2),\n",
    "        layers.Dense(287, activation=\"relu\", name=\"layer2\"),\n",
    "        layers.Dense(1, activation = 'linear', name=\"layer3\"),\n",
    "    ]\n",
    ")\n",
    "\n",
    "model2.compile(metrics = [tf.keras.metrics.RootMeanSquaredError()], loss = 'mean_absolute_percentage_error', optimizer = 'adam')\n",
    "\n",
    "model2.summary()\n",
    "\n",
    "history2 = model2.fit(xtrain, ytrain, epochs = 50, batch_size = 1, verbose = 1)"
   ]
  },
  {
   "cell_type": "code",
   "execution_count": null,
   "id": "09e7b0af-2378-416b-b131-0da8b65cad21",
   "metadata": {
    "execution": {
     "iopub.status.busy": "2022-11-09T14:03:31.587613Z",
     "iopub.status.idle": "2022-11-09T14:03:31.588633Z",
     "shell.execute_reply": "2022-11-09T14:03:31.588633Z",
     "shell.execute_reply.started": "2022-11-09T14:03:31.588633Z"
    },
    "tags": []
   },
   "outputs": [],
   "source": [
    "true_pred_plot(ytrain, model2.predict(xtrain), ytest, model2.predict(xtest))"
   ]
  },
  {
   "cell_type": "code",
   "execution_count": null,
   "id": "17a6d228-d235-4d48-a400-c9021e8aceac",
   "metadata": {
    "execution": {
     "iopub.status.busy": "2022-11-09T14:03:31.589613Z",
     "iopub.status.idle": "2022-11-09T14:03:31.589613Z",
     "shell.execute_reply": "2022-11-09T14:03:31.589613Z",
     "shell.execute_reply.started": "2022-11-09T14:03:31.589613Z"
    },
    "tags": []
   },
   "outputs": [],
   "source": [
    "#now with a multi layer network\n",
    "\n",
    "model3 = keras.Sequential(\n",
    "    [\n",
    "        layers.Dense(xtrain.shape[1], activation=\"relu\", name=\"layer1\", input_shape=(xtrain.shape[1],), input_dim = 2),\n",
    "        layers.Dense(287, activation=\"relu\", name=\"layer2b\"),\n",
    "        layers.Dense(82, activation=\"relu\", name=\"layer3\"),\n",
    "        layers.Dense(20, activation=\"relu\", name=\"layer4\"),\n",
    "        layers.Dense(4, activation = \"relu\", name = \"layer5\"),\n",
    "        layers.Dense(1, activation = 'relu', name=\"layer6\"),\n",
    "    ]\n",
    ")\n",
    "\n",
    "model3.compile(metrics = [tf.keras.metrics.RootMeanSquaredError()], loss = 'mean_absolute_percentage_error', optimizer = 'adam')\n",
    "\n",
    "model3.summary()\n",
    "\n",
    "history3 = model3.fit(xtrain, ytrain, epochs = 50, batch_size = 1, verbose = 1)"
   ]
  },
  {
   "cell_type": "code",
   "execution_count": null,
   "id": "0cf06c9e-4965-44e0-9a62-f24bd19d4271",
   "metadata": {
    "execution": {
     "iopub.status.busy": "2022-11-09T14:03:31.590613Z",
     "iopub.status.idle": "2022-11-09T14:03:31.590613Z",
     "shell.execute_reply": "2022-11-09T14:03:31.590613Z",
     "shell.execute_reply.started": "2022-11-09T14:03:31.590613Z"
    },
    "tags": []
   },
   "outputs": [],
   "source": [
    "true_pred_plot(ytrain, model3.predict(xtrain), ytest, model3.predict(xtest))"
   ]
  },
  {
   "cell_type": "code",
   "execution_count": null,
   "id": "8dc3feae-9d82-4f1d-90e5-b99302696cb8",
   "metadata": {
    "execution": {
     "iopub.execute_input": "2022-11-09T14:28:45.112839Z",
     "iopub.status.busy": "2022-11-09T14:28:45.111840Z"
    },
    "tags": []
   },
   "outputs": [
    {
     "name": "stdout",
     "output_type": "stream",
     "text": [
      "Fitting 3 folds for each of 10 candidates, totalling 30 fits\n"
     ]
    }
   ],
   "source": [
    "from sklearn.ensemble import RandomForestRegressor\n",
    "\n",
    "n_grid = {'n_estimators' : list(np.arange(750,1250,50))}\n",
    "score = 'r2'\n",
    "\n",
    "rfr_grid = GridSearchCV(RandomForestRegressor(), n_grid, cv =3, scoring = score, verbose = 1)\n",
    "\n",
    "rfr_grid.fit(xtrain, ytrain)\n",
    "\n",
    "print('Best params on training set : {}'.format(rfr_grid.best_params_))\n",
    "\n",
    "    \n",
    "model_rfr = RandomForestRegressor(n_estimators=rfr_grid.best_params_['n_estimators'], verbose = 1).fit(xtrain, ytrain)\n",
    "\n",
    "true_pred_plot(ytrain, model_rfr.predict(xtrain), ytest, model_rfr.predict(xtest))"
   ]
  },
  {
   "cell_type": "code",
   "execution_count": null,
   "id": "73634fd9-3fc0-46e0-9ce8-017597ac7ca0",
   "metadata": {
    "execution": {
     "iopub.status.busy": "2022-11-09T14:03:31.593612Z",
     "iopub.status.idle": "2022-11-09T14:03:31.593612Z",
     "shell.execute_reply": "2022-11-09T14:03:31.593612Z",
     "shell.execute_reply.started": "2022-11-09T14:03:31.593612Z"
    },
    "tags": []
   },
   "outputs": [],
   "source": [
    "from sklearn.ensemble import GradientBoostingRegressor\n",
    "\n",
    "n_grid = {'n_estimators' : list(np.arange(250,750,50))}\n",
    "score = 'r2'\n",
    "\n",
    "xgb_grid = GridSearchCV( GradientBoostingRegressor(), n_grid, cv =3, scoring = score, verbose = 1)\n",
    "\n",
    "xgb_grid.fit(xtrain, ytrain)\n",
    "\n",
    "print('Best params on training set : {}'.format(xgb_grid.best_params_))\n",
    "\n",
    "    \n",
    "model_xgb =  GradientBoostingRegressor(n_estimators=xgb_grid.best_params_['n_estimators'], verbose = 1).fit(xtrain, ytrain)\n",
    "\n",
    "true_pred_plot(ytrain, model_xgb.predict(xtrain), ytest, model_xgb.predict(xtest))"
   ]
  },
  {
   "cell_type": "code",
   "execution_count": null,
   "id": "75e5b271-bbac-4066-bb23-584e9f80366e",
   "metadata": {
    "execution": {
     "iopub.status.busy": "2022-11-09T14:03:31.595612Z",
     "iopub.status.idle": "2022-11-09T14:03:31.595612Z",
     "shell.execute_reply": "2022-11-09T14:03:31.595612Z",
     "shell.execute_reply.started": "2022-11-09T14:03:31.595612Z"
    },
    "tags": []
   },
   "outputs": [],
   "source": [
    "def r2(pred,y):\n",
    "    pred = np.array(np.exp(pred)).reshape(-1,1)\n",
    "    y = np.array(np.exp(y)).reshape(-1,1)\n",
    "    \n",
    "    pred = (pred/1000)*sqftest\n",
    "    y = (y/1000)*sqftest\n",
    "    \n",
    "    line_reg_test  = line_reg.fit(pred,y)\n",
    "    r2_value =  line_reg_test.score(pred,y)\n",
    "    return r2_value\n",
    "\n",
    "def rmse(pred,y):\n",
    "    pred = np.array(np.exp(pred)).reshape(-1,1)\n",
    "    y = np.array(np.exp(y)).reshape(-1,1)\n",
    "    \n",
    "    pred = (pred/1000)*sqftest\n",
    "    y = (y/1000)*sqftest\n",
    "    \n",
    "    rmse_value = np.sqrt(metrics.mean_squared_error(y,pred))\n",
    "    return rmse_value\n",
    "\n",
    "def nrmse(pred,y):\n",
    "    pred = np.array(np.exp(pred)).reshape(-1,1)\n",
    "    y = np.array(np.exp(y)).reshape(-1,1)\n",
    "    \n",
    "    pred = (pred/1000)*sqftest\n",
    "    y = (y/1000)*sqftest\n",
    "    \n",
    "    nrmse_value = (np.sqrt(metrics.mean_squared_error(y,pred))/np.mean(y))\n",
    "    return nrmse_value\n",
    "                   \n",
    "def mae(pred,y):\n",
    "    pred = np.array(np.exp(pred)).reshape(-1,1)\n",
    "    y = np.array(np.exp(y)).reshape(-1,1)\n",
    "    \n",
    "    pred = (pred/1000)*sqftest\n",
    "    y = (y/1000)*sqftest\n",
    "    \n",
    "    mae_value = metrics.mean_absolute_error(y,pred)\n",
    "    return mae_value"
   ]
  },
  {
   "cell_type": "code",
   "execution_count": null,
   "id": "67a0115a-f99d-4c5e-816d-d9336e793792",
   "metadata": {
    "execution": {
     "iopub.status.busy": "2022-11-09T14:03:31.596611Z",
     "iopub.status.idle": "2022-11-09T14:03:31.596611Z",
     "shell.execute_reply": "2022-11-09T14:03:31.596611Z",
     "shell.execute_reply.started": "2022-11-09T14:03:31.596611Z"
    },
    "tags": []
   },
   "outputs": [],
   "source": [
    "metrics_all = {}\n",
    "\n",
    "models = [model_kn,svr,model_kr,model3,model_rfr,model_xgb]\n",
    "r2l=[]\n",
    "rmsel=[]\n",
    "nrmsel=[]\n",
    "mael=[]\n",
    "\n",
    "for i in models:\n",
    "    r2l.append(r2(i.predict(xtest),ytest))\n",
    "    rmsel.append(rmse(i.predict(xtest), ytest))\n",
    "    nrmsel.append(nrmse(i.predict(xtest), ytest))\n",
    "    mael.append(mae(i.predict(xtest), ytest))\n",
    "    \n",
    "metrics_all['r2'] = r2l\n",
    "metrics_all['rmse'] = rmsel\n",
    "metrics_all['nrmse'] = nrmsel\n",
    "metrics_all['mae'] = mael\n",
    "\n",
    "model_names = ['KNN_Regressor', 'SVR', 'Kernel_Ridge_Regressor','Neural_Network', 'Random_Forest_Regressor', 'XGBoost']\n",
    "df_metrics = pd.DataFrame(metrics_all, index = model_names)\n",
    "\n",
    "fig = plt.figure(figsize=(20, 20))\n",
    "for i in range(df_metrics.shape[1]):\n",
    "    ax = fig.add_subplot(2,2, (i+1))\n",
    "    b = ax.bar(x=df_metrics.index,height = df_metrics.iloc[:, i])\n",
    "    ax.set_title(df_metrics.columns[i], fontsize=14)\n",
    "    ax.tick_params(axis='x', labelrotation = 35)\n",
    "    if i != 0:\n",
    "        ax.set_yscale('log')"
   ]
  },
  {
   "cell_type": "code",
   "execution_count": null,
   "id": "ec2026ee-a4bb-421c-a865-0c17fe83e4e5",
   "metadata": {
    "execution": {
     "iopub.status.busy": "2022-11-09T14:03:31.597612Z",
     "iopub.status.idle": "2022-11-09T14:03:31.598612Z",
     "shell.execute_reply": "2022-11-09T14:03:31.597612Z",
     "shell.execute_reply.started": "2022-11-09T14:03:31.597612Z"
    },
    "tags": []
   },
   "outputs": [],
   "source": [
    "col_name"
   ]
  },
  {
   "cell_type": "code",
   "execution_count": null,
   "id": "2548fa67-e9a1-4b2a-9a7e-40e34eb3b214",
   "metadata": {
    "execution": {
     "iopub.status.busy": "2022-11-09T14:03:31.598612Z",
     "iopub.status.idle": "2022-11-09T14:03:31.599611Z",
     "shell.execute_reply": "2022-11-09T14:03:31.599611Z",
     "shell.execute_reply.started": "2022-11-09T14:03:31.599611Z"
    },
    "tags": []
   },
   "outputs": [],
   "source": [
    "importance = model_rfr.feature_importances_\n",
    "nul_col = []\n",
    "for i,v in enumerate(importance):\n",
    "    if v == 0:\n",
    "        nul_col.append(i)\n",
    "nul_col_name = []\n",
    "for i in nul_col:\n",
    "    nul_col_name.append(col_name_lib[str(i)])\n",
    "print(len(nul_col_name))\n",
    "\n",
    "df_fi = {}\n",
    "for i,v in enumerate(importance):\n",
    "    x = col_name_lib[str(i)]\n",
    "    df_fi[f'{x}'] = v\n",
    "\n",
    "df_fi = pd.DataFrame(df_fi, index = ['Feature_Importance']).T\n",
    "print(df_fi['Feature_Importance'].nlargest(10))\n",
    "\n",
    "\n",
    "# plot feature importance\n",
    "fig, ax = plt.subplots(figsize = (20,20))\n",
    "ax.bar([x for x in range(len(importance))], importance)\n",
    "plt.show()"
   ]
  },
  {
   "cell_type": "code",
   "execution_count": null,
   "id": "68a6c8ba-7ebd-4df8-ba89-8cb0804d5633",
   "metadata": {},
   "outputs": [],
   "source": []
  },
  {
   "cell_type": "code",
   "execution_count": null,
   "id": "0f26223a-3e0e-4b6d-a94e-ca2e5be42592",
   "metadata": {
    "execution": {
     "iopub.status.busy": "2022-11-09T14:03:31.600611Z",
     "iopub.status.idle": "2022-11-09T14:03:31.600611Z",
     "shell.execute_reply": "2022-11-09T14:03:31.600611Z",
     "shell.execute_reply.started": "2022-11-09T14:03:31.600611Z"
    },
    "tags": []
   },
   "outputs": [],
   "source": [
    "df_year={}\n",
    "df_tar = pd.DataFrame(ytest)\n",
    "df_res = df_res.join(df_tar)\n",
    "for i in df_res['YearBuilt'].unique():\n",
    "    df_year[f'{i}'] = df_res[df_res['YearBuilt'] == i]\n",
    "len(df_year)\n",
    "\n"
   ]
  },
  {
   "cell_type": "code",
   "execution_count": null,
   "id": "749c7ed0-330c-4f03-96f7-85880c27d6fa",
   "metadata": {
    "execution": {
     "iopub.status.busy": "2022-11-09T14:03:31.601613Z",
     "iopub.status.idle": "2022-11-09T14:03:31.602613Z",
     "shell.execute_reply": "2022-11-09T14:03:31.601613Z",
     "shell.execute_reply.started": "2022-11-09T14:03:31.601613Z"
    },
    "tags": []
   },
   "outputs": [],
   "source": [
    "def feature_error(df_lib,model):\n",
    "    results = []\n",
    "    for i in df_lib:\n",
    "        x = df_lib[str(i)]\n",
    "        y = x['GHGEmissionsIntensity']\n",
    "        x = x.drop(axis = 1, labels = 'GHGEmissionsIntensity')\n",
    "        sqf = x['PropertyGFABuilding(s)']\n",
    "        x = sscaler_fit.transform(x)\n",
    "        \n",
    "        y = np.array(np.log(y)).reshape(-1,1)     \n",
    "        pred = model.predict(x)\n",
    "        \n",
    "        y = np.array(np.exp(y)).reshape(-1,1)\n",
    "        pred = np.array(np.exp(pred)).reshape(-1,1)\n",
    "        \n",
    "        sqf = np.array(sqf).reshape(-1,1)\n",
    "        y = y*sqf\n",
    "        pred = pred*sqf\n",
    "        \n",
    "        results.append((np.sqrt(metrics.mean_squared_error(y,pred))/np.mean(y)) )\n",
    "    return results\n",
    "    "
   ]
  },
  {
   "cell_type": "code",
   "execution_count": null,
   "id": "f1e8617c-cc02-472d-a1ef-976f89a3a99d",
   "metadata": {
    "execution": {
     "iopub.status.busy": "2022-11-09T14:03:31.603636Z",
     "iopub.status.idle": "2022-11-09T14:03:31.603636Z",
     "shell.execute_reply": "2022-11-09T14:03:31.603636Z",
     "shell.execute_reply.started": "2022-11-09T14:03:31.603636Z"
    },
    "tags": []
   },
   "outputs": [],
   "source": [
    "results = feature_error(df_year,model_xgb)\n",
    "print(results)"
   ]
  }
 ],
 "metadata": {
  "kernelspec": {
   "display_name": "Python 3 (ipykernel)",
   "language": "python",
   "name": "python3"
  },
  "language_info": {
   "codemirror_mode": {
    "name": "ipython",
    "version": 3
   },
   "file_extension": ".py",
   "mimetype": "text/x-python",
   "name": "python",
   "nbconvert_exporter": "python",
   "pygments_lexer": "ipython3",
   "version": "3.9.12"
  }
 },
 "nbformat": 4,
 "nbformat_minor": 5
}
