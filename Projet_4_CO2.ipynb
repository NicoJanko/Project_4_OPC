{
 "cells": [
  {
   "cell_type": "markdown",
   "id": "2fb6cab8-d975-41e3-95f8-be280fd8eca2",
   "metadata": {},
   "source": [
    "# Modelisation de la consommation totale d'energie"
   ]
  },
  {
   "cell_type": "code",
   "execution_count": 1,
   "id": "ff631086-1f08-49b0-9844-8833ce2b57fc",
   "metadata": {
    "execution": {
     "iopub.execute_input": "2022-11-03T07:53:50.512421Z",
     "iopub.status.busy": "2022-11-03T07:53:50.512421Z",
     "iopub.status.idle": "2022-11-03T07:54:06.885143Z",
     "shell.execute_reply": "2022-11-03T07:54:06.885143Z",
     "shell.execute_reply.started": "2022-11-03T07:53:50.512421Z"
    },
    "tags": []
   },
   "outputs": [],
   "source": [
    "import pandas as pd\n",
    "import numpy as np \n",
    "import matplotlib.pyplot as plt\n",
    "import seaborn as sns\n",
    "from sklearn.model_selection import train_test_split, GridSearchCV\n",
    "import sklearn.preprocessing as sk_prepro\n",
    "from sklearn import metrics"
   ]
  },
  {
   "cell_type": "code",
   "execution_count": 2,
   "id": "121579be-483c-4051-98e6-1a39153a8573",
   "metadata": {
    "execution": {
     "iopub.execute_input": "2022-11-03T07:54:06.887143Z",
     "iopub.status.busy": "2022-11-03T07:54:06.886142Z",
     "iopub.status.idle": "2022-11-03T07:54:06.996739Z",
     "shell.execute_reply": "2022-11-03T07:54:06.996739Z",
     "shell.execute_reply.started": "2022-11-03T07:54:06.887143Z"
    },
    "tags": []
   },
   "outputs": [],
   "source": [
    "df = pd.read_csv('data_full.csv')"
   ]
  },
  {
   "cell_type": "code",
   "execution_count": 3,
   "id": "3d8984b7-8236-4e08-b8b2-ddfe192af60e",
   "metadata": {
    "execution": {
     "iopub.execute_input": "2022-11-03T07:54:06.998658Z",
     "iopub.status.busy": "2022-11-03T07:54:06.998658Z",
     "iopub.status.idle": "2022-11-03T07:54:07.012691Z",
     "shell.execute_reply": "2022-11-03T07:54:07.012691Z",
     "shell.execute_reply.started": "2022-11-03T07:54:06.998658Z"
    },
    "tags": []
   },
   "outputs": [],
   "source": [
    "data_num = df\n",
    "target_tag ='GHGEmissionsIntensity'\n",
    "target = data_num[target_tag]\n",
    "sqf = data_num['PropertyGFATotal']\n",
    "data_num = data_num.drop(labels = [target_tag,'SiteEnergyUse(kBtu)', 'ENERGYSTARScore','SiteEUI(kBtu/sf)', 'TotalGHGEmissions' ], axis = 1)"
   ]
  },
  {
   "cell_type": "code",
   "execution_count": 4,
   "id": "d6e42a06-c50f-4760-af56-b86d619123bb",
   "metadata": {
    "execution": {
     "iopub.execute_input": "2022-11-03T07:54:07.013658Z",
     "iopub.status.busy": "2022-11-03T07:54:07.013658Z",
     "iopub.status.idle": "2022-11-03T07:54:07.044660Z",
     "shell.execute_reply": "2022-11-03T07:54:07.043661Z",
     "shell.execute_reply.started": "2022-11-03T07:54:07.013658Z"
    },
    "tags": []
   },
   "outputs": [
    {
     "name": "stdout",
     "output_type": "stream",
     "text": [
      "<class 'pandas.core.frame.DataFrame'>\n",
      "RangeIndex: 1630 entries, 0 to 1629\n",
      "Columns: 522 entries, 0 to ThirdLargestPropertyUseTypeGFA\n",
      "dtypes: float64(522)\n",
      "memory usage: 6.5 MB\n"
     ]
    }
   ],
   "source": [
    "data_num.info()"
   ]
  },
  {
   "cell_type": "markdown",
   "id": "ae5491d6-cd97-46a4-a2d1-c74d321697d0",
   "metadata": {},
   "source": [
    "## Modèle linéaire"
   ]
  },
  {
   "cell_type": "code",
   "execution_count": 5,
   "id": "31efd872-fd59-43f1-89f2-06ee288152bb",
   "metadata": {
    "execution": {
     "iopub.execute_input": "2022-11-03T07:54:07.046662Z",
     "iopub.status.busy": "2022-11-03T07:54:07.046662Z",
     "iopub.status.idle": "2022-11-03T07:54:08.909818Z",
     "shell.execute_reply": "2022-11-03T07:54:08.909818Z",
     "shell.execute_reply.started": "2022-11-03T07:54:07.046662Z"
    },
    "tags": []
   },
   "outputs": [],
   "source": [
    "from sklearn.linear_model import Ridge\n",
    "from sklearn import svm\n",
    "from sklearn.neighbors import KNeighborsRegressor"
   ]
  },
  {
   "cell_type": "code",
   "execution_count": 6,
   "id": "df57154a-6b95-49f2-b3d8-30dcd8e16d4c",
   "metadata": {
    "execution": {
     "iopub.execute_input": "2022-11-03T07:54:08.911819Z",
     "iopub.status.busy": "2022-11-03T07:54:08.910841Z",
     "iopub.status.idle": "2022-11-03T07:54:08.925928Z",
     "shell.execute_reply": "2022-11-03T07:54:08.925000Z",
     "shell.execute_reply.started": "2022-11-03T07:54:08.911819Z"
    },
    "tags": []
   },
   "outputs": [],
   "source": [
    "from sklearn import linear_model\n",
    "line_reg = linear_model.LinearRegression()"
   ]
  },
  {
   "cell_type": "code",
   "execution_count": 7,
   "id": "74cd14cd-9495-4c1c-895a-017e4e90a10a",
   "metadata": {
    "execution": {
     "iopub.execute_input": "2022-11-03T07:54:08.926918Z",
     "iopub.status.busy": "2022-11-03T07:54:08.926918Z",
     "iopub.status.idle": "2022-11-03T07:54:08.971856Z",
     "shell.execute_reply": "2022-11-03T07:54:08.971856Z",
     "shell.execute_reply.started": "2022-11-03T07:54:08.926918Z"
    },
    "tags": []
   },
   "outputs": [],
   "source": [
    "#first let's test this on knregressoe\n",
    "xtrain, xtest, ytrain, ytest, sqftrain, sqftest = train_test_split(data_num, target, sqf, test_size = 0.2)\n",
    "\n",
    "#let's standard scale\n",
    "\n",
    "sscaler = sk_prepro.StandardScaler()\n",
    "sscaler_fit = sscaler.fit(xtrain)\n",
    "xtrain = sscaler_fit.transform(xtrain)\n",
    "xtest = sscaler_fit.transform(xtest)\n",
    "#log scale the target\n",
    "ytrain = np.log(ytrain)\n",
    "ytest = np.log(ytest)\n",
    "\n",
    "sqftrain = np.array(sqftrain).reshape(-1,1)\n",
    "sqftest = np.array(sqftest).reshape(-1,1)"
   ]
  },
  {
   "cell_type": "code",
   "execution_count": 8,
   "id": "127c7198-7b1b-4a8f-bd84-8b4f5145d06b",
   "metadata": {
    "execution": {
     "iopub.execute_input": "2022-11-03T07:54:08.972857Z",
     "iopub.status.busy": "2022-11-03T07:54:08.972857Z",
     "iopub.status.idle": "2022-11-03T07:54:08.986857Z",
     "shell.execute_reply": "2022-11-03T07:54:08.986857Z",
     "shell.execute_reply.started": "2022-11-03T07:54:08.972857Z"
    },
    "tags": []
   },
   "outputs": [],
   "source": [
    "def true_pred_plot(y_train,pred_train, y_test, pred_test):\n",
    "    fig, ax = plt.subplots(2, figsize = (10,10))\n",
    "    \n",
    "    y_train= np.array(np.exp(y_train)).reshape(-1,1)\n",
    "    pred_train = np.array(np.exp(pred_train)).reshape(-1,1)\n",
    "    y_test = np.array(np.exp(y_test)).reshape(-1,1)\n",
    "    pred_test = np.array(np.exp(pred_test)).reshape(-1,1)\n",
    "    \n",
    "    \n",
    "    \n",
    "    y_train = y_train*sqftrain\n",
    "    pred_train = pred_train*sqftrain\n",
    "    \n",
    "    line_reg_train = line_reg.fit(pred_train,y_train)\n",
    "    r2_train = line_reg_train.score(pred_train,y_train)\n",
    "    rmse_train = (np.sqrt(metrics.mean_squared_error(y_train, pred_train))/np.mean(y_train))\n",
    "    a = float(line_reg_train.coef_)\n",
    "    b= line_reg_train.intercept_\n",
    "    ax[0].scatter( y_train, pred_train)\n",
    "    ax[0].plot([a*np.abs(b)+b, a*y_train.max()+b],[np.abs(b), ytrain.max()], linestyle = 'dashed')\n",
    "    ax[0].text(0.7,0.4,'R2 : {:.3f} NRMSE : {: .2f}'.format(r2_train,rmse_train), transform = ax[0].transAxes)\n",
    "    ax[0].set_xlabel('True values')\n",
    "    ax[0].set_ylabel('Predicted values')\n",
    "    ax[0].set_xlim(y_train.min(),y_train.max())\n",
    "    ax[0].set_ylim(pred_train.min(),pred_train.max())\n",
    "    ax[0].set_title('On train values')\n",
    "\n",
    "    y_test = y_test*sqftest\n",
    "    pred_test = pred_test*sqftest\n",
    "    \n",
    "    line_reg_test  = line_reg.fit(pred_test,y_test)\n",
    "    r2_test =  line_reg_test.score(pred_test,y_test)\n",
    "    rmse_test = (np.sqrt(metrics.mean_squared_error(y_test, pred_test))/np.mean(y_test))\n",
    "    a = float(line_reg_test.coef_)\n",
    "    b=  line_reg_test.intercept_\n",
    "    ax[1].scatter( y_test, pred_test)\n",
    "    ax[1].plot([a*np.abs(b)+b, a*y_test.max()+b],[np.abs(b), y_test.max()], linestyle = 'dashed')\n",
    "    ax[1].text(0.7,0.4,'R2 : {:.3f} NRMSE : {: .2f}'.format(r2_test, rmse_test), transform = ax[1].transAxes)\n",
    "    ax[1].set_xlabel('True values')\n",
    "    ax[1].set_ylabel('Predicted values')\n",
    "    ax[1].set_xlim(y_test.min(),y_test.max())\n",
    "    ax[1].set_ylim(pred_test.min(),pred_test.max())\n",
    "    ax[1].set_title('On test values')\n",
    "    \n",
    "    plt.show()\n",
    "    plt.clf()"
   ]
  },
  {
   "cell_type": "code",
   "execution_count": 9,
   "id": "7864a029-dd2a-4ba5-ab75-8cb4461bb5a7",
   "metadata": {
    "execution": {
     "iopub.execute_input": "2022-11-03T07:54:08.987856Z",
     "iopub.status.busy": "2022-11-03T07:54:08.987856Z",
     "iopub.status.idle": "2022-11-03T07:54:10.255300Z",
     "shell.execute_reply": "2022-11-03T07:54:10.254300Z",
     "shell.execute_reply.started": "2022-11-03T07:54:08.987856Z"
    },
    "tags": []
   },
   "outputs": [
    {
     "name": "stderr",
     "output_type": "stream",
     "text": [
      "E:\\temp\\ipykernel_5108\\760745115.py:7: RuntimeWarning: overflow encountered in exp\n",
      "  pred_test = np.array(np.exp(pred_test)).reshape(-1,1)\n",
      "E:\\Data_Science\\Anaconda\\lib\\site-packages\\numpy\\core\\shape_base.py:65: VisibleDeprecationWarning: Creating an ndarray from ragged nested sequences (which is a list-or-tuple of lists-or-tuples-or ndarrays with different lengths or shapes) is deprecated. If you meant to do this, you must specify 'dtype=object' when creating the ndarray.\n",
      "  ary = asanyarray(ary)\n"
     ]
    },
    {
     "ename": "ValueError",
     "evalue": "Input contains NaN, infinity or a value too large for dtype('float64').",
     "output_type": "error",
     "traceback": [
      "\u001b[1;31m---------------------------------------------------------------------------\u001b[0m",
      "\u001b[1;31mValueError\u001b[0m                                Traceback (most recent call last)",
      "Input \u001b[1;32mIn [9]\u001b[0m, in \u001b[0;36m<cell line: 6>\u001b[1;34m()\u001b[0m\n\u001b[0;32m      1\u001b[0m line_reg_m \u001b[38;5;241m=\u001b[39m linear_model\u001b[38;5;241m.\u001b[39mLinearRegression()\n\u001b[0;32m      3\u001b[0m line_reg_m\u001b[38;5;241m.\u001b[39mfit(xtrain,ytrain)\n\u001b[1;32m----> 6\u001b[0m \u001b[43mtrue_pred_plot\u001b[49m\u001b[43m(\u001b[49m\u001b[43mytrain\u001b[49m\u001b[43m,\u001b[49m\u001b[43m \u001b[49m\u001b[43mline_reg_m\u001b[49m\u001b[38;5;241;43m.\u001b[39;49m\u001b[43mpredict\u001b[49m\u001b[43m(\u001b[49m\u001b[43mxtrain\u001b[49m\u001b[43m)\u001b[49m\u001b[43m,\u001b[49m\u001b[43m \u001b[49m\u001b[43mytest\u001b[49m\u001b[43m,\u001b[49m\u001b[43m \u001b[49m\u001b[43mline_reg_m\u001b[49m\u001b[38;5;241;43m.\u001b[39;49m\u001b[43mpredict\u001b[49m\u001b[43m(\u001b[49m\u001b[43mxtest\u001b[49m\u001b[43m)\u001b[49m\u001b[43m)\u001b[49m\n",
      "Input \u001b[1;32mIn [8]\u001b[0m, in \u001b[0;36mtrue_pred_plot\u001b[1;34m(y_train, pred_train, y_test, pred_test)\u001b[0m\n\u001b[0;32m     28\u001b[0m y_test \u001b[38;5;241m=\u001b[39m y_test\u001b[38;5;241m*\u001b[39msqftest\n\u001b[0;32m     29\u001b[0m pred_test \u001b[38;5;241m=\u001b[39m pred_test\u001b[38;5;241m*\u001b[39msqftest\n\u001b[1;32m---> 31\u001b[0m line_reg_test  \u001b[38;5;241m=\u001b[39m \u001b[43mline_reg\u001b[49m\u001b[38;5;241;43m.\u001b[39;49m\u001b[43mfit\u001b[49m\u001b[43m(\u001b[49m\u001b[43mpred_test\u001b[49m\u001b[43m,\u001b[49m\u001b[43my_test\u001b[49m\u001b[43m)\u001b[49m\n\u001b[0;32m     32\u001b[0m r2_test \u001b[38;5;241m=\u001b[39m  line_reg_test\u001b[38;5;241m.\u001b[39mscore(pred_test,y_test)\n\u001b[0;32m     33\u001b[0m rmse_test \u001b[38;5;241m=\u001b[39m (np\u001b[38;5;241m.\u001b[39msqrt(metrics\u001b[38;5;241m.\u001b[39mmean_squared_error(y_test, pred_test))\u001b[38;5;241m/\u001b[39mnp\u001b[38;5;241m.\u001b[39mmean(y_test))\n",
      "File \u001b[1;32mE:\\Data_Science\\Anaconda\\lib\\site-packages\\sklearn\\linear_model\\_base.py:662\u001b[0m, in \u001b[0;36mLinearRegression.fit\u001b[1;34m(self, X, y, sample_weight)\u001b[0m\n\u001b[0;32m    658\u001b[0m n_jobs_ \u001b[38;5;241m=\u001b[39m \u001b[38;5;28mself\u001b[39m\u001b[38;5;241m.\u001b[39mn_jobs\n\u001b[0;32m    660\u001b[0m accept_sparse \u001b[38;5;241m=\u001b[39m \u001b[38;5;28;01mFalse\u001b[39;00m \u001b[38;5;28;01mif\u001b[39;00m \u001b[38;5;28mself\u001b[39m\u001b[38;5;241m.\u001b[39mpositive \u001b[38;5;28;01melse\u001b[39;00m [\u001b[38;5;124m\"\u001b[39m\u001b[38;5;124mcsr\u001b[39m\u001b[38;5;124m\"\u001b[39m, \u001b[38;5;124m\"\u001b[39m\u001b[38;5;124mcsc\u001b[39m\u001b[38;5;124m\"\u001b[39m, \u001b[38;5;124m\"\u001b[39m\u001b[38;5;124mcoo\u001b[39m\u001b[38;5;124m\"\u001b[39m]\n\u001b[1;32m--> 662\u001b[0m X, y \u001b[38;5;241m=\u001b[39m \u001b[38;5;28;43mself\u001b[39;49m\u001b[38;5;241;43m.\u001b[39;49m\u001b[43m_validate_data\u001b[49m\u001b[43m(\u001b[49m\n\u001b[0;32m    663\u001b[0m \u001b[43m    \u001b[49m\u001b[43mX\u001b[49m\u001b[43m,\u001b[49m\u001b[43m \u001b[49m\u001b[43my\u001b[49m\u001b[43m,\u001b[49m\u001b[43m \u001b[49m\u001b[43maccept_sparse\u001b[49m\u001b[38;5;241;43m=\u001b[39;49m\u001b[43maccept_sparse\u001b[49m\u001b[43m,\u001b[49m\u001b[43m \u001b[49m\u001b[43my_numeric\u001b[49m\u001b[38;5;241;43m=\u001b[39;49m\u001b[38;5;28;43;01mTrue\u001b[39;49;00m\u001b[43m,\u001b[49m\u001b[43m \u001b[49m\u001b[43mmulti_output\u001b[49m\u001b[38;5;241;43m=\u001b[39;49m\u001b[38;5;28;43;01mTrue\u001b[39;49;00m\n\u001b[0;32m    664\u001b[0m \u001b[43m\u001b[49m\u001b[43m)\u001b[49m\n\u001b[0;32m    666\u001b[0m \u001b[38;5;28;01mif\u001b[39;00m sample_weight \u001b[38;5;129;01mis\u001b[39;00m \u001b[38;5;129;01mnot\u001b[39;00m \u001b[38;5;28;01mNone\u001b[39;00m:\n\u001b[0;32m    667\u001b[0m     sample_weight \u001b[38;5;241m=\u001b[39m _check_sample_weight(sample_weight, X, dtype\u001b[38;5;241m=\u001b[39mX\u001b[38;5;241m.\u001b[39mdtype)\n",
      "File \u001b[1;32mE:\\Data_Science\\Anaconda\\lib\\site-packages\\sklearn\\base.py:581\u001b[0m, in \u001b[0;36mBaseEstimator._validate_data\u001b[1;34m(self, X, y, reset, validate_separately, **check_params)\u001b[0m\n\u001b[0;32m    579\u001b[0m         y \u001b[38;5;241m=\u001b[39m check_array(y, \u001b[38;5;241m*\u001b[39m\u001b[38;5;241m*\u001b[39mcheck_y_params)\n\u001b[0;32m    580\u001b[0m     \u001b[38;5;28;01melse\u001b[39;00m:\n\u001b[1;32m--> 581\u001b[0m         X, y \u001b[38;5;241m=\u001b[39m check_X_y(X, y, \u001b[38;5;241m*\u001b[39m\u001b[38;5;241m*\u001b[39mcheck_params)\n\u001b[0;32m    582\u001b[0m     out \u001b[38;5;241m=\u001b[39m X, y\n\u001b[0;32m    584\u001b[0m \u001b[38;5;28;01mif\u001b[39;00m \u001b[38;5;129;01mnot\u001b[39;00m no_val_X \u001b[38;5;129;01mand\u001b[39;00m check_params\u001b[38;5;241m.\u001b[39mget(\u001b[38;5;124m\"\u001b[39m\u001b[38;5;124mensure_2d\u001b[39m\u001b[38;5;124m\"\u001b[39m, \u001b[38;5;28;01mTrue\u001b[39;00m):\n",
      "File \u001b[1;32mE:\\Data_Science\\Anaconda\\lib\\site-packages\\sklearn\\utils\\validation.py:964\u001b[0m, in \u001b[0;36mcheck_X_y\u001b[1;34m(X, y, accept_sparse, accept_large_sparse, dtype, order, copy, force_all_finite, ensure_2d, allow_nd, multi_output, ensure_min_samples, ensure_min_features, y_numeric, estimator)\u001b[0m\n\u001b[0;32m    961\u001b[0m \u001b[38;5;28;01mif\u001b[39;00m y \u001b[38;5;129;01mis\u001b[39;00m \u001b[38;5;28;01mNone\u001b[39;00m:\n\u001b[0;32m    962\u001b[0m     \u001b[38;5;28;01mraise\u001b[39;00m \u001b[38;5;167;01mValueError\u001b[39;00m(\u001b[38;5;124m\"\u001b[39m\u001b[38;5;124my cannot be None\u001b[39m\u001b[38;5;124m\"\u001b[39m)\n\u001b[1;32m--> 964\u001b[0m X \u001b[38;5;241m=\u001b[39m \u001b[43mcheck_array\u001b[49m\u001b[43m(\u001b[49m\n\u001b[0;32m    965\u001b[0m \u001b[43m    \u001b[49m\u001b[43mX\u001b[49m\u001b[43m,\u001b[49m\n\u001b[0;32m    966\u001b[0m \u001b[43m    \u001b[49m\u001b[43maccept_sparse\u001b[49m\u001b[38;5;241;43m=\u001b[39;49m\u001b[43maccept_sparse\u001b[49m\u001b[43m,\u001b[49m\n\u001b[0;32m    967\u001b[0m \u001b[43m    \u001b[49m\u001b[43maccept_large_sparse\u001b[49m\u001b[38;5;241;43m=\u001b[39;49m\u001b[43maccept_large_sparse\u001b[49m\u001b[43m,\u001b[49m\n\u001b[0;32m    968\u001b[0m \u001b[43m    \u001b[49m\u001b[43mdtype\u001b[49m\u001b[38;5;241;43m=\u001b[39;49m\u001b[43mdtype\u001b[49m\u001b[43m,\u001b[49m\n\u001b[0;32m    969\u001b[0m \u001b[43m    \u001b[49m\u001b[43morder\u001b[49m\u001b[38;5;241;43m=\u001b[39;49m\u001b[43morder\u001b[49m\u001b[43m,\u001b[49m\n\u001b[0;32m    970\u001b[0m \u001b[43m    \u001b[49m\u001b[43mcopy\u001b[49m\u001b[38;5;241;43m=\u001b[39;49m\u001b[43mcopy\u001b[49m\u001b[43m,\u001b[49m\n\u001b[0;32m    971\u001b[0m \u001b[43m    \u001b[49m\u001b[43mforce_all_finite\u001b[49m\u001b[38;5;241;43m=\u001b[39;49m\u001b[43mforce_all_finite\u001b[49m\u001b[43m,\u001b[49m\n\u001b[0;32m    972\u001b[0m \u001b[43m    \u001b[49m\u001b[43mensure_2d\u001b[49m\u001b[38;5;241;43m=\u001b[39;49m\u001b[43mensure_2d\u001b[49m\u001b[43m,\u001b[49m\n\u001b[0;32m    973\u001b[0m \u001b[43m    \u001b[49m\u001b[43mallow_nd\u001b[49m\u001b[38;5;241;43m=\u001b[39;49m\u001b[43mallow_nd\u001b[49m\u001b[43m,\u001b[49m\n\u001b[0;32m    974\u001b[0m \u001b[43m    \u001b[49m\u001b[43mensure_min_samples\u001b[49m\u001b[38;5;241;43m=\u001b[39;49m\u001b[43mensure_min_samples\u001b[49m\u001b[43m,\u001b[49m\n\u001b[0;32m    975\u001b[0m \u001b[43m    \u001b[49m\u001b[43mensure_min_features\u001b[49m\u001b[38;5;241;43m=\u001b[39;49m\u001b[43mensure_min_features\u001b[49m\u001b[43m,\u001b[49m\n\u001b[0;32m    976\u001b[0m \u001b[43m    \u001b[49m\u001b[43mestimator\u001b[49m\u001b[38;5;241;43m=\u001b[39;49m\u001b[43mestimator\u001b[49m\u001b[43m,\u001b[49m\n\u001b[0;32m    977\u001b[0m \u001b[43m\u001b[49m\u001b[43m)\u001b[49m\n\u001b[0;32m    979\u001b[0m y \u001b[38;5;241m=\u001b[39m _check_y(y, multi_output\u001b[38;5;241m=\u001b[39mmulti_output, y_numeric\u001b[38;5;241m=\u001b[39my_numeric)\n\u001b[0;32m    981\u001b[0m check_consistent_length(X, y)\n",
      "File \u001b[1;32mE:\\Data_Science\\Anaconda\\lib\\site-packages\\sklearn\\utils\\validation.py:800\u001b[0m, in \u001b[0;36mcheck_array\u001b[1;34m(array, accept_sparse, accept_large_sparse, dtype, order, copy, force_all_finite, ensure_2d, allow_nd, ensure_min_samples, ensure_min_features, estimator)\u001b[0m\n\u001b[0;32m    794\u001b[0m         \u001b[38;5;28;01mraise\u001b[39;00m \u001b[38;5;167;01mValueError\u001b[39;00m(\n\u001b[0;32m    795\u001b[0m             \u001b[38;5;124m\"\u001b[39m\u001b[38;5;124mFound array with dim \u001b[39m\u001b[38;5;132;01m%d\u001b[39;00m\u001b[38;5;124m. \u001b[39m\u001b[38;5;132;01m%s\u001b[39;00m\u001b[38;5;124m expected <= 2.\u001b[39m\u001b[38;5;124m\"\u001b[39m\n\u001b[0;32m    796\u001b[0m             \u001b[38;5;241m%\u001b[39m (array\u001b[38;5;241m.\u001b[39mndim, estimator_name)\n\u001b[0;32m    797\u001b[0m         )\n\u001b[0;32m    799\u001b[0m     \u001b[38;5;28;01mif\u001b[39;00m force_all_finite:\n\u001b[1;32m--> 800\u001b[0m         \u001b[43m_assert_all_finite\u001b[49m\u001b[43m(\u001b[49m\u001b[43marray\u001b[49m\u001b[43m,\u001b[49m\u001b[43m \u001b[49m\u001b[43mallow_nan\u001b[49m\u001b[38;5;241;43m=\u001b[39;49m\u001b[43mforce_all_finite\u001b[49m\u001b[43m \u001b[49m\u001b[38;5;241;43m==\u001b[39;49m\u001b[43m \u001b[49m\u001b[38;5;124;43m\"\u001b[39;49m\u001b[38;5;124;43mallow-nan\u001b[39;49m\u001b[38;5;124;43m\"\u001b[39;49m\u001b[43m)\u001b[49m\n\u001b[0;32m    802\u001b[0m \u001b[38;5;28;01mif\u001b[39;00m ensure_min_samples \u001b[38;5;241m>\u001b[39m \u001b[38;5;241m0\u001b[39m:\n\u001b[0;32m    803\u001b[0m     n_samples \u001b[38;5;241m=\u001b[39m _num_samples(array)\n",
      "File \u001b[1;32mE:\\Data_Science\\Anaconda\\lib\\site-packages\\sklearn\\utils\\validation.py:114\u001b[0m, in \u001b[0;36m_assert_all_finite\u001b[1;34m(X, allow_nan, msg_dtype)\u001b[0m\n\u001b[0;32m    107\u001b[0m     \u001b[38;5;28;01mif\u001b[39;00m (\n\u001b[0;32m    108\u001b[0m         allow_nan\n\u001b[0;32m    109\u001b[0m         \u001b[38;5;129;01mand\u001b[39;00m np\u001b[38;5;241m.\u001b[39misinf(X)\u001b[38;5;241m.\u001b[39many()\n\u001b[0;32m    110\u001b[0m         \u001b[38;5;129;01mor\u001b[39;00m \u001b[38;5;129;01mnot\u001b[39;00m allow_nan\n\u001b[0;32m    111\u001b[0m         \u001b[38;5;129;01mand\u001b[39;00m \u001b[38;5;129;01mnot\u001b[39;00m np\u001b[38;5;241m.\u001b[39misfinite(X)\u001b[38;5;241m.\u001b[39mall()\n\u001b[0;32m    112\u001b[0m     ):\n\u001b[0;32m    113\u001b[0m         type_err \u001b[38;5;241m=\u001b[39m \u001b[38;5;124m\"\u001b[39m\u001b[38;5;124minfinity\u001b[39m\u001b[38;5;124m\"\u001b[39m \u001b[38;5;28;01mif\u001b[39;00m allow_nan \u001b[38;5;28;01melse\u001b[39;00m \u001b[38;5;124m\"\u001b[39m\u001b[38;5;124mNaN, infinity\u001b[39m\u001b[38;5;124m\"\u001b[39m\n\u001b[1;32m--> 114\u001b[0m         \u001b[38;5;28;01mraise\u001b[39;00m \u001b[38;5;167;01mValueError\u001b[39;00m(\n\u001b[0;32m    115\u001b[0m             msg_err\u001b[38;5;241m.\u001b[39mformat(\n\u001b[0;32m    116\u001b[0m                 type_err, msg_dtype \u001b[38;5;28;01mif\u001b[39;00m msg_dtype \u001b[38;5;129;01mis\u001b[39;00m \u001b[38;5;129;01mnot\u001b[39;00m \u001b[38;5;28;01mNone\u001b[39;00m \u001b[38;5;28;01melse\u001b[39;00m X\u001b[38;5;241m.\u001b[39mdtype\n\u001b[0;32m    117\u001b[0m             )\n\u001b[0;32m    118\u001b[0m         )\n\u001b[0;32m    119\u001b[0m \u001b[38;5;66;03m# for object dtype data, we only check for NaNs (GH-13254)\u001b[39;00m\n\u001b[0;32m    120\u001b[0m \u001b[38;5;28;01melif\u001b[39;00m X\u001b[38;5;241m.\u001b[39mdtype \u001b[38;5;241m==\u001b[39m np\u001b[38;5;241m.\u001b[39mdtype(\u001b[38;5;124m\"\u001b[39m\u001b[38;5;124mobject\u001b[39m\u001b[38;5;124m\"\u001b[39m) \u001b[38;5;129;01mand\u001b[39;00m \u001b[38;5;129;01mnot\u001b[39;00m allow_nan:\n",
      "\u001b[1;31mValueError\u001b[0m: Input contains NaN, infinity or a value too large for dtype('float64')."
     ]
    },
    {
     "data": {
      "image/png": "[encoded data removed]",
      "text/plain": [
       "<Figure size 720x720 with 2 Axes>"
      ]
     },
     "metadata": {
      "needs_background": "light"
     },
     "output_type": "display_data"
    }
   ],
   "source": [
    "line_reg_m = linear_model.LinearRegression()\n",
    "\n",
    "line_reg_m.fit(xtrain,ytrain)\n",
    "\n",
    "\n",
    "true_pred_plot(ytrain, line_reg_m.predict(xtrain), ytest, line_reg_m.predict(xtest))"
   ]
  },
  {
   "cell_type": "code",
   "execution_count": 10,
   "id": "e73a1b31-845a-4abf-852a-14d9dbddf55d",
   "metadata": {
    "execution": {
     "iopub.execute_input": "2022-11-03T07:58:39.431760Z",
     "iopub.status.busy": "2022-11-03T07:58:39.431760Z",
     "iopub.status.idle": "2022-11-03T07:58:40.286732Z",
     "shell.execute_reply": "2022-11-03T07:58:40.286732Z",
     "shell.execute_reply.started": "2022-11-03T07:58:39.431760Z"
    },
    "tags": []
   },
   "outputs": [
    {
     "name": "stdout",
     "output_type": "stream",
     "text": [
      "Fitting 3 folds for each of 14 candidates, totalling 42 fits\n",
      "Best params on training set : {'n_neighbors': 9}\n",
      "GridCV results : \n",
      "r2 = 0.006 (+/- 0.124) for {'n_neighbors': 2}\n",
      "r2 = 0.099 (+/- 0.079) for {'n_neighbors': 3}\n",
      "r2 = 0.149 (+/- 0.089) for {'n_neighbors': 4}\n",
      "r2 = 0.154 (+/- 0.068) for {'n_neighbors': 5}\n",
      "r2 = 0.168 (+/- 0.080) for {'n_neighbors': 6}\n",
      "r2 = 0.178 (+/- 0.092) for {'n_neighbors': 7}\n",
      "r2 = 0.179 (+/- 0.103) for {'n_neighbors': 8}\n",
      "r2 = 0.181 (+/- 0.087) for {'n_neighbors': 9}\n",
      "r2 = 0.177 (+/- 0.099) for {'n_neighbors': 10}\n",
      "r2 = 0.168 (+/- 0.096) for {'n_neighbors': 11}\n",
      "r2 = 0.164 (+/- 0.097) for {'n_neighbors': 12}\n",
      "r2 = 0.149 (+/- 0.106) for {'n_neighbors': 13}\n",
      "r2 = 0.137 (+/- 0.112) for {'n_neighbors': 14}\n",
      "r2 = 0.133 (+/- 0.105) for {'n_neighbors': 15}\n"
     ]
    },
    {
     "name": "stderr",
     "output_type": "stream",
     "text": [
      "E:\\Data_Science\\Anaconda\\lib\\site-packages\\numpy\\core\\shape_base.py:65: VisibleDeprecationWarning: Creating an ndarray from ragged nested sequences (which is a list-or-tuple of lists-or-tuples-or ndarrays with different lengths or shapes) is deprecated. If you meant to do this, you must specify 'dtype=object' when creating the ndarray.\n",
      "  ary = asanyarray(ary)\n",
      "E:\\Data_Science\\Anaconda\\lib\\site-packages\\numpy\\core\\shape_base.py:65: VisibleDeprecationWarning: Creating an ndarray from ragged nested sequences (which is a list-or-tuple of lists-or-tuples-or ndarrays with different lengths or shapes) is deprecated. If you meant to do this, you must specify 'dtype=object' when creating the ndarray.\n",
      "  ary = asanyarray(ary)\n"
     ]
    },
    {
     "data": {
      "image/png": "[encoded data removed]",
      "text/plain": [
       "<Figure size 720x720 with 2 Axes>"
      ]
     },
     "metadata": {
      "needs_background": "light"
     },
     "output_type": "display_data"
    },
    {
     "data": {
      "text/plain": [
       "<Figure size 432x288 with 0 Axes>"
      ]
     },
     "metadata": {},
     "output_type": "display_data"
    }
   ],
   "source": [
    "#let's grid search for the k\n",
    "\n",
    "k_grid = {'n_neighbors' : list(range(2,16))}\n",
    "score = 'r2'\n",
    "\n",
    "reg = GridSearchCV(KNeighborsRegressor(), k_grid, cv =3, scoring = score, verbose = 1)\n",
    "\n",
    "reg.fit(xtrain, ytrain)\n",
    "\n",
    "print('Best params on training set : {}'.format(reg.best_params_))\n",
    "\n",
    "print('GridCV results : ')\n",
    "for mean, std, k in zip(reg.cv_results_['mean_test_score'],\n",
    "                       reg.cv_results_['std_test_score'],\n",
    "                       reg.cv_results_['params']):\n",
    "    print('{} = {:.3f} (+/- {:.3f}) for {}'.format(score,mean,std*2,k))\n",
    "    \n",
    "model = KNeighborsRegressor(n_neighbors = reg.best_params_['n_neighbors']).fit(xtrain, ytrain)\n",
    "\n",
    "true_pred_plot(ytrain, model.predict(xtrain), ytest, model.predict(xtest))"
   ]
  },
  {
   "cell_type": "code",
   "execution_count": 11,
   "id": "88ed7501-a873-41ed-a11e-e84949e975cf",
   "metadata": {
    "execution": {
     "iopub.execute_input": "2022-11-03T07:59:30.340523Z",
     "iopub.status.busy": "2022-11-03T07:59:30.340523Z",
     "iopub.status.idle": "2022-11-03T08:35:44.539708Z",
     "shell.execute_reply": "2022-11-03T08:35:44.539708Z",
     "shell.execute_reply.started": "2022-11-03T07:59:30.340523Z"
    },
    "tags": []
   },
   "outputs": [
    {
     "name": "stdin",
     "output_type": "stream",
     "text": [
      "Do you want to launch ? [y/n] y\n"
     ]
    },
    {
     "name": "stdout",
     "output_type": "stream",
     "text": [
      "Fitting 3 folds for each of 120 candidates, totalling 360 fits\n",
      "Best params on training set : {'degree': 2, 'gamma': 0.01, 'kernel': 'rbf'}\n"
     ]
    },
    {
     "name": "stderr",
     "output_type": "stream",
     "text": [
      "E:\\Data_Science\\Anaconda\\lib\\site-packages\\numpy\\core\\shape_base.py:65: VisibleDeprecationWarning: Creating an ndarray from ragged nested sequences (which is a list-or-tuple of lists-or-tuples-or ndarrays with different lengths or shapes) is deprecated. If you meant to do this, you must specify 'dtype=object' when creating the ndarray.\n",
      "  ary = asanyarray(ary)\n",
      "E:\\Data_Science\\Anaconda\\lib\\site-packages\\numpy\\core\\shape_base.py:65: VisibleDeprecationWarning: Creating an ndarray from ragged nested sequences (which is a list-or-tuple of lists-or-tuples-or ndarrays with different lengths or shapes) is deprecated. If you meant to do this, you must specify 'dtype=object' when creating the ndarray.\n",
      "  ary = asanyarray(ary)\n"
     ]
    },
    {
     "data": {
      "image/png": "[encoded data removed]",
      "text/plain": [
       "<Figure size 720x720 with 2 Axes>"
      ]
     },
     "metadata": {
      "needs_background": "light"
     },
     "output_type": "display_data"
    },
    {
     "data": {
      "text/plain": [
       "<Figure size 432x288 with 0 Axes>"
      ]
     },
     "metadata": {},
     "output_type": "display_data"
    }
   ],
   "source": [
    "x = input('Do you want to launch ? [y/n]')\n",
    "if x == 'y':\n",
    "\n",
    "    #let's try with a svr\n",
    "    C_range = [1.0, 5.0, 10.0, 100.0]\n",
    "    kernels = ['linear', 'rbf', 'sigmoid', 'poly']\n",
    "    degrees = [2,3,4]\n",
    "    gamma_range  = np.logspace(-2, 1, 10)\n",
    "    #gamma_range = np.logspace(-2, 1, 10)\n",
    "    #'gamma' : gamma_range\n",
    "    param_grid = {'gamma' : gamma_range, 'kernel' : kernels, 'degree' : degrees}\n",
    "\n",
    "    score = 'neg_mean_squared_error'\n",
    "\n",
    "    svr_cv = GridSearchCV(svm.SVR(), param_grid, cv = 3, scoring = score, verbose = 1)\n",
    "\n",
    "    svr_cv.fit(xtrain, ytrain)\n",
    "\n",
    "    print('Best params on training set : {}'.format(svr_cv.best_params_))\n",
    "bkernel = svr_cv.best_params_['kernel']\n",
    "bgamma = svr_cv.best_params_['gamma']\n",
    "bdegree = svr_cv.best_params_['degree']\n",
    "    \n",
    "svr = svm.SVR(kernel=bkernel, C=1.0, gamma = bgamma, degree = bdegree)\n",
    "svr = svr.fit(xtrain,ytrain)\n",
    "\n",
    "true_pred_plot(ytrain, svr.predict(xtrain), ytest, svr.predict(xtest))"
   ]
  },
  {
   "cell_type": "code",
   "execution_count": null,
   "id": "23dc3ed2-d38d-4ce9-86a7-a1a57896a884",
   "metadata": {
    "execution": {
     "iopub.status.busy": "2022-11-03T07:54:10.258300Z",
     "iopub.status.idle": "2022-11-03T07:54:10.258300Z",
     "shell.execute_reply": "2022-11-03T07:54:10.258300Z",
     "shell.execute_reply.started": "2022-11-03T07:54:10.258300Z"
    },
    "tags": []
   },
   "outputs": [],
   "source": [
    "from sklearn import kernel_ridge\n",
    "#let's try with a ridge regression\n",
    "\n",
    "x = input('Do you want to launch ? [y/n]')\n",
    "if x == 'y':\n",
    "    alpha_range = [1.0, 5.0, 10.0, 100.0]\n",
    "    kernels = ['linear', 'poly', 'sigmoid', 'rbf']\n",
    "    degrees = [3,4,5]\n",
    "    gamma_range  = np.logspace(-2, 1, 10)\n",
    "\n",
    "\n",
    "    param_grid = {'gamma' : gamma_range, 'kernel' : kernels, 'degree' : degrees, 'alpha' : alpha_range}\n",
    "    \n",
    "    score = 'neg_mean_absolute_percentage_error'\n",
    "\n",
    "    kernel_ridge_cv = GridSearchCV(kernel_ridge.KernelRidge(), param_grid, cv = 3, scoring = score, verbose = 1)\n",
    "\n",
    "    kernel_ridge_cv.fit(xtrain, ytrain)\n",
    "\n",
    "    print('Best params on training set : {}'.format(kernel_ridge_cv.best_params_))\n",
    "    \n",
    "bkernel = kernel_ridge_cv.best_params_['kernel']\n",
    "bgamma = kernel_ridge_cv.best_params_['gamma']\n",
    "bdegree = kernel_ridge_cv.best_params_['degree']\n",
    "balpha = kernel_ridge_cv.best_params_['alpha']\n",
    "\n",
    "model = kernel_ridge.KernelRidge(alpha = balpha, kernel = bkernel, degree = bdegree, gamma = bgamma)\n",
    "model = model.fit(xtrain, ytrain)\n",
    "\n",
    "true_pred_plot(ytrain, model.predict(xtrain), ytest, model.predict(xtest))"
   ]
  },
  {
   "cell_type": "markdown",
   "id": "27b30d39-eb07-4bc6-9b40-753127644a6b",
   "metadata": {},
   "source": [
    "## Neural network"
   ]
  },
  {
   "cell_type": "code",
   "execution_count": null,
   "id": "10ba7dc1-8841-438d-8f24-2f406bd4e4e7",
   "metadata": {
    "execution": {
     "iopub.status.busy": "2022-11-03T07:54:10.259299Z",
     "iopub.status.idle": "2022-11-03T07:54:10.259299Z",
     "shell.execute_reply": "2022-11-03T07:54:10.259299Z",
     "shell.execute_reply.started": "2022-11-03T07:54:10.259299Z"
    },
    "tags": []
   },
   "outputs": [],
   "source": [
    "import tensorflow as tf\n",
    "from tensorflow import keras\n",
    "from tensorflow.keras import layers"
   ]
  },
  {
   "cell_type": "code",
   "execution_count": null,
   "id": "ae6fcc3d-1ed1-4744-8aa8-1fee512a03ca",
   "metadata": {
    "execution": {
     "iopub.status.busy": "2022-11-03T07:54:10.260300Z",
     "iopub.status.idle": "2022-11-03T07:54:10.260300Z",
     "shell.execute_reply": "2022-11-03T07:54:10.260300Z",
     "shell.execute_reply.started": "2022-11-03T07:54:10.260300Z"
    },
    "tags": []
   },
   "outputs": [],
   "source": [
    "#test with a single perceptron\n",
    "model1 = keras.Sequential()\n",
    "model1.add(keras.Input(shape = xtrain.shape[1]))\n",
    "model1.add(layers.Dense(1,input_dim = 2, activation = 'linear'))\n",
    "\n",
    "model1.compile(metrics = [tf.keras.metrics.RootMeanSquaredError()], loss = 'mean_absolute_percentage_error', optimizer = 'adam')\n",
    "\n",
    "model1.summary()\n",
    "\n",
    "history = model1.fit(xtrain, ytrain, epochs = 50, batch_size = 1, verbose = 1)"
   ]
  },
  {
   "cell_type": "code",
   "execution_count": null,
   "id": "5165db6e-15b9-43c5-9db0-013a06a5dcc1",
   "metadata": {
    "execution": {
     "iopub.status.busy": "2022-11-03T07:54:10.261300Z",
     "iopub.status.idle": "2022-11-03T07:54:10.261300Z",
     "shell.execute_reply": "2022-11-03T07:54:10.261300Z",
     "shell.execute_reply.started": "2022-11-03T07:54:10.261300Z"
    },
    "tags": []
   },
   "outputs": [],
   "source": [
    "true_pred_plot(ytrain, model1.predict(xtrain), ytest, model1.predict(xtest))"
   ]
  },
  {
   "cell_type": "code",
   "execution_count": null,
   "id": "796021a2-e991-4b29-856f-f42c645d6195",
   "metadata": {
    "execution": {
     "iopub.status.busy": "2022-11-03T07:54:10.262300Z",
     "iopub.status.idle": "2022-11-03T07:54:10.263300Z",
     "shell.execute_reply": "2022-11-03T07:54:10.263300Z",
     "shell.execute_reply.started": "2022-11-03T07:54:10.263300Z"
    },
    "tags": []
   },
   "outputs": [],
   "source": [
    "model2 = keras.Sequential(\n",
    "    [\n",
    "        layers.Dense(xtrain.shape[1], activation=\"relu\", name=\"layer1\", input_shape=(xtrain.shape[1],), input_dim = 2),\n",
    "        layers.Dense(287, activation=\"relu\", name=\"layer2\"),\n",
    "        layers.Dense(1, activation = 'linear', name=\"layer3\"),\n",
    "    ]\n",
    ")\n",
    "\n",
    "model2.compile(metrics = [tf.keras.metrics.RootMeanSquaredError()], loss = 'mean_absolute_percentage_error', optimizer = 'adam')\n",
    "\n",
    "model2.summary()\n",
    "\n",
    "history2 = model2.fit(xtrain, ytrain, epochs = 50, batch_size = 1, verbose = 1)"
   ]
  },
  {
   "cell_type": "code",
   "execution_count": null,
   "id": "09e7b0af-2378-416b-b131-0da8b65cad21",
   "metadata": {
    "execution": {
     "iopub.status.busy": "2022-11-03T07:54:10.264300Z",
     "iopub.status.idle": "2022-11-03T07:54:10.264300Z",
     "shell.execute_reply": "2022-11-03T07:54:10.264300Z",
     "shell.execute_reply.started": "2022-11-03T07:54:10.264300Z"
    },
    "tags": []
   },
   "outputs": [],
   "source": [
    "true_pred_plot(ytrain, model2.predict(xtrain), ytest, model2.predict(xtest))"
   ]
  },
  {
   "cell_type": "code",
   "execution_count": null,
   "id": "17a6d228-d235-4d48-a400-c9021e8aceac",
   "metadata": {
    "execution": {
     "iopub.status.busy": "2022-11-03T07:54:10.265300Z",
     "iopub.status.idle": "2022-11-03T07:54:10.265300Z",
     "shell.execute_reply": "2022-11-03T07:54:10.265300Z",
     "shell.execute_reply.started": "2022-11-03T07:54:10.265300Z"
    },
    "tags": []
   },
   "outputs": [],
   "source": [
    "#now with a multi layer network\n",
    "\n",
    "model3 = keras.Sequential(\n",
    "    [\n",
    "        layers.Dense(xtrain.shape[1], activation=\"relu\", name=\"layer1\", input_shape=(xtrain.shape[1],), input_dim = 2),\n",
    "        layers.Dense(287, activation=\"relu\", name=\"layer2b\"),\n",
    "        layers.Dense(82, activation=\"relu\", name=\"layer3\"),\n",
    "        layers.Dense(20, activation=\"relu\", name=\"layer4\"),\n",
    "        layers.Dense(4, activation = \"relu\", name = \"layer5\"),\n",
    "        layers.Dense(1, activation = 'relu', name=\"layer6\"),\n",
    "    ]\n",
    ")\n",
    "\n",
    "model3.compile(metrics = [tf.keras.metrics.RootMeanSquaredError()], loss = 'mean_absolute_percentage_error', optimizer = 'adam')\n",
    "\n",
    "model3.summary()\n",
    "\n",
    "history3 = model3.fit(xtrain, ytrain, epochs = 50, batch_size = 1, verbose = 1)"
   ]
  },
  {
   "cell_type": "code",
   "execution_count": null,
   "id": "0cf06c9e-4965-44e0-9a62-f24bd19d4271",
   "metadata": {
    "execution": {
     "iopub.status.busy": "2022-11-03T07:54:10.266301Z",
     "iopub.status.idle": "2022-11-03T07:54:10.266301Z",
     "shell.execute_reply": "2022-11-03T07:54:10.266301Z",
     "shell.execute_reply.started": "2022-11-03T07:54:10.266301Z"
    },
    "tags": []
   },
   "outputs": [],
   "source": [
    "true_pred_plot(ytrain, model3.predict(xtrain), ytest, model3.predict(xtest))"
   ]
  },
  {
   "cell_type": "code",
   "execution_count": null,
   "id": "8dc3feae-9d82-4f1d-90e5-b99302696cb8",
   "metadata": {
    "execution": {
     "iopub.status.busy": "2022-11-03T07:54:10.267300Z",
     "iopub.status.idle": "2022-11-03T07:54:10.267300Z",
     "shell.execute_reply": "2022-11-03T07:54:10.267300Z",
     "shell.execute_reply.started": "2022-11-03T07:54:10.267300Z"
    },
    "tags": []
   },
   "outputs": [],
   "source": [
    "from sklearn.ensemble import RandomForestRegressor\n",
    "rfr = RandomForestRegressor(n_estimators=1000, verbose = 1)\n",
    "\n",
    "model = rfr.fit(xtrain,ytrain)\n",
    "\n",
    "true_pred_plot(ytrain, model.predict(xtrain), ytest, model.predict(xtest))"
   ]
  },
  {
   "cell_type": "code",
   "execution_count": null,
   "id": "73634fd9-3fc0-46e0-9ce8-017597ac7ca0",
   "metadata": {
    "execution": {
     "iopub.status.busy": "2022-11-03T07:54:10.268300Z",
     "iopub.status.idle": "2022-11-03T07:54:10.268300Z",
     "shell.execute_reply": "2022-11-03T07:54:10.268300Z",
     "shell.execute_reply.started": "2022-11-03T07:54:10.268300Z"
    },
    "tags": []
   },
   "outputs": [],
   "source": [
    "from sklearn.ensemble import GradientBoostingRegressor\n",
    "\n",
    "gbr = GradientBoostingRegressor(n_estimators = 1000, verbose = 1)\n",
    "model = gbr.fit(xtrain, ytrain)\n",
    "\n",
    "true_pred_plot(ytrain, model.predict(xtrain), ytest, model.predict(xtest))"
   ]
  },
  {
   "cell_type": "code",
   "execution_count": null,
   "id": "2548fa67-e9a1-4b2a-9a7e-40e34eb3b214",
   "metadata": {
    "execution": {
     "iopub.status.busy": "2022-11-03T07:54:10.269300Z",
     "iopub.status.idle": "2022-11-03T07:54:10.269300Z",
     "shell.execute_reply": "2022-11-03T07:54:10.269300Z",
     "shell.execute_reply.started": "2022-11-03T07:54:10.269300Z"
    },
    "tags": []
   },
   "outputs": [],
   "source": [
    "importance = model.feature_importances_\n",
    "nul_col = []\n",
    "for i,v in enumerate(importance):\n",
    "    if v == 0:\n",
    "        nul_col.append(i)\n",
    "print(nul_col)\n",
    "# plot feature importance\n",
    "fig, ax = plt.subplots(figsize = (20,20))\n",
    "ax.bar([x for x in range(len(importance))], importance)\n",
    "plt.show()"
   ]
  },
  {
   "cell_type": "code",
   "execution_count": null,
   "id": "f8b83f21-97a8-41a7-9f43-bdd35a7f325c",
   "metadata": {
    "execution": {
     "iopub.status.busy": "2022-11-03T07:54:10.271302Z",
     "iopub.status.idle": "2022-11-03T07:54:10.271302Z",
     "shell.execute_reply": "2022-11-03T07:54:10.271302Z",
     "shell.execute_reply.started": "2022-11-03T07:54:10.271302Z"
    },
    "tags": []
   },
   "outputs": [],
   "source": [
    "#let's try to drop useless columns\n",
    "label = []\n",
    "for i in nul_col:\n",
    "    label.append(data_num.columns[i])\n",
    "data_test = data_num.drop(axis = 1, labels = label)\n",
    "\n",
    "xtrain, xtest, ytrain, ytest, sqftrain, sqftest = train_test_split(data_num, target, sqf, test_size = 0.2)\n",
    "\n",
    "#let's standard scale\n",
    "\n",
    "sscaler = sk_prepro.StandardScaler()\n",
    "sscaler_fit = sscaler.fit(xtrain)\n",
    "xtrain = sscaler_fit.transform(xtrain)\n",
    "xtest = sscaler_fit.transform(xtest)\n",
    "#log scale the target\n",
    "ytrain = np.log(ytrain)\n",
    "ytest = np.log(ytest)\n",
    "\n",
    "sqftrain = np.array(sqftrain).reshape(-1,1)\n",
    "sqftest = np.array(sqftest).reshape(-1,1)\n",
    "\n",
    "gbr = GradientBoostingRegressor(n_estimators = 500, verbose = 1)\n",
    "model = gbr.fit(xtrain, ytrain)\n",
    "\n",
    "true_pred_plot(ytrain, model.predict(xtrain), ytest, model.predict(xtest))"
   ]
  }
 ],
 "metadata": {
  "kernelspec": {
   "display_name": "Python 3 (ipykernel)",
   "language": "python",
   "name": "python3"
  },
  "language_info": {
   "codemirror_mode": {
    "name": "ipython",
    "version": 3
   },
   "file_extension": ".py",
   "mimetype": "text/x-python",
   "name": "python",
   "nbconvert_exporter": "python",
   "pygments_lexer": "ipython3",
   "version": "3.9.12"
  }
 },
 "nbformat": 4,
 "nbformat_minor": 5
}
