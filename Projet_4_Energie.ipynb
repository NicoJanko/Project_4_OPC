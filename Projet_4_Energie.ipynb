{
 "cells": [
  {
   "cell_type": "markdown",
   "id": "2fb6cab8-d975-41e3-95f8-be280fd8eca2",
   "metadata": {},
   "source": [
    "# Modelisation de la consommation totale d'energie"
   ]
  },
  {
   "cell_type": "code",
   "execution_count": 2,
   "id": "ff631086-1f08-49b0-9844-8833ce2b57fc",
   "metadata": {
    "execution": {
     "iopub.execute_input": "2022-10-24T12:36:04.621051Z",
     "iopub.status.busy": "2022-10-24T12:36:04.621051Z",
     "iopub.status.idle": "2022-10-24T12:36:06.085116Z",
     "shell.execute_reply": "2022-10-24T12:36:06.085116Z",
     "shell.execute_reply.started": "2022-10-24T12:36:04.621051Z"
    },
    "tags": []
   },
   "outputs": [],
   "source": [
    "import pandas as pd\n",
    "import numpy as np \n",
    "import matplotlib.pyplot as plt\n",
    "import seaborn as sns\n",
    "from sklearn.model_selection import train_test_split, GridSearchCV\n",
    "import sklearn.preprocessing as sk_prepro\n",
    "from sklearn import metrics"
   ]
  },
  {
   "cell_type": "code",
   "execution_count": 61,
   "id": "121579be-483c-4051-98e6-1a39153a8573",
   "metadata": {
    "execution": {
     "iopub.execute_input": "2022-10-24T14:12:58.787189Z",
     "iopub.status.busy": "2022-10-24T14:12:58.787189Z",
     "iopub.status.idle": "2022-10-24T14:12:59.934247Z",
     "shell.execute_reply": "2022-10-24T14:12:59.934247Z",
     "shell.execute_reply.started": "2022-10-24T14:12:58.787189Z"
    },
    "tags": []
   },
   "outputs": [],
   "source": [
    "df = pd.read_csv('data_full.csv')"
   ]
  },
  {
   "cell_type": "code",
   "execution_count": 62,
   "id": "3d8984b7-8236-4e08-b8b2-ddfe192af60e",
   "metadata": {
    "execution": {
     "iopub.execute_input": "2022-10-24T14:13:02.752192Z",
     "iopub.status.busy": "2022-10-24T14:13:02.751167Z",
     "iopub.status.idle": "2022-10-24T14:13:02.788166Z",
     "shell.execute_reply": "2022-10-24T14:13:02.787165Z",
     "shell.execute_reply.started": "2022-10-24T14:13:02.752192Z"
    },
    "tags": []
   },
   "outputs": [],
   "source": [
    "data_num = df\n",
    "target_tag = 'SiteEnergyUse(kBtu)'\n",
    "target = data_num[target_tag]\n",
    "data_num = data_num.drop(labels = [target_tag, 'TotalGHGEmissions', 'ENERGYSTARScore'], axis = 1)"
   ]
  },
  {
   "cell_type": "code",
   "execution_count": 67,
   "id": "d6e42a06-c50f-4760-af56-b86d619123bb",
   "metadata": {
    "execution": {
     "iopub.execute_input": "2022-10-24T14:23:46.030610Z",
     "iopub.status.busy": "2022-10-24T14:23:46.030610Z",
     "iopub.status.idle": "2022-10-24T14:23:46.069610Z",
     "shell.execute_reply": "2022-10-24T14:23:46.068623Z",
     "shell.execute_reply.started": "2022-10-24T14:23:46.030610Z"
    },
    "tags": []
   },
   "outputs": [
    {
     "name": "stdout",
     "output_type": "stream",
     "text": [
      "<class 'pandas.core.frame.DataFrame'>\n",
      "RangeIndex: 1651 entries, 0 to 1650\n",
      "Columns: 4204 entries, 0 to ThirdLargestPropertyUseTypeGFA\n",
      "dtypes: float64(4204)\n",
      "memory usage: 53.0 MB\n"
     ]
    }
   ],
   "source": [
    "data_num.info()"
   ]
  },
  {
   "cell_type": "markdown",
   "id": "ae5491d6-cd97-46a4-a2d1-c74d321697d0",
   "metadata": {},
   "source": [
    "## Modèle linéaire"
   ]
  },
  {
   "cell_type": "code",
   "execution_count": 5,
   "id": "31efd872-fd59-43f1-89f2-06ee288152bb",
   "metadata": {
    "execution": {
     "iopub.execute_input": "2022-10-24T12:36:11.453239Z",
     "iopub.status.busy": "2022-10-24T12:36:11.453239Z",
     "iopub.status.idle": "2022-10-24T12:36:11.514319Z",
     "shell.execute_reply": "2022-10-24T12:36:11.514319Z",
     "shell.execute_reply.started": "2022-10-24T12:36:11.453239Z"
    },
    "tags": []
   },
   "outputs": [],
   "source": [
    "from sklearn.linear_model import Ridge\n",
    "from sklearn import svm\n",
    "from sklearn.neighbors import KNeighborsRegressor"
   ]
  },
  {
   "cell_type": "code",
   "execution_count": 63,
   "id": "74cd14cd-9495-4c1c-895a-017e4e90a10a",
   "metadata": {
    "execution": {
     "iopub.execute_input": "2022-10-24T14:13:16.422882Z",
     "iopub.status.busy": "2022-10-24T14:13:16.422882Z",
     "iopub.status.idle": "2022-10-24T14:13:20.880880Z",
     "shell.execute_reply": "2022-10-24T14:13:20.880880Z",
     "shell.execute_reply.started": "2022-10-24T14:13:16.422882Z"
    },
    "tags": []
   },
   "outputs": [
    {
     "name": "stdout",
     "output_type": "stream",
     "text": [
      "Fitting 3 folds for each of 14 candidates, totalling 42 fits\n",
      "Best params on training set : {'n_neighbors': 2}\n",
      "GridCV results : \n",
      "r2 = -0.093 (+/- 0.086) for {'n_neighbors': 2}\n",
      "r2 = -0.098 (+/- 0.098) for {'n_neighbors': 3}\n",
      "r2 = -0.105 (+/- 0.110) for {'n_neighbors': 4}\n",
      "r2 = -0.104 (+/- 0.108) for {'n_neighbors': 5}\n",
      "r2 = -0.111 (+/- 0.121) for {'n_neighbors': 6}\n",
      "r2 = -0.112 (+/- 0.121) for {'n_neighbors': 7}\n",
      "r2 = -0.116 (+/- 0.125) for {'n_neighbors': 8}\n",
      "r2 = -0.119 (+/- 0.129) for {'n_neighbors': 9}\n",
      "r2 = -0.121 (+/- 0.132) for {'n_neighbors': 10}\n",
      "r2 = -0.124 (+/- 0.139) for {'n_neighbors': 11}\n",
      "r2 = -0.123 (+/- 0.135) for {'n_neighbors': 12}\n",
      "r2 = -0.122 (+/- 0.131) for {'n_neighbors': 13}\n",
      "r2 = -0.120 (+/- 0.128) for {'n_neighbors': 14}\n",
      "r2 = -0.118 (+/- 0.126) for {'n_neighbors': 15}\n"
     ]
    }
   ],
   "source": [
    "#first let's test this on knregressoe\n",
    "xtrain, xtest, ytrain, ytest = train_test_split(data_num, target, test_size = 0.2)\n",
    "\n",
    "#let's standard scale\n",
    "\n",
    "sscaler = sk_prepro.StandardScaler()\n",
    "sscaler_fit = sscaler.fit(xtrain)\n",
    "xtrain = sscaler_fit.transform(xtrain)\n",
    "xtest = sscaler_fit.transform(xtest)\n",
    "\n",
    "#let's grid search for the k\n",
    "\n",
    "k_grid = {'n_neighbors' : list(range(2,16))}\n",
    "score = 'r2'\n",
    "\n",
    "reg = GridSearchCV(KNeighborsRegressor(), k_grid, cv =3, scoring = score, verbose = 1)\n",
    "\n",
    "reg.fit(xtrain, ytrain)\n",
    "\n",
    "print('Best params on training set : {}'.format(reg.best_params_))\n",
    "\n",
    "print('GridCV results : ')\n",
    "for mean, std, k in zip(reg.cv_results_['mean_test_score'],\n",
    "                       reg.cv_results_['std_test_score'],\n",
    "                       reg.cv_results_['params']):\n",
    "    print('{} = {:.3f} (+/- {:.3f}) for {}'.format(score,mean,std*2,k))"
   ]
  },
  {
   "cell_type": "code",
   "execution_count": 7,
   "id": "127c7198-7b1b-4a8f-bd84-8b4f5145d06b",
   "metadata": {
    "execution": {
     "iopub.execute_input": "2022-10-24T12:36:24.216247Z",
     "iopub.status.busy": "2022-10-24T12:36:24.216247Z",
     "iopub.status.idle": "2022-10-24T12:36:24.236249Z",
     "shell.execute_reply": "2022-10-24T12:36:24.235248Z",
     "shell.execute_reply.started": "2022-10-24T12:36:24.216247Z"
    },
    "tags": []
   },
   "outputs": [],
   "source": [
    "def true_pred_plot(y,pred):\n",
    "    fig, ax = plt.subplots()\n",
    "    r2 = metrics.r2_score(y, pred)\n",
    "    ax.scatter(y, pred)\n",
    "    ax.text(0.7,0.7,'R2 : {:.2f}'.format(r2), transform = ax.transAxes)\n",
    "    ax.set_xlabel('True values')\n",
    "    ax.set_ylabel('Predicted values')\n",
    "    ax.set_xlim(-10,y.max())\n",
    "    ax.set_ylim(-10,y.max())\n",
    "    plt.show()\n",
    "    plt.clf()"
   ]
  },
  {
   "cell_type": "code",
   "execution_count": 64,
   "id": "10ca39c1-0fb0-42ac-b7a5-5e4ff328d098",
   "metadata": {
    "execution": {
     "iopub.execute_input": "2022-10-24T14:13:34.548057Z",
     "iopub.status.busy": "2022-10-24T14:13:34.548057Z",
     "iopub.status.idle": "2022-10-24T14:13:34.756055Z",
     "shell.execute_reply": "2022-10-24T14:13:34.756055Z",
     "shell.execute_reply.started": "2022-10-24T14:13:34.548057Z"
    },
    "tags": []
   },
   "outputs": [
    {
     "data": {
      "image/png": "[encoded data removed]",
      "text/plain": [
       "<Figure size 432x288 with 1 Axes>"
      ]
     },
     "metadata": {
      "needs_background": "light"
     },
     "output_type": "display_data"
    },
    {
     "data": {
      "text/plain": [
       "<Figure size 432x288 with 0 Axes>"
      ]
     },
     "metadata": {},
     "output_type": "display_data"
    }
   ],
   "source": [
    "model = KNeighborsRegressor(n_neighbors=2).fit(xtrain, ytrain)\n",
    "predict = model.predict(xtest)\n",
    "\n",
    "true_pred_plot(ytest, predict)"
   ]
  },
  {
   "cell_type": "code",
   "execution_count": 9,
   "id": "df57154a-6b95-49f2-b3d8-30dcd8e16d4c",
   "metadata": {
    "execution": {
     "iopub.execute_input": "2022-10-24T12:36:36.350033Z",
     "iopub.status.busy": "2022-10-24T12:36:36.350033Z",
     "iopub.status.idle": "2022-10-24T12:36:36.354033Z",
     "shell.execute_reply": "2022-10-24T12:36:36.354033Z",
     "shell.execute_reply.started": "2022-10-24T12:36:36.350033Z"
    },
    "tags": []
   },
   "outputs": [],
   "source": [
    "from sklearn import linear_model"
   ]
  },
  {
   "cell_type": "code",
   "execution_count": 65,
   "id": "7864a029-dd2a-4ba5-ab75-8cb4461bb5a7",
   "metadata": {
    "execution": {
     "iopub.execute_input": "2022-10-24T14:23:04.813765Z",
     "iopub.status.busy": "2022-10-24T14:23:04.813765Z",
     "iopub.status.idle": "2022-10-24T14:23:05.605761Z",
     "shell.execute_reply": "2022-10-24T14:23:05.605761Z",
     "shell.execute_reply.started": "2022-10-24T14:23:04.813765Z"
    },
    "tags": []
   },
   "outputs": [
    {
     "name": "stdout",
     "output_type": "stream",
     "text": [
      "30797132.579585735\n"
     ]
    },
    {
     "data": {
      "image/png": "[encoded data removed]",
      "text/plain": [
       "<Figure size 432x288 with 1 Axes>"
      ]
     },
     "metadata": {
      "needs_background": "light"
     },
     "output_type": "display_data"
    },
    {
     "data": {
      "text/plain": [
       "<Figure size 432x288 with 0 Axes>"
      ]
     },
     "metadata": {},
     "output_type": "display_data"
    }
   ],
   "source": [
    "line_reg = linear_model.LinearRegression()\n",
    "\n",
    "line_reg.fit(xtrain,ytrain)\n",
    "\n",
    "baseline_error = np.sqrt(np.abs(np.mean((line_reg.predict(xtest) - ytest ** 2))))\n",
    "print(baseline_error)\n",
    "\n",
    "true_pred_plot(ytest, line_reg.predict(xtest))"
   ]
  },
  {
   "cell_type": "code",
   "execution_count": 68,
   "id": "ca4e2985-e564-4e44-9042-44e709358950",
   "metadata": {
    "execution": {
     "iopub.execute_input": "2022-10-24T14:24:34.411306Z",
     "iopub.status.busy": "2022-10-24T14:24:34.411306Z",
     "iopub.status.idle": "2022-10-24T14:58:58.057307Z",
     "shell.execute_reply": "2022-10-24T14:58:58.057307Z",
     "shell.execute_reply.started": "2022-10-24T14:24:34.411306Z"
    },
    "tags": []
   },
   "outputs": [
    {
     "data": {
      "image/png": "[encoded data removed]",
      "text/plain": [
       "<Figure size 432x288 with 1 Axes>"
      ]
     },
     "metadata": {
      "needs_background": "light"
     },
     "output_type": "display_data"
    }
   ],
   "source": [
    "\n",
    "r2l = []\n",
    "for i in range(xtrain.shape[1]):\n",
    "    if i !=0:\n",
    "        line_fit = line_reg.fit(xtrain[:,0:i+1], ytrain)\n",
    "        pred = line_fit.predict(xtest[:,0:i+1])\n",
    "        r2l.append(metrics.r2_score(ytest, pred))\n",
    "\n",
    "plt.plot(r2l)\n",
    "plt.xticks(range(14), range(14))\n",
    "plt.show()"
   ]
  },
  {
   "cell_type": "code",
   "execution_count": 78,
   "id": "88ed7501-a873-41ed-a11e-e84949e975cf",
   "metadata": {
    "execution": {
     "iopub.execute_input": "2022-10-24T16:22:04.495268Z",
     "iopub.status.busy": "2022-10-24T16:22:04.495268Z",
     "iopub.status.idle": "2022-10-24T16:41:32.305485Z",
     "shell.execute_reply": "2022-10-24T16:41:32.305485Z",
     "shell.execute_reply.started": "2022-10-24T16:22:04.495268Z"
    },
    "tags": []
   },
   "outputs": [
    {
     "name": "stdout",
     "output_type": "stream",
     "text": [
      "Fitting 3 folds for each of 120 candidates, totalling 360 fits\n",
      "[CV] END ................degree=2, gamma=0.01, kernel=linear; total time=   2.7s\n",
      "[CV] END ................degree=2, gamma=0.01, kernel=linear; total time=   2.5s\n",
      "[CV] END ................degree=2, gamma=0.01, kernel=linear; total time=   2.5s\n",
      "[CV] END ...................degree=2, gamma=0.01, kernel=rbf; total time=   3.6s\n",
      "[CV] END ...................degree=2, gamma=0.01, kernel=rbf; total time=   3.6s\n",
      "[CV] END ...................degree=2, gamma=0.01, kernel=rbf; total time=   3.8s\n",
      "[CV] END ...............degree=2, gamma=0.01, kernel=sigmoid; total time=   2.5s\n",
      "[CV] END ...............degree=2, gamma=0.01, kernel=sigmoid; total time=   2.5s\n",
      "[CV] END ...............degree=2, gamma=0.01, kernel=sigmoid; total time=   2.5s\n",
      "[CV] END ..................degree=2, gamma=0.01, kernel=poly; total time=   2.6s\n",
      "[CV] END ..................degree=2, gamma=0.01, kernel=poly; total time=   2.8s\n",
      "[CV] END ..................degree=2, gamma=0.01, kernel=poly; total time=   3.1s\n",
      "[CV] END degree=2, gamma=0.021544346900318832, kernel=linear; total time=   2.8s\n",
      "[CV] END degree=2, gamma=0.021544346900318832, kernel=linear; total time=   2.8s\n",
      "[CV] END degree=2, gamma=0.021544346900318832, kernel=linear; total time=   2.9s\n",
      "[CV] END ...degree=2, gamma=0.021544346900318832, kernel=rbf; total time=   3.9s\n",
      "[CV] END ...degree=2, gamma=0.021544346900318832, kernel=rbf; total time=   3.9s\n",
      "[CV] END ...degree=2, gamma=0.021544346900318832, kernel=rbf; total time=   3.7s\n",
      "[CV] END degree=2, gamma=0.021544346900318832, kernel=sigmoid; total time=   2.6s\n",
      "[CV] END degree=2, gamma=0.021544346900318832, kernel=sigmoid; total time=   2.6s\n",
      "[CV] END degree=2, gamma=0.021544346900318832, kernel=sigmoid; total time=   2.7s\n",
      "[CV] END ..degree=2, gamma=0.021544346900318832, kernel=poly; total time=   2.8s\n",
      "[CV] END ..degree=2, gamma=0.021544346900318832, kernel=poly; total time=   2.6s\n",
      "[CV] END ..degree=2, gamma=0.021544346900318832, kernel=poly; total time=   2.6s\n",
      "[CV] END degree=2, gamma=0.046415888336127774, kernel=linear; total time=   2.6s\n",
      "[CV] END degree=2, gamma=0.046415888336127774, kernel=linear; total time=   2.6s\n",
      "[CV] END degree=2, gamma=0.046415888336127774, kernel=linear; total time=   2.6s\n",
      "[CV] END ...degree=2, gamma=0.046415888336127774, kernel=rbf; total time=   3.8s\n",
      "[CV] END ...degree=2, gamma=0.046415888336127774, kernel=rbf; total time=   4.3s\n",
      "[CV] END ...degree=2, gamma=0.046415888336127774, kernel=rbf; total time=   4.1s\n",
      "[CV] END degree=2, gamma=0.046415888336127774, kernel=sigmoid; total time=   2.8s\n",
      "[CV] END degree=2, gamma=0.046415888336127774, kernel=sigmoid; total time=   3.1s\n",
      "[CV] END degree=2, gamma=0.046415888336127774, kernel=sigmoid; total time=   2.9s\n",
      "[CV] END ..degree=2, gamma=0.046415888336127774, kernel=poly; total time=   3.0s\n",
      "[CV] END ..degree=2, gamma=0.046415888336127774, kernel=poly; total time=   2.5s\n",
      "[CV] END ..degree=2, gamma=0.046415888336127774, kernel=poly; total time=   2.9s\n",
      "[CV] END .................degree=2, gamma=0.1, kernel=linear; total time=   3.1s\n",
      "[CV] END .................degree=2, gamma=0.1, kernel=linear; total time=   3.0s\n",
      "[CV] END .................degree=2, gamma=0.1, kernel=linear; total time=   2.8s\n",
      "[CV] END ....................degree=2, gamma=0.1, kernel=rbf; total time=   3.9s\n",
      "[CV] END ....................degree=2, gamma=0.1, kernel=rbf; total time=   4.4s\n",
      "[CV] END ....................degree=2, gamma=0.1, kernel=rbf; total time=   4.5s\n",
      "[CV] END ................degree=2, gamma=0.1, kernel=sigmoid; total time=   2.5s\n",
      "[CV] END ................degree=2, gamma=0.1, kernel=sigmoid; total time=   2.7s\n",
      "[CV] END ................degree=2, gamma=0.1, kernel=sigmoid; total time=   3.0s\n",
      "[CV] END ...................degree=2, gamma=0.1, kernel=poly; total time=   2.9s\n",
      "[CV] END ...................degree=2, gamma=0.1, kernel=poly; total time=   2.7s\n",
      "[CV] END ...................degree=2, gamma=0.1, kernel=poly; total time=   2.6s\n",
      "[CV] END .degree=2, gamma=0.21544346900318834, kernel=linear; total time=   3.1s\n",
      "[CV] END .degree=2, gamma=0.21544346900318834, kernel=linear; total time=   2.8s\n",
      "[CV] END .degree=2, gamma=0.21544346900318834, kernel=linear; total time=   2.5s\n",
      "[CV] END ....degree=2, gamma=0.21544346900318834, kernel=rbf; total time=   3.9s\n",
      "[CV] END ....degree=2, gamma=0.21544346900318834, kernel=rbf; total time=   3.7s\n",
      "[CV] END ....degree=2, gamma=0.21544346900318834, kernel=rbf; total time=   3.8s\n",
      "[CV] END degree=2, gamma=0.21544346900318834, kernel=sigmoid; total time=   2.6s\n",
      "[CV] END degree=2, gamma=0.21544346900318834, kernel=sigmoid; total time=   2.7s\n",
      "[CV] END degree=2, gamma=0.21544346900318834, kernel=sigmoid; total time=   2.7s\n",
      "[CV] END ...degree=2, gamma=0.21544346900318834, kernel=poly; total time=   2.5s\n",
      "[CV] END ...degree=2, gamma=0.21544346900318834, kernel=poly; total time=   2.6s\n",
      "[CV] END ...degree=2, gamma=0.21544346900318834, kernel=poly; total time=   2.9s\n",
      "[CV] END .degree=2, gamma=0.46415888336127775, kernel=linear; total time=   2.8s\n",
      "[CV] END .degree=2, gamma=0.46415888336127775, kernel=linear; total time=   3.1s\n",
      "[CV] END .degree=2, gamma=0.46415888336127775, kernel=linear; total time=   2.8s\n",
      "[CV] END ....degree=2, gamma=0.46415888336127775, kernel=rbf; total time=   3.9s\n",
      "[CV] END ....degree=2, gamma=0.46415888336127775, kernel=rbf; total time=   4.4s\n",
      "[CV] END ....degree=2, gamma=0.46415888336127775, kernel=rbf; total time=   4.4s\n",
      "[CV] END degree=2, gamma=0.46415888336127775, kernel=sigmoid; total time=   2.7s\n",
      "[CV] END degree=2, gamma=0.46415888336127775, kernel=sigmoid; total time=   3.1s\n",
      "[CV] END degree=2, gamma=0.46415888336127775, kernel=sigmoid; total time=   3.0s\n",
      "[CV] END ...degree=2, gamma=0.46415888336127775, kernel=poly; total time=   3.1s\n",
      "[CV] END ...degree=2, gamma=0.46415888336127775, kernel=poly; total time=   2.7s\n",
      "[CV] END ...degree=2, gamma=0.46415888336127775, kernel=poly; total time=   3.0s\n",
      "[CV] END .................degree=2, gamma=1.0, kernel=linear; total time=   2.8s\n",
      "[CV] END .................degree=2, gamma=1.0, kernel=linear; total time=   2.7s\n",
      "[CV] END .................degree=2, gamma=1.0, kernel=linear; total time=   2.5s\n",
      "[CV] END ....................degree=2, gamma=1.0, kernel=rbf; total time=   3.7s\n",
      "[CV] END ....................degree=2, gamma=1.0, kernel=rbf; total time=   3.8s\n",
      "[CV] END ....................degree=2, gamma=1.0, kernel=rbf; total time=   3.7s\n",
      "[CV] END ................degree=2, gamma=1.0, kernel=sigmoid; total time=   2.5s\n",
      "[CV] END ................degree=2, gamma=1.0, kernel=sigmoid; total time=   2.5s\n",
      "[CV] END ................degree=2, gamma=1.0, kernel=sigmoid; total time=   2.5s\n",
      "[CV] END ...................degree=2, gamma=1.0, kernel=poly; total time=   2.8s\n",
      "[CV] END ...................degree=2, gamma=1.0, kernel=poly; total time=   2.6s\n",
      "[CV] END ...................degree=2, gamma=1.0, kernel=poly; total time=   2.7s\n",
      "[CV] END ...degree=2, gamma=2.154434690031882, kernel=linear; total time=   2.5s\n",
      "[CV] END ...degree=2, gamma=2.154434690031882, kernel=linear; total time=   2.8s\n",
      "[CV] END ...degree=2, gamma=2.154434690031882, kernel=linear; total time=   3.0s\n",
      "[CV] END ......degree=2, gamma=2.154434690031882, kernel=rbf; total time=   4.3s\n",
      "[CV] END ......degree=2, gamma=2.154434690031882, kernel=rbf; total time=   4.5s\n",
      "[CV] END ......degree=2, gamma=2.154434690031882, kernel=rbf; total time=   3.9s\n",
      "[CV] END ..degree=2, gamma=2.154434690031882, kernel=sigmoid; total time=   3.1s\n",
      "[CV] END ..degree=2, gamma=2.154434690031882, kernel=sigmoid; total time=   3.0s\n",
      "[CV] END ..degree=2, gamma=2.154434690031882, kernel=sigmoid; total time=   3.0s\n",
      "[CV] END .....degree=2, gamma=2.154434690031882, kernel=poly; total time=   2.9s\n",
      "[CV] END .....degree=2, gamma=2.154434690031882, kernel=poly; total time=   2.6s\n",
      "[CV] END .....degree=2, gamma=2.154434690031882, kernel=poly; total time=   2.7s\n",
      "[CV] END ..degree=2, gamma=4.6415888336127775, kernel=linear; total time=   3.0s\n",
      "[CV] END ..degree=2, gamma=4.6415888336127775, kernel=linear; total time=   2.9s\n",
      "[CV] END ..degree=2, gamma=4.6415888336127775, kernel=linear; total time=   3.1s\n",
      "[CV] END .....degree=2, gamma=4.6415888336127775, kernel=rbf; total time=   4.1s\n",
      "[CV] END .....degree=2, gamma=4.6415888336127775, kernel=rbf; total time=   4.3s\n",
      "[CV] END .....degree=2, gamma=4.6415888336127775, kernel=rbf; total time=   4.4s\n",
      "[CV] END .degree=2, gamma=4.6415888336127775, kernel=sigmoid; total time=   3.0s\n",
      "[CV] END .degree=2, gamma=4.6415888336127775, kernel=sigmoid; total time=   2.6s\n",
      "[CV] END .degree=2, gamma=4.6415888336127775, kernel=sigmoid; total time=   2.8s\n",
      "[CV] END ....degree=2, gamma=4.6415888336127775, kernel=poly; total time=   3.1s\n",
      "[CV] END ....degree=2, gamma=4.6415888336127775, kernel=poly; total time=   3.0s\n",
      "[CV] END ....degree=2, gamma=4.6415888336127775, kernel=poly; total time=   3.0s\n",
      "[CV] END ................degree=2, gamma=10.0, kernel=linear; total time=   2.8s\n",
      "[CV] END ................degree=2, gamma=10.0, kernel=linear; total time=   2.5s\n",
      "[CV] END ................degree=2, gamma=10.0, kernel=linear; total time=   3.0s\n",
      "[CV] END ...................degree=2, gamma=10.0, kernel=rbf; total time=   4.6s\n",
      "[CV] END ...................degree=2, gamma=10.0, kernel=rbf; total time=   3.9s\n",
      "[CV] END ...................degree=2, gamma=10.0, kernel=rbf; total time=   3.8s\n",
      "[CV] END ...............degree=2, gamma=10.0, kernel=sigmoid; total time=   2.5s\n",
      "[CV] END ...............degree=2, gamma=10.0, kernel=sigmoid; total time=   2.6s\n",
      "[CV] END ...............degree=2, gamma=10.0, kernel=sigmoid; total time=   2.6s\n",
      "[CV] END ..................degree=2, gamma=10.0, kernel=poly; total time=   2.7s\n",
      "[CV] END ..................degree=2, gamma=10.0, kernel=poly; total time=   2.6s\n",
      "[CV] END ..................degree=2, gamma=10.0, kernel=poly; total time=   2.7s\n",
      "[CV] END ................degree=3, gamma=0.01, kernel=linear; total time=   2.6s\n",
      "[CV] END ................degree=3, gamma=0.01, kernel=linear; total time=   2.7s\n",
      "[CV] END ................degree=3, gamma=0.01, kernel=linear; total time=   2.5s\n",
      "[CV] END ...................degree=3, gamma=0.01, kernel=rbf; total time=   3.7s\n",
      "[CV] END ...................degree=3, gamma=0.01, kernel=rbf; total time=   3.9s\n",
      "[CV] END ...................degree=3, gamma=0.01, kernel=rbf; total time=   3.9s\n",
      "[CV] END ...............degree=3, gamma=0.01, kernel=sigmoid; total time=   2.9s\n",
      "[CV] END ...............degree=3, gamma=0.01, kernel=sigmoid; total time=   2.9s\n",
      "[CV] END ...............degree=3, gamma=0.01, kernel=sigmoid; total time=   2.9s\n",
      "[CV] END ..................degree=3, gamma=0.01, kernel=poly; total time=   2.8s\n",
      "[CV] END ..................degree=3, gamma=0.01, kernel=poly; total time=   2.6s\n",
      "[CV] END ..................degree=3, gamma=0.01, kernel=poly; total time=   3.1s\n",
      "[CV] END degree=3, gamma=0.021544346900318832, kernel=linear; total time=   2.9s\n",
      "[CV] END degree=3, gamma=0.021544346900318832, kernel=linear; total time=   2.9s\n",
      "[CV] END degree=3, gamma=0.021544346900318832, kernel=linear; total time=   2.4s\n",
      "[CV] END ...degree=3, gamma=0.021544346900318832, kernel=rbf; total time=   4.3s\n",
      "[CV] END ...degree=3, gamma=0.021544346900318832, kernel=rbf; total time=   4.6s\n",
      "[CV] END ...degree=3, gamma=0.021544346900318832, kernel=rbf; total time=   3.9s\n",
      "[CV] END degree=3, gamma=0.021544346900318832, kernel=sigmoid; total time=   2.9s\n",
      "[CV] END degree=3, gamma=0.021544346900318832, kernel=sigmoid; total time=   2.9s\n",
      "[CV] END degree=3, gamma=0.021544346900318832, kernel=sigmoid; total time=   3.2s\n",
      "[CV] END ..degree=3, gamma=0.021544346900318832, kernel=poly; total time=   2.7s\n",
      "[CV] END ..degree=3, gamma=0.021544346900318832, kernel=poly; total time=   2.5s\n",
      "[CV] END ..degree=3, gamma=0.021544346900318832, kernel=poly; total time=   3.3s\n",
      "[CV] END degree=3, gamma=0.046415888336127774, kernel=linear; total time=   2.6s\n",
      "[CV] END degree=3, gamma=0.046415888336127774, kernel=linear; total time=   2.7s\n",
      "[CV] END degree=3, gamma=0.046415888336127774, kernel=linear; total time=   2.7s\n",
      "[CV] END ...degree=3, gamma=0.046415888336127774, kernel=rbf; total time=   3.7s\n",
      "[CV] END ...degree=3, gamma=0.046415888336127774, kernel=rbf; total time=   4.4s\n",
      "[CV] END ...degree=3, gamma=0.046415888336127774, kernel=rbf; total time=   4.0s\n",
      "[CV] END degree=3, gamma=0.046415888336127774, kernel=sigmoid; total time=   3.1s\n",
      "[CV] END degree=3, gamma=0.046415888336127774, kernel=sigmoid; total time=   3.1s\n",
      "[CV] END degree=3, gamma=0.046415888336127774, kernel=sigmoid; total time=   3.1s\n",
      "[CV] END ..degree=3, gamma=0.046415888336127774, kernel=poly; total time=   3.0s\n",
      "[CV] END ..degree=3, gamma=0.046415888336127774, kernel=poly; total time=   2.5s\n",
      "[CV] END ..degree=3, gamma=0.046415888336127774, kernel=poly; total time=   3.2s\n",
      "[CV] END .................degree=3, gamma=0.1, kernel=linear; total time=   2.9s\n",
      "[CV] END .................degree=3, gamma=0.1, kernel=linear; total time=   2.9s\n",
      "[CV] END .................degree=3, gamma=0.1, kernel=linear; total time=   2.7s\n",
      "[CV] END ....................degree=3, gamma=0.1, kernel=rbf; total time=   4.2s\n",
      "[CV] END ....................degree=3, gamma=0.1, kernel=rbf; total time=   4.8s\n",
      "[CV] END ....................degree=3, gamma=0.1, kernel=rbf; total time=   4.3s\n",
      "[CV] END ................degree=3, gamma=0.1, kernel=sigmoid; total time=   3.0s\n",
      "[CV] END ................degree=3, gamma=0.1, kernel=sigmoid; total time=   2.9s\n",
      "[CV] END ................degree=3, gamma=0.1, kernel=sigmoid; total time=   3.2s\n",
      "[CV] END ...................degree=3, gamma=0.1, kernel=poly; total time=   3.0s\n",
      "[CV] END ...................degree=3, gamma=0.1, kernel=poly; total time=   2.5s\n",
      "[CV] END ...................degree=3, gamma=0.1, kernel=poly; total time=   3.0s\n",
      "[CV] END .degree=3, gamma=0.21544346900318834, kernel=linear; total time=   3.0s\n",
      "[CV] END .degree=3, gamma=0.21544346900318834, kernel=linear; total time=   3.1s\n",
      "[CV] END .degree=3, gamma=0.21544346900318834, kernel=linear; total time=   2.7s\n",
      "[CV] END ....degree=3, gamma=0.21544346900318834, kernel=rbf; total time=   3.8s\n",
      "[CV] END ....degree=3, gamma=0.21544346900318834, kernel=rbf; total time=   3.8s\n",
      "[CV] END ....degree=3, gamma=0.21544346900318834, kernel=rbf; total time=   3.8s\n",
      "[CV] END degree=3, gamma=0.21544346900318834, kernel=sigmoid; total time=   2.8s\n",
      "[CV] END degree=3, gamma=0.21544346900318834, kernel=sigmoid; total time=   2.6s\n",
      "[CV] END degree=3, gamma=0.21544346900318834, kernel=sigmoid; total time=   2.6s\n",
      "[CV] END ...degree=3, gamma=0.21544346900318834, kernel=poly; total time=   3.0s\n",
      "[CV] END ...degree=3, gamma=0.21544346900318834, kernel=poly; total time=   3.1s\n",
      "[CV] END ...degree=3, gamma=0.21544346900318834, kernel=poly; total time=   3.3s\n",
      "[CV] END .degree=3, gamma=0.46415888336127775, kernel=linear; total time=   3.6s\n",
      "[CV] END .degree=3, gamma=0.46415888336127775, kernel=linear; total time=   3.4s\n",
      "[CV] END .degree=3, gamma=0.46415888336127775, kernel=linear; total time=   3.2s\n",
      "[CV] END ....degree=3, gamma=0.46415888336127775, kernel=rbf; total time=   3.8s\n",
      "[CV] END ....degree=3, gamma=0.46415888336127775, kernel=rbf; total time=   4.4s\n",
      "[CV] END ....degree=3, gamma=0.46415888336127775, kernel=rbf; total time=   3.7s\n",
      "[CV] END degree=3, gamma=0.46415888336127775, kernel=sigmoid; total time=   2.7s\n",
      "[CV] END degree=3, gamma=0.46415888336127775, kernel=sigmoid; total time=   2.5s\n",
      "[CV] END degree=3, gamma=0.46415888336127775, kernel=sigmoid; total time=   2.8s\n",
      "[CV] END ...degree=3, gamma=0.46415888336127775, kernel=poly; total time=   3.1s\n",
      "[CV] END ...degree=3, gamma=0.46415888336127775, kernel=poly; total time=   2.5s\n",
      "[CV] END ...degree=3, gamma=0.46415888336127775, kernel=poly; total time=   3.0s\n",
      "[CV] END .................degree=3, gamma=1.0, kernel=linear; total time=   3.0s\n",
      "[CV] END .................degree=3, gamma=1.0, kernel=linear; total time=   2.9s\n",
      "[CV] END .................degree=3, gamma=1.0, kernel=linear; total time=   2.8s\n",
      "[CV] END ....................degree=3, gamma=1.0, kernel=rbf; total time=   4.4s\n",
      "[CV] END ....................degree=3, gamma=1.0, kernel=rbf; total time=   4.8s\n",
      "[CV] END ....................degree=3, gamma=1.0, kernel=rbf; total time=   4.0s\n",
      "[CV] END ................degree=3, gamma=1.0, kernel=sigmoid; total time=   3.1s\n",
      "[CV] END ................degree=3, gamma=1.0, kernel=sigmoid; total time=   3.0s\n",
      "[CV] END ................degree=3, gamma=1.0, kernel=sigmoid; total time=   2.9s\n",
      "[CV] END ...................degree=3, gamma=1.0, kernel=poly; total time=   2.9s\n",
      "[CV] END ...................degree=3, gamma=1.0, kernel=poly; total time=   2.6s\n",
      "[CV] END ...................degree=3, gamma=1.0, kernel=poly; total time=   3.2s\n",
      "[CV] END ...degree=3, gamma=2.154434690031882, kernel=linear; total time=   2.8s\n",
      "[CV] END ...degree=3, gamma=2.154434690031882, kernel=linear; total time=   2.9s\n",
      "[CV] END ...degree=3, gamma=2.154434690031882, kernel=linear; total time=   2.7s\n",
      "[CV] END ......degree=3, gamma=2.154434690031882, kernel=rbf; total time=   3.7s\n",
      "[CV] END ......degree=3, gamma=2.154434690031882, kernel=rbf; total time=   3.8s\n",
      "[CV] END ......degree=3, gamma=2.154434690031882, kernel=rbf; total time=   3.7s\n",
      "[CV] END ..degree=3, gamma=2.154434690031882, kernel=sigmoid; total time=   2.5s\n",
      "[CV] END ..degree=3, gamma=2.154434690031882, kernel=sigmoid; total time=   2.8s\n",
      "[CV] END ..degree=3, gamma=2.154434690031882, kernel=sigmoid; total time=   2.6s\n",
      "[CV] END .....degree=3, gamma=2.154434690031882, kernel=poly; total time=   3.1s\n",
      "[CV] END .....degree=3, gamma=2.154434690031882, kernel=poly; total time=   3.0s\n",
      "[CV] END .....degree=3, gamma=2.154434690031882, kernel=poly; total time=   3.0s\n",
      "[CV] END ..degree=3, gamma=4.6415888336127775, kernel=linear; total time=   2.4s\n",
      "[CV] END ..degree=3, gamma=4.6415888336127775, kernel=linear; total time=   2.8s\n",
      "[CV] END ..degree=3, gamma=4.6415888336127775, kernel=linear; total time=   3.0s\n",
      "[CV] END .....degree=3, gamma=4.6415888336127775, kernel=rbf; total time=   4.4s\n",
      "[CV] END .....degree=3, gamma=4.6415888336127775, kernel=rbf; total time=   3.8s\n",
      "[CV] END .....degree=3, gamma=4.6415888336127775, kernel=rbf; total time=   4.3s\n",
      "[CV] END .degree=3, gamma=4.6415888336127775, kernel=sigmoid; total time=   3.1s\n",
      "[CV] END .degree=3, gamma=4.6415888336127775, kernel=sigmoid; total time=   2.9s\n",
      "[CV] END .degree=3, gamma=4.6415888336127775, kernel=sigmoid; total time=   2.9s\n",
      "[CV] END ....degree=3, gamma=4.6415888336127775, kernel=poly; total time=   2.5s\n",
      "[CV] END ....degree=3, gamma=4.6415888336127775, kernel=poly; total time=   2.9s\n",
      "[CV] END ....degree=3, gamma=4.6415888336127775, kernel=poly; total time=   2.9s\n",
      "[CV] END ................degree=3, gamma=10.0, kernel=linear; total time=   3.0s\n",
      "[CV] END ................degree=3, gamma=10.0, kernel=linear; total time=   2.8s\n",
      "[CV] END ................degree=3, gamma=10.0, kernel=linear; total time=   2.7s\n",
      "[CV] END ...................degree=3, gamma=10.0, kernel=rbf; total time=   4.2s\n",
      "[CV] END ...................degree=3, gamma=10.0, kernel=rbf; total time=   4.6s\n",
      "[CV] END ...................degree=3, gamma=10.0, kernel=rbf; total time=   4.0s\n",
      "[CV] END ...............degree=3, gamma=10.0, kernel=sigmoid; total time=   2.6s\n",
      "[CV] END ...............degree=3, gamma=10.0, kernel=sigmoid; total time=   2.5s\n",
      "[CV] END ...............degree=3, gamma=10.0, kernel=sigmoid; total time=   2.6s\n",
      "[CV] END ..................degree=3, gamma=10.0, kernel=poly; total time=   2.7s\n",
      "[CV] END ..................degree=3, gamma=10.0, kernel=poly; total time=   2.7s\n",
      "[CV] END ..................degree=3, gamma=10.0, kernel=poly; total time=   2.9s\n",
      "[CV] END ................degree=4, gamma=0.01, kernel=linear; total time=   2.8s\n",
      "[CV] END ................degree=4, gamma=0.01, kernel=linear; total time=   2.9s\n",
      "[CV] END ................degree=4, gamma=0.01, kernel=linear; total time=   2.9s\n",
      "[CV] END ...................degree=4, gamma=0.01, kernel=rbf; total time=   4.5s\n",
      "[CV] END ...................degree=4, gamma=0.01, kernel=rbf; total time=   4.0s\n",
      "[CV] END ...................degree=4, gamma=0.01, kernel=rbf; total time=   4.3s\n",
      "[CV] END ...............degree=4, gamma=0.01, kernel=sigmoid; total time=   2.9s\n",
      "[CV] END ...............degree=4, gamma=0.01, kernel=sigmoid; total time=   2.6s\n",
      "[CV] END ...............degree=4, gamma=0.01, kernel=sigmoid; total time=   2.9s\n",
      "[CV] END ..................degree=4, gamma=0.01, kernel=poly; total time=   2.9s\n",
      "[CV] END ..................degree=4, gamma=0.01, kernel=poly; total time=   2.8s\n",
      "[CV] END ..................degree=4, gamma=0.01, kernel=poly; total time=   2.9s\n",
      "[CV] END degree=4, gamma=0.021544346900318832, kernel=linear; total time=   3.2s\n",
      "[CV] END degree=4, gamma=0.021544346900318832, kernel=linear; total time=   2.8s\n",
      "[CV] END degree=4, gamma=0.021544346900318832, kernel=linear; total time=   2.7s\n",
      "[CV] END ...degree=4, gamma=0.021544346900318832, kernel=rbf; total time=   4.7s\n",
      "[CV] END ...degree=4, gamma=0.021544346900318832, kernel=rbf; total time=   4.4s\n",
      "[CV] END ...degree=4, gamma=0.021544346900318832, kernel=rbf; total time=   4.4s\n",
      "[CV] END degree=4, gamma=0.021544346900318832, kernel=sigmoid; total time=   3.2s\n",
      "[CV] END degree=4, gamma=0.021544346900318832, kernel=sigmoid; total time=   2.9s\n",
      "[CV] END degree=4, gamma=0.021544346900318832, kernel=sigmoid; total time=   2.8s\n",
      "[CV] END ..degree=4, gamma=0.021544346900318832, kernel=poly; total time=   2.7s\n",
      "[CV] END ..degree=4, gamma=0.021544346900318832, kernel=poly; total time=   3.1s\n",
      "[CV] END ..degree=4, gamma=0.021544346900318832, kernel=poly; total time=   2.9s\n",
      "[CV] END degree=4, gamma=0.046415888336127774, kernel=linear; total time=   2.8s\n",
      "[CV] END degree=4, gamma=0.046415888336127774, kernel=linear; total time=   2.8s\n",
      "[CV] END degree=4, gamma=0.046415888336127774, kernel=linear; total time=   2.4s\n",
      "[CV] END ...degree=4, gamma=0.046415888336127774, kernel=rbf; total time=   4.5s\n",
      "[CV] END ...degree=4, gamma=0.046415888336127774, kernel=rbf; total time=   4.3s\n",
      "[CV] END ...degree=4, gamma=0.046415888336127774, kernel=rbf; total time=   4.0s\n",
      "[CV] END degree=4, gamma=0.046415888336127774, kernel=sigmoid; total time=   2.9s\n",
      "[CV] END degree=4, gamma=0.046415888336127774, kernel=sigmoid; total time=   3.4s\n",
      "[CV] END degree=4, gamma=0.046415888336127774, kernel=sigmoid; total time=   3.2s\n",
      "[CV] END ..degree=4, gamma=0.046415888336127774, kernel=poly; total time=   2.9s\n",
      "[CV] END ..degree=4, gamma=0.046415888336127774, kernel=poly; total time=   2.7s\n",
      "[CV] END ..degree=4, gamma=0.046415888336127774, kernel=poly; total time=   3.0s\n",
      "[CV] END .................degree=4, gamma=0.1, kernel=linear; total time=   3.1s\n",
      "[CV] END .................degree=4, gamma=0.1, kernel=linear; total time=   2.9s\n",
      "[CV] END .................degree=4, gamma=0.1, kernel=linear; total time=   2.5s\n",
      "[CV] END ....................degree=4, gamma=0.1, kernel=rbf; total time=   4.2s\n",
      "[CV] END ....................degree=4, gamma=0.1, kernel=rbf; total time=   4.4s\n",
      "[CV] END ....................degree=4, gamma=0.1, kernel=rbf; total time=   4.0s\n",
      "[CV] END ................degree=4, gamma=0.1, kernel=sigmoid; total time=   2.6s\n",
      "[CV] END ................degree=4, gamma=0.1, kernel=sigmoid; total time=   2.6s\n",
      "[CV] END ................degree=4, gamma=0.1, kernel=sigmoid; total time=   2.6s\n",
      "[CV] END ...................degree=4, gamma=0.1, kernel=poly; total time=   2.7s\n",
      "[CV] END ...................degree=4, gamma=0.1, kernel=poly; total time=   2.8s\n",
      "[CV] END ...................degree=4, gamma=0.1, kernel=poly; total time=   2.7s\n",
      "[CV] END .degree=4, gamma=0.21544346900318834, kernel=linear; total time=   2.6s\n",
      "[CV] END .degree=4, gamma=0.21544346900318834, kernel=linear; total time=   2.5s\n",
      "[CV] END .degree=4, gamma=0.21544346900318834, kernel=linear; total time=   2.5s\n",
      "[CV] END ....degree=4, gamma=0.21544346900318834, kernel=rbf; total time=   3.8s\n",
      "[CV] END ....degree=4, gamma=0.21544346900318834, kernel=rbf; total time=   3.8s\n",
      "[CV] END ....degree=4, gamma=0.21544346900318834, kernel=rbf; total time=   3.7s\n",
      "[CV] END degree=4, gamma=0.21544346900318834, kernel=sigmoid; total time=   2.6s\n",
      "[CV] END degree=4, gamma=0.21544346900318834, kernel=sigmoid; total time=   2.6s\n",
      "[CV] END degree=4, gamma=0.21544346900318834, kernel=sigmoid; total time=   2.8s\n",
      "[CV] END ...degree=4, gamma=0.21544346900318834, kernel=poly; total time=   2.7s\n",
      "[CV] END ...degree=4, gamma=0.21544346900318834, kernel=poly; total time=   2.7s\n",
      "[CV] END ...degree=4, gamma=0.21544346900318834, kernel=poly; total time=   2.8s\n",
      "[CV] END .degree=4, gamma=0.46415888336127775, kernel=linear; total time=   2.6s\n",
      "[CV] END .degree=4, gamma=0.46415888336127775, kernel=linear; total time=   2.7s\n",
      "[CV] END .degree=4, gamma=0.46415888336127775, kernel=linear; total time=   2.9s\n",
      "[CV] END ....degree=4, gamma=0.46415888336127775, kernel=rbf; total time=   3.9s\n",
      "[CV] END ....degree=4, gamma=0.46415888336127775, kernel=rbf; total time=   3.9s\n",
      "[CV] END ....degree=4, gamma=0.46415888336127775, kernel=rbf; total time=   4.4s\n",
      "[CV] END degree=4, gamma=0.46415888336127775, kernel=sigmoid; total time=   3.1s\n",
      "[CV] END degree=4, gamma=0.46415888336127775, kernel=sigmoid; total time=   2.5s\n",
      "[CV] END degree=4, gamma=0.46415888336127775, kernel=sigmoid; total time=   2.7s\n",
      "[CV] END ...degree=4, gamma=0.46415888336127775, kernel=poly; total time=   2.7s\n",
      "[CV] END ...degree=4, gamma=0.46415888336127775, kernel=poly; total time=   2.7s\n",
      "[CV] END ...degree=4, gamma=0.46415888336127775, kernel=poly; total time=   2.8s\n",
      "[CV] END .................degree=4, gamma=1.0, kernel=linear; total time=   2.8s\n",
      "[CV] END .................degree=4, gamma=1.0, kernel=linear; total time=   2.6s\n",
      "[CV] END .................degree=4, gamma=1.0, kernel=linear; total time=   2.6s\n",
      "[CV] END ....................degree=4, gamma=1.0, kernel=rbf; total time=   3.7s\n",
      "[CV] END ....................degree=4, gamma=1.0, kernel=rbf; total time=   3.8s\n",
      "[CV] END ....................degree=4, gamma=1.0, kernel=rbf; total time=   3.9s\n",
      "[CV] END ................degree=4, gamma=1.0, kernel=sigmoid; total time=   2.6s\n",
      "[CV] END ................degree=4, gamma=1.0, kernel=sigmoid; total time=   2.6s\n",
      "[CV] END ................degree=4, gamma=1.0, kernel=sigmoid; total time=   2.6s\n",
      "[CV] END ...................degree=4, gamma=1.0, kernel=poly; total time=   2.8s\n",
      "[CV] END ...................degree=4, gamma=1.0, kernel=poly; total time=   2.9s\n",
      "[CV] END ...................degree=4, gamma=1.0, kernel=poly; total time=   2.7s\n",
      "[CV] END ...degree=4, gamma=2.154434690031882, kernel=linear; total time=   2.6s\n",
      "[CV] END ...degree=4, gamma=2.154434690031882, kernel=linear; total time=   2.8s\n",
      "[CV] END ...degree=4, gamma=2.154434690031882, kernel=linear; total time=   2.9s\n",
      "[CV] END ......degree=4, gamma=2.154434690031882, kernel=rbf; total time=   4.6s\n",
      "[CV] END ......degree=4, gamma=2.154434690031882, kernel=rbf; total time=   3.9s\n",
      "[CV] END ......degree=4, gamma=2.154434690031882, kernel=rbf; total time=   4.5s\n",
      "[CV] END ..degree=4, gamma=2.154434690031882, kernel=sigmoid; total time=   3.1s\n",
      "[CV] END ..degree=4, gamma=2.154434690031882, kernel=sigmoid; total time=   2.9s\n",
      "[CV] END ..degree=4, gamma=2.154434690031882, kernel=sigmoid; total time=   2.7s\n",
      "[CV] END .....degree=4, gamma=2.154434690031882, kernel=poly; total time=   2.8s\n",
      "[CV] END .....degree=4, gamma=2.154434690031882, kernel=poly; total time=   2.8s\n",
      "[CV] END .....degree=4, gamma=2.154434690031882, kernel=poly; total time=   2.8s\n",
      "[CV] END ..degree=4, gamma=4.6415888336127775, kernel=linear; total time=   2.6s\n",
      "[CV] END ..degree=4, gamma=4.6415888336127775, kernel=linear; total time=   2.9s\n",
      "[CV] END ..degree=4, gamma=4.6415888336127775, kernel=linear; total time=   2.6s\n",
      "[CV] END .....degree=4, gamma=4.6415888336127775, kernel=rbf; total time=   3.8s\n",
      "[CV] END .....degree=4, gamma=4.6415888336127775, kernel=rbf; total time=   3.7s\n",
      "[CV] END .....degree=4, gamma=4.6415888336127775, kernel=rbf; total time=   4.6s\n",
      "[CV] END .degree=4, gamma=4.6415888336127775, kernel=sigmoid; total time=   2.8s\n",
      "[CV] END .degree=4, gamma=4.6415888336127775, kernel=sigmoid; total time=   3.0s\n",
      "[CV] END .degree=4, gamma=4.6415888336127775, kernel=sigmoid; total time=   2.5s\n",
      "[CV] END ....degree=4, gamma=4.6415888336127775, kernel=poly; total time=   2.9s\n",
      "[CV] END ....degree=4, gamma=4.6415888336127775, kernel=poly; total time=   3.1s\n",
      "[CV] END ....degree=4, gamma=4.6415888336127775, kernel=poly; total time=   3.3s\n",
      "[CV] END ................degree=4, gamma=10.0, kernel=linear; total time=   2.8s\n",
      "[CV] END ................degree=4, gamma=10.0, kernel=linear; total time=   2.3s\n",
      "[CV] END ................degree=4, gamma=10.0, kernel=linear; total time=   2.9s\n",
      "[CV] END ...................degree=4, gamma=10.0, kernel=rbf; total time=   4.4s\n",
      "[CV] END ...................degree=4, gamma=10.0, kernel=rbf; total time=   4.0s\n",
      "[CV] END ...................degree=4, gamma=10.0, kernel=rbf; total time=   4.4s\n",
      "[CV] END ...............degree=4, gamma=10.0, kernel=sigmoid; total time=   2.8s\n",
      "[CV] END ...............degree=4, gamma=10.0, kernel=sigmoid; total time=   2.8s\n",
      "[CV] END ...............degree=4, gamma=10.0, kernel=sigmoid; total time=   2.6s\n",
      "[CV] END ..................degree=4, gamma=10.0, kernel=poly; total time=   3.0s\n",
      "[CV] END ..................degree=4, gamma=10.0, kernel=poly; total time=   3.1s\n",
      "[CV] END ..................degree=4, gamma=10.0, kernel=poly; total time=   3.0s\n",
      "Best params on training set : {'degree': 2, 'gamma': 10.0, 'kernel': 'poly'}\n"
     ]
    }
   ],
   "source": [
    "#let's try with a svr\n",
    "kernels = ['linear', 'rbf', 'sigmoid', 'poly']\n",
    "degrees = [2,3,4]\n",
    "gamma_range  = np.logspace(-2, 1, 10)\n",
    "#gamma_range = np.logspace(-2, 1, 10)\n",
    "#'gamma' : gamma_range\n",
    "param_grid = {'gamma' : gamma_range, 'kernel' : kernels, 'degree' : degrees}\n",
    "\n",
    "score = 'neg_mean_squared_error'\n",
    "\n",
    "svr_cv = GridSearchCV(svm.SVR(), param_grid, cv = 3, scoring = score, verbose = 2)\n",
    "\n",
    "svr_cv.fit(xtrain, ytrain)\n",
    "\n",
    "print('Best params on training set : {}'.format(svr_cv.best_params_))"
   ]
  },
  {
   "cell_type": "code",
   "execution_count": 75,
   "id": "817b72c7-8c67-4051-b40a-cffced34ff19",
   "metadata": {
    "execution": {
     "iopub.execute_input": "2022-10-24T16:12:07.118384Z",
     "iopub.status.busy": "2022-10-24T16:12:07.118384Z",
     "iopub.status.idle": "2022-10-24T16:12:07.135383Z",
     "shell.execute_reply": "2022-10-24T16:12:07.135383Z",
     "shell.execute_reply.started": "2022-10-24T16:12:07.118384Z"
    },
    "tags": []
   },
   "outputs": [
    {
     "name": "stdout",
     "output_type": "stream",
     "text": [
      "[ 0.01        0.02154435  0.04641589  0.1         0.21544347  0.46415888\n",
      "  1.          2.15443469  4.64158883 10.        ]\n"
     ]
    }
   ],
   "source": [
    "gamma_range  = np.logspace(-2, 1, 10)\n",
    "print(gamma_range)"
   ]
  },
  {
   "cell_type": "code",
   "execution_count": 80,
   "id": "42deff6e-0cbc-4de7-b1dc-510e44fbc678",
   "metadata": {
    "execution": {
     "iopub.execute_input": "2022-10-24T16:45:36.574732Z",
     "iopub.status.busy": "2022-10-24T16:45:36.573723Z",
     "iopub.status.idle": "2022-10-24T16:45:41.763719Z",
     "shell.execute_reply": "2022-10-24T16:45:41.763719Z",
     "shell.execute_reply.started": "2022-10-24T16:45:36.574732Z"
    },
    "tags": []
   },
   "outputs": [
    {
     "data": {
      "image/png": "[encoded data removed]",
      "text/plain": [
       "<Figure size 432x288 with 1 Axes>"
      ]
     },
     "metadata": {
      "needs_background": "light"
     },
     "output_type": "display_data"
    },
    {
     "data": {
      "text/plain": [
       "<Figure size 432x288 with 0 Axes>"
      ]
     },
     "metadata": {},
     "output_type": "display_data"
    }
   ],
   "source": [
    "svr = svm.SVR(kernel=\"poly\", C=10, gamma = 10.0, degree = 2)\n",
    "svr = svr.fit(xtrain,ytrain)\n",
    "\n",
    "true_pred_plot(ytest, svr.predict(xtest))"
   ]
  },
  {
   "cell_type": "code",
   "execution_count": 13,
   "id": "e60c3587-7cab-4d40-ba62-49b5fd26e326",
   "metadata": {},
   "outputs": [
    {
     "ename": "AttributeError",
     "evalue": "'Ridge' object has no attribute 'prediction'",
     "output_type": "error",
     "traceback": [
      "\u001b[1;31m---------------------------------------------------------------------------\u001b[0m",
      "\u001b[1;31mAttributeError\u001b[0m                            Traceback (most recent call last)",
      "Input \u001b[1;32mIn [13]\u001b[0m, in \u001b[0;36m<cell line: 3>\u001b[1;34m()\u001b[0m\n\u001b[0;32m      1\u001b[0m model \u001b[38;5;241m=\u001b[39m linear_model\u001b[38;5;241m.\u001b[39mRidge()\n\u001b[0;32m      2\u001b[0m model \u001b[38;5;241m=\u001b[39m model\u001b[38;5;241m.\u001b[39mfit(xtrain, ytrain)\n\u001b[1;32m----> 3\u001b[0m true_pred_plot(ytest, \u001b[43mmodel\u001b[49m\u001b[38;5;241;43m.\u001b[39;49m\u001b[43mprediction\u001b[49m(xtest))\n",
      "\u001b[1;31mAttributeError\u001b[0m: 'Ridge' object has no attribute 'prediction'"
     ]
    }
   ],
   "source": [
    "model = linear_model.Ridge()\n",
    "model = model.fit(xtrain, ytrain)\n",
    "true_pred_plot(ytest, model.prediction(xtest))"
   ]
  }
 ],
 "metadata": {
  "kernelspec": {
   "display_name": "Python 3 (ipykernel)",
   "language": "python",
   "name": "python3"
  },
  "language_info": {
   "codemirror_mode": {
    "name": "ipython",
    "version": 3
   },
   "file_extension": ".py",
   "mimetype": "text/x-python",
   "name": "python",
   "nbconvert_exporter": "python",
   "pygments_lexer": "ipython3",
   "version": "3.9.12"
  }
 },
 "nbformat": 4,
 "nbformat_minor": 5
}
