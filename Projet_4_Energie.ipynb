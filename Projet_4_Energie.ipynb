{
 "cells": [
  {
   "cell_type": "markdown",
   "id": "2fb6cab8-d975-41e3-95f8-be280fd8eca2",
   "metadata": {},
   "source": [
    "# Modelisation de la consommation totale d'energie"
   ]
  },
  {
   "cell_type": "code",
   "execution_count": 1,
   "id": "ff631086-1f08-49b0-9844-8833ce2b57fc",
   "metadata": {
    "execution": {
     "iopub.execute_input": "2022-10-28T09:00:36.056714Z",
     "iopub.status.busy": "2022-10-28T09:00:36.055711Z",
     "iopub.status.idle": "2022-10-28T09:00:37.511164Z",
     "shell.execute_reply": "2022-10-28T09:00:37.509166Z",
     "shell.execute_reply.started": "2022-10-28T09:00:36.056714Z"
    },
    "tags": []
   },
   "outputs": [],
   "source": [
    "import pandas as pd\n",
    "import numpy as np \n",
    "import matplotlib.pyplot as plt\n",
    "import seaborn as sns\n",
    "from sklearn.model_selection import train_test_split, GridSearchCV\n",
    "import sklearn.preprocessing as sk_prepro\n",
    "from sklearn import metrics"
   ]
  },
  {
   "cell_type": "code",
   "execution_count": 2,
   "id": "121579be-483c-4051-98e6-1a39153a8573",
   "metadata": {
    "execution": {
     "iopub.execute_input": "2022-10-28T09:00:37.515120Z",
     "iopub.status.busy": "2022-10-28T09:00:37.514154Z",
     "iopub.status.idle": "2022-10-28T09:00:37.618192Z",
     "shell.execute_reply": "2022-10-28T09:00:37.618192Z",
     "shell.execute_reply.started": "2022-10-28T09:00:37.515120Z"
    },
    "tags": []
   },
   "outputs": [],
   "source": [
    "df = pd.read_csv('data_full.csv')"
   ]
  },
  {
   "cell_type": "code",
   "execution_count": 3,
   "id": "3d8984b7-8236-4e08-b8b2-ddfe192af60e",
   "metadata": {
    "execution": {
     "iopub.execute_input": "2022-10-28T09:00:37.620107Z",
     "iopub.status.busy": "2022-10-28T09:00:37.620107Z",
     "iopub.status.idle": "2022-10-28T09:00:37.634135Z",
     "shell.execute_reply": "2022-10-28T09:00:37.634135Z",
     "shell.execute_reply.started": "2022-10-28T09:00:37.620107Z"
    },
    "tags": []
   },
   "outputs": [],
   "source": [
    "data_num = df\n",
    "target_tag = 'SiteEUI(kBtu/sf)'\n",
    "target = data_num[target_tag]\n",
    "data_num = data_num.drop(labels = [target_tag, 'TotalGHGEmissions', 'ENERGYSTARScore','SiteEnergyUse(kBtu)'], axis = 1)"
   ]
  },
  {
   "cell_type": "code",
   "execution_count": 4,
   "id": "d6e42a06-c50f-4760-af56-b86d619123bb",
   "metadata": {
    "execution": {
     "iopub.execute_input": "2022-10-28T09:00:37.635109Z",
     "iopub.status.busy": "2022-10-28T09:00:37.635109Z",
     "iopub.status.idle": "2022-10-28T09:00:37.665108Z",
     "shell.execute_reply": "2022-10-28T09:00:37.665108Z",
     "shell.execute_reply.started": "2022-10-28T09:00:37.635109Z"
    },
    "tags": []
   },
   "outputs": [
    {
     "name": "stdout",
     "output_type": "stream",
     "text": [
      "<class 'pandas.core.frame.DataFrame'>\n",
      "RangeIndex: 1634 entries, 0 to 1633\n",
      "Columns: 573 entries, 0 to ThirdLargestPropertyUseTypeGFA\n",
      "dtypes: float64(573)\n",
      "memory usage: 7.1 MB\n"
     ]
    }
   ],
   "source": [
    "data_num.info()"
   ]
  },
  {
   "cell_type": "markdown",
   "id": "ae5491d6-cd97-46a4-a2d1-c74d321697d0",
   "metadata": {},
   "source": [
    "## Modèle linéaire"
   ]
  },
  {
   "cell_type": "code",
   "execution_count": 5,
   "id": "31efd872-fd59-43f1-89f2-06ee288152bb",
   "metadata": {
    "execution": {
     "iopub.execute_input": "2022-10-28T09:00:37.666148Z",
     "iopub.status.busy": "2022-10-28T09:00:37.666148Z",
     "iopub.status.idle": "2022-10-28T09:00:37.713110Z",
     "shell.execute_reply": "2022-10-28T09:00:37.713110Z",
     "shell.execute_reply.started": "2022-10-28T09:00:37.666148Z"
    },
    "tags": []
   },
   "outputs": [],
   "source": [
    "from sklearn.linear_model import Ridge\n",
    "from sklearn import svm\n",
    "from sklearn.neighbors import KNeighborsRegressor"
   ]
  },
  {
   "cell_type": "code",
   "execution_count": 6,
   "id": "74cd14cd-9495-4c1c-895a-017e4e90a10a",
   "metadata": {
    "execution": {
     "iopub.execute_input": "2022-10-28T09:00:37.714110Z",
     "iopub.status.busy": "2022-10-28T09:00:37.714110Z",
     "iopub.status.idle": "2022-10-28T09:00:38.463107Z",
     "shell.execute_reply": "2022-10-28T09:00:38.463107Z",
     "shell.execute_reply.started": "2022-10-28T09:00:37.714110Z"
    },
    "tags": []
   },
   "outputs": [
    {
     "name": "stdout",
     "output_type": "stream",
     "text": [
      "Fitting 3 folds for each of 14 candidates, totalling 42 fits\n",
      "Best params on training set : {'n_neighbors': 6}\n",
      "GridCV results : \n",
      "r2 = 0.088 (+/- 0.054) for {'n_neighbors': 2}\n",
      "r2 = 0.175 (+/- 0.061) for {'n_neighbors': 3}\n",
      "r2 = 0.216 (+/- 0.113) for {'n_neighbors': 4}\n",
      "r2 = 0.225 (+/- 0.141) for {'n_neighbors': 5}\n",
      "r2 = 0.229 (+/- 0.173) for {'n_neighbors': 6}\n",
      "r2 = 0.228 (+/- 0.167) for {'n_neighbors': 7}\n",
      "r2 = 0.225 (+/- 0.163) for {'n_neighbors': 8}\n",
      "r2 = 0.216 (+/- 0.169) for {'n_neighbors': 9}\n",
      "r2 = 0.213 (+/- 0.165) for {'n_neighbors': 10}\n",
      "r2 = 0.213 (+/- 0.160) for {'n_neighbors': 11}\n",
      "r2 = 0.211 (+/- 0.160) for {'n_neighbors': 12}\n",
      "r2 = 0.203 (+/- 0.153) for {'n_neighbors': 13}\n",
      "r2 = 0.199 (+/- 0.143) for {'n_neighbors': 14}\n",
      "r2 = 0.194 (+/- 0.133) for {'n_neighbors': 15}\n"
     ]
    }
   ],
   "source": [
    "#first let's test this on knregressoe\n",
    "xtrain, xtest, ytrain, ytest = train_test_split(data_num, target, test_size = 0.2)\n",
    "\n",
    "#let's standard scale\n",
    "\n",
    "sscaler = sk_prepro.StandardScaler()\n",
    "sscaler_fit = sscaler.fit(xtrain)\n",
    "xtrain = sscaler_fit.transform(xtrain)\n",
    "xtest = sscaler_fit.transform(xtest)\n",
    "\n",
    "#let's grid search for the k\n",
    "\n",
    "k_grid = {'n_neighbors' : list(range(2,16))}\n",
    "score = 'r2'\n",
    "\n",
    "reg = GridSearchCV(KNeighborsRegressor(), k_grid, cv =3, scoring = score, verbose = 1)\n",
    "\n",
    "reg.fit(xtrain, ytrain)\n",
    "\n",
    "print('Best params on training set : {}'.format(reg.best_params_))\n",
    "\n",
    "print('GridCV results : ')\n",
    "for mean, std, k in zip(reg.cv_results_['mean_test_score'],\n",
    "                       reg.cv_results_['std_test_score'],\n",
    "                       reg.cv_results_['params']):\n",
    "    print('{} = {:.3f} (+/- {:.3f}) for {}'.format(score,mean,std*2,k))"
   ]
  },
  {
   "cell_type": "code",
   "execution_count": 7,
   "id": "df57154a-6b95-49f2-b3d8-30dcd8e16d4c",
   "metadata": {
    "execution": {
     "iopub.execute_input": "2022-10-28T09:00:38.464109Z",
     "iopub.status.busy": "2022-10-28T09:00:38.464109Z",
     "iopub.status.idle": "2022-10-28T09:00:38.479107Z",
     "shell.execute_reply": "2022-10-28T09:00:38.479107Z",
     "shell.execute_reply.started": "2022-10-28T09:00:38.464109Z"
    },
    "tags": []
   },
   "outputs": [],
   "source": [
    "from sklearn import linear_model\n",
    "line_reg = linear_model.LinearRegression()"
   ]
  },
  {
   "cell_type": "code",
   "execution_count": 8,
   "id": "127c7198-7b1b-4a8f-bd84-8b4f5145d06b",
   "metadata": {
    "execution": {
     "iopub.execute_input": "2022-10-28T09:00:38.480108Z",
     "iopub.status.busy": "2022-10-28T09:00:38.480108Z",
     "iopub.status.idle": "2022-10-28T09:00:38.496111Z",
     "shell.execute_reply": "2022-10-28T09:00:38.495110Z",
     "shell.execute_reply.started": "2022-10-28T09:00:38.480108Z"
    },
    "tags": []
   },
   "outputs": [],
   "source": [
    "def true_pred_plot(y_train,pred_train, y_test, pred_test):\n",
    "    fig, ax = plt.subplots(2, figsize = (10,10))\n",
    "    \n",
    "    line_reg_train = line_reg.fit(np.array(pred_train).reshape(-1,1),y_train)\n",
    "    r2_train = line_reg_train.score(np.array(pred_train).reshape(-1,1),y_train)\n",
    "    rmse_train = (np.sqrt(metrics.mean_squared_error(y_train, pred_train))/np.mean(ytrain))\n",
    "    a = float(line_reg_train.coef_)\n",
    "    b= line_reg_train.intercept_\n",
    "    ax[0].scatter( y_train, pred_train)\n",
    "    ax[0].plot([a*np.abs(b)+b, a*y_train.max()+b],[np.abs(b), ytrain.max()], linestyle = 'dashed')\n",
    "    ax[0].text(0.7,0.7,'R2 : {:.3f} NRMSE : {: .2f}'.format(r2_train,rmse_train), transform = ax[0].transAxes)\n",
    "    ax[0].set_xlabel('True values')\n",
    "    ax[0].set_ylabel('Predicted values')\n",
    "    ax[0].set_xlim(-10,y_train.max())\n",
    "    ax[0].set_ylim(-10,pred_train.max())\n",
    "    ax[0].set_title('On train values')\n",
    "\n",
    "    line_reg_test  = line_reg.fit(np.array(pred_test).reshape(-1,1),y_test)\n",
    "    r2_test =  line_reg_test.score(np.array(pred_test).reshape(-1,1),y_test)\n",
    "    rmse_test = (np.sqrt(metrics.mean_squared_error(y_test, pred_test))/np.mean(ytest))\n",
    "    a = float(line_reg_test.coef_)\n",
    "    b=  line_reg_test.intercept_\n",
    "    ax[1].scatter( y_test, pred_test)\n",
    "    ax[1].plot([a*np.abs(b)+b, a*y_test.max()+b],[np.abs(b), y_test.max()], linestyle = 'dashed')\n",
    "    ax[1].text(0.7,0.7,'R2 : {:.3f} NRMSE : {: .2f}'.format(r2_test, rmse_test), transform = ax[1].transAxes)\n",
    "    ax[1].set_xlabel('True values')\n",
    "    ax[1].set_ylabel('Predicted values')\n",
    "    ax[1].set_xlim(-10,y_test.max())\n",
    "    ax[1].set_ylim(-10,pred_test.max())\n",
    "    ax[1].set_title('On test values')\n",
    "    \n",
    "    plt.show()\n",
    "    plt.clf()"
   ]
  },
  {
   "cell_type": "code",
   "execution_count": 9,
   "id": "10ca39c1-0fb0-42ac-b7a5-5e4ff328d098",
   "metadata": {
    "execution": {
     "iopub.execute_input": "2022-10-28T09:00:38.497109Z",
     "iopub.status.busy": "2022-10-28T09:00:38.497109Z",
     "iopub.status.idle": "2022-10-28T09:00:38.827141Z",
     "shell.execute_reply": "2022-10-28T09:00:38.827141Z",
     "shell.execute_reply.started": "2022-10-28T09:00:38.497109Z"
    },
    "tags": []
   },
   "outputs": [
    {
     "data": {
      "image/png": "[encoded data removed]",
      "text/plain": [
       "<Figure size 720x720 with 2 Axes>"
      ]
     },
     "metadata": {
      "needs_background": "light"
     },
     "output_type": "display_data"
    },
    {
     "data": {
      "text/plain": [
       "<Figure size 432x288 with 0 Axes>"
      ]
     },
     "metadata": {},
     "output_type": "display_data"
    }
   ],
   "source": [
    "model = KNeighborsRegressor(n_neighbors=2).fit(xtrain, ytrain)\n",
    "\n",
    "true_pred_plot(ytrain, model.predict(xtrain), ytest, model.predict(xtest))"
   ]
  },
  {
   "cell_type": "code",
   "execution_count": 10,
   "id": "7864a029-dd2a-4ba5-ab75-8cb4461bb5a7",
   "metadata": {
    "execution": {
     "iopub.execute_input": "2022-10-28T09:00:38.829107Z",
     "iopub.status.busy": "2022-10-28T09:00:38.828107Z",
     "iopub.status.idle": "2022-10-28T09:00:39.097108Z",
     "shell.execute_reply": "2022-10-28T09:00:39.097108Z",
     "shell.execute_reply.started": "2022-10-28T09:00:38.829107Z"
    },
    "tags": []
   },
   "outputs": [
    {
     "data": {
      "image/png": "[encoded data removed]",
      "text/plain": [
       "<Figure size 720x720 with 2 Axes>"
      ]
     },
     "metadata": {
      "needs_background": "light"
     },
     "output_type": "display_data"
    },
    {
     "data": {
      "text/plain": [
       "<Figure size 432x288 with 0 Axes>"
      ]
     },
     "metadata": {},
     "output_type": "display_data"
    }
   ],
   "source": [
    "line_reg_m = linear_model.LinearRegression()\n",
    "\n",
    "line_reg_m.fit(xtrain,ytrain)\n",
    "\n",
    "\n",
    "true_pred_plot(ytrain, line_reg_m.predict(xtrain), ytest, line_reg_m.predict(xtest))"
   ]
  },
  {
   "cell_type": "code",
   "execution_count": 11,
   "id": "b2042a43-3b70-4d07-9eec-fe814f5feed5",
   "metadata": {
    "execution": {
     "iopub.execute_input": "2022-10-28T09:00:39.098108Z",
     "iopub.status.busy": "2022-10-28T09:00:39.098108Z",
     "iopub.status.idle": "2022-10-28T09:00:39.113107Z",
     "shell.execute_reply": "2022-10-28T09:00:39.113107Z",
     "shell.execute_reply.started": "2022-10-28T09:00:39.098108Z"
    },
    "tags": []
   },
   "outputs": [
    {
     "name": "stdout",
     "output_type": "stream",
     "text": [
      "0.0006947000121999999 37036273666.90207\n"
     ]
    }
   ],
   "source": [
    "print(ytest.max()/1000000, line_reg_m.predict(xtest).max()/1000000)"
   ]
  },
  {
   "cell_type": "code",
   "execution_count": 12,
   "id": "88ed7501-a873-41ed-a11e-e84949e975cf",
   "metadata": {
    "execution": {
     "iopub.execute_input": "2022-10-28T09:00:39.115108Z",
     "iopub.status.busy": "2022-10-28T09:00:39.115108Z",
     "iopub.status.idle": "2022-10-28T09:00:52.434109Z",
     "shell.execute_reply": "2022-10-28T09:00:52.433138Z",
     "shell.execute_reply.started": "2022-10-28T09:00:39.115108Z"
    },
    "tags": []
   },
   "outputs": [
    {
     "name": "stdout",
     "output_type": "stream",
     "text": [
      "Fitting 3 folds for each of 480 candidates, totalling 1440 fits\n"
     ]
    },
    {
     "name": "stderr",
     "output_type": "stream",
     "text": [
      "\n",
      "KeyboardInterrupt\n",
      "\n"
     ]
    }
   ],
   "source": [
    "#let's try with a svr\n",
    "C_range = [1.0, 5.0, 10.0, 100.0]\n",
    "kernels = ['linear', 'rbf', 'sigmoid', 'poly']\n",
    "degrees = [2,3,4]\n",
    "gamma_range  = np.logspace(-2, 1, 10)\n",
    "#gamma_range = np.logspace(-2, 1, 10)\n",
    "#'gamma' : gamma_range\n",
    "param_grid = {'gamma' : gamma_range, 'kernel' : kernels, 'degree' : degrees, 'C' : C_range}\n",
    "\n",
    "score = 'neg_mean_squared_error'\n",
    "\n",
    "svr_cv = GridSearchCV(svm.SVR(), param_grid, cv = 3, scoring = score, verbose = 1)\n",
    "\n",
    "svr_cv.fit(xtrain, ytrain)\n",
    "\n",
    "print('Best params on training set : {}'.format(svr_cv.best_params_))"
   ]
  },
  {
   "cell_type": "code",
   "execution_count": 13,
   "id": "42deff6e-0cbc-4de7-b1dc-510e44fbc678",
   "metadata": {
    "execution": {
     "iopub.execute_input": "2022-10-28T09:00:55.472795Z",
     "iopub.status.busy": "2022-10-28T09:00:55.472795Z",
     "iopub.status.idle": "2022-10-28T09:02:02.106793Z",
     "shell.execute_reply": "2022-10-28T09:02:02.106793Z",
     "shell.execute_reply.started": "2022-10-28T09:00:55.472795Z"
    },
    "tags": []
   },
   "outputs": [
    {
     "data": {
      "image/png": "[encoded data removed]",
      "text/plain": [
       "<Figure size 720x720 with 2 Axes>"
      ]
     },
     "metadata": {
      "needs_background": "light"
     },
     "output_type": "display_data"
    },
    {
     "data": {
      "text/plain": [
       "<Figure size 432x288 with 0 Axes>"
      ]
     },
     "metadata": {},
     "output_type": "display_data"
    }
   ],
   "source": [
    "svr = svm.SVR(kernel=\"poly\", C=10.0, gamma = 2.15, degree = 3)\n",
    "svr = svr.fit(xtrain,ytrain)\n",
    "\n",
    "true_pred_plot(ytrain, svr.predict(xtrain), ytest, svr.predict(xtest))"
   ]
  },
  {
   "cell_type": "code",
   "execution_count": 15,
   "id": "23dc3ed2-d38d-4ce9-86a7-a1a57896a884",
   "metadata": {
    "execution": {
     "iopub.execute_input": "2022-10-28T09:03:51.746964Z",
     "iopub.status.busy": "2022-10-28T09:03:51.746964Z",
     "iopub.status.idle": "2022-10-28T09:05:15.442962Z",
     "shell.execute_reply": "2022-10-28T09:05:15.442962Z",
     "shell.execute_reply.started": "2022-10-28T09:03:51.746964Z"
    },
    "tags": []
   },
   "outputs": [
    {
     "name": "stdout",
     "output_type": "stream",
     "text": [
      "Fitting 3 folds for each of 480 candidates, totalling 1440 fits\n"
     ]
    },
    {
     "name": "stderr",
     "output_type": "stream",
     "text": [
      "E:\\Data_Science\\Anaconda\\lib\\site-packages\\sklearn\\linear_model\\_ridge.py:196: UserWarning: Singular matrix in solving dual problem. Using least-squares solution instead.\n",
      "  warnings.warn(\n",
      "E:\\Data_Science\\Anaconda\\lib\\site-packages\\sklearn\\linear_model\\_ridge.py:196: UserWarning: Singular matrix in solving dual problem. Using least-squares solution instead.\n",
      "  warnings.warn(\n",
      "E:\\Data_Science\\Anaconda\\lib\\site-packages\\sklearn\\linear_model\\_ridge.py:196: UserWarning: Singular matrix in solving dual problem. Using least-squares solution instead.\n",
      "  warnings.warn(\n",
      "E:\\Data_Science\\Anaconda\\lib\\site-packages\\sklearn\\linear_model\\_ridge.py:196: UserWarning: Singular matrix in solving dual problem. Using least-squares solution instead.\n",
      "  warnings.warn(\n",
      "E:\\Data_Science\\Anaconda\\lib\\site-packages\\sklearn\\linear_model\\_ridge.py:196: UserWarning: Singular matrix in solving dual problem. Using least-squares solution instead.\n",
      "  warnings.warn(\n",
      "E:\\Data_Science\\Anaconda\\lib\\site-packages\\sklearn\\linear_model\\_ridge.py:196: UserWarning: Singular matrix in solving dual problem. Using least-squares solution instead.\n",
      "  warnings.warn(\n",
      "E:\\Data_Science\\Anaconda\\lib\\site-packages\\sklearn\\linear_model\\_ridge.py:196: UserWarning: Singular matrix in solving dual problem. Using least-squares solution instead.\n",
      "  warnings.warn(\n",
      "E:\\Data_Science\\Anaconda\\lib\\site-packages\\sklearn\\linear_model\\_ridge.py:196: UserWarning: Singular matrix in solving dual problem. Using least-squares solution instead.\n",
      "  warnings.warn(\n",
      "E:\\Data_Science\\Anaconda\\lib\\site-packages\\sklearn\\linear_model\\_ridge.py:196: UserWarning: Singular matrix in solving dual problem. Using least-squares solution instead.\n",
      "  warnings.warn(\n",
      "E:\\Data_Science\\Anaconda\\lib\\site-packages\\sklearn\\linear_model\\_ridge.py:196: UserWarning: Singular matrix in solving dual problem. Using least-squares solution instead.\n",
      "  warnings.warn(\n",
      "E:\\Data_Science\\Anaconda\\lib\\site-packages\\sklearn\\linear_model\\_ridge.py:196: UserWarning: Singular matrix in solving dual problem. Using least-squares solution instead.\n",
      "  warnings.warn(\n",
      "E:\\Data_Science\\Anaconda\\lib\\site-packages\\sklearn\\linear_model\\_ridge.py:196: UserWarning: Singular matrix in solving dual problem. Using least-squares solution instead.\n",
      "  warnings.warn(\n",
      "E:\\Data_Science\\Anaconda\\lib\\site-packages\\sklearn\\linear_model\\_ridge.py:196: UserWarning: Singular matrix in solving dual problem. Using least-squares solution instead.\n",
      "  warnings.warn(\n",
      "E:\\Data_Science\\Anaconda\\lib\\site-packages\\sklearn\\linear_model\\_ridge.py:196: UserWarning: Singular matrix in solving dual problem. Using least-squares solution instead.\n",
      "  warnings.warn(\n",
      "E:\\Data_Science\\Anaconda\\lib\\site-packages\\sklearn\\linear_model\\_ridge.py:196: UserWarning: Singular matrix in solving dual problem. Using least-squares solution instead.\n",
      "  warnings.warn(\n",
      "E:\\Data_Science\\Anaconda\\lib\\site-packages\\sklearn\\linear_model\\_ridge.py:196: UserWarning: Singular matrix in solving dual problem. Using least-squares solution instead.\n",
      "  warnings.warn(\n",
      "E:\\Data_Science\\Anaconda\\lib\\site-packages\\sklearn\\linear_model\\_ridge.py:196: UserWarning: Singular matrix in solving dual problem. Using least-squares solution instead.\n",
      "  warnings.warn(\n",
      "E:\\Data_Science\\Anaconda\\lib\\site-packages\\sklearn\\linear_model\\_ridge.py:196: UserWarning: Singular matrix in solving dual problem. Using least-squares solution instead.\n",
      "  warnings.warn(\n",
      "E:\\Data_Science\\Anaconda\\lib\\site-packages\\sklearn\\linear_model\\_ridge.py:196: UserWarning: Singular matrix in solving dual problem. Using least-squares solution instead.\n",
      "  warnings.warn(\n",
      "E:\\Data_Science\\Anaconda\\lib\\site-packages\\sklearn\\linear_model\\_ridge.py:196: UserWarning: Singular matrix in solving dual problem. Using least-squares solution instead.\n",
      "  warnings.warn(\n",
      "E:\\Data_Science\\Anaconda\\lib\\site-packages\\sklearn\\linear_model\\_ridge.py:196: UserWarning: Singular matrix in solving dual problem. Using least-squares solution instead.\n",
      "  warnings.warn(\n",
      "E:\\Data_Science\\Anaconda\\lib\\site-packages\\sklearn\\linear_model\\_ridge.py:196: UserWarning: Singular matrix in solving dual problem. Using least-squares solution instead.\n",
      "  warnings.warn(\n",
      "E:\\Data_Science\\Anaconda\\lib\\site-packages\\sklearn\\linear_model\\_ridge.py:196: UserWarning: Singular matrix in solving dual problem. Using least-squares solution instead.\n",
      "  warnings.warn(\n",
      "E:\\Data_Science\\Anaconda\\lib\\site-packages\\sklearn\\linear_model\\_ridge.py:196: UserWarning: Singular matrix in solving dual problem. Using least-squares solution instead.\n",
      "  warnings.warn(\n",
      "E:\\Data_Science\\Anaconda\\lib\\site-packages\\sklearn\\linear_model\\_ridge.py:196: UserWarning: Singular matrix in solving dual problem. Using least-squares solution instead.\n",
      "  warnings.warn(\n",
      "E:\\Data_Science\\Anaconda\\lib\\site-packages\\sklearn\\linear_model\\_ridge.py:196: UserWarning: Singular matrix in solving dual problem. Using least-squares solution instead.\n",
      "  warnings.warn(\n",
      "E:\\Data_Science\\Anaconda\\lib\\site-packages\\sklearn\\linear_model\\_ridge.py:196: UserWarning: Singular matrix in solving dual problem. Using least-squares solution instead.\n",
      "  warnings.warn(\n",
      "E:\\Data_Science\\Anaconda\\lib\\site-packages\\sklearn\\linear_model\\_ridge.py:196: UserWarning: Singular matrix in solving dual problem. Using least-squares solution instead.\n",
      "  warnings.warn(\n",
      "E:\\Data_Science\\Anaconda\\lib\\site-packages\\sklearn\\linear_model\\_ridge.py:196: UserWarning: Singular matrix in solving dual problem. Using least-squares solution instead.\n",
      "  warnings.warn(\n",
      "E:\\Data_Science\\Anaconda\\lib\\site-packages\\sklearn\\linear_model\\_ridge.py:196: UserWarning: Singular matrix in solving dual problem. Using least-squares solution instead.\n",
      "  warnings.warn(\n",
      "E:\\Data_Science\\Anaconda\\lib\\site-packages\\sklearn\\linear_model\\_ridge.py:196: UserWarning: Singular matrix in solving dual problem. Using least-squares solution instead.\n",
      "  warnings.warn(\n",
      "E:\\Data_Science\\Anaconda\\lib\\site-packages\\sklearn\\linear_model\\_ridge.py:196: UserWarning: Singular matrix in solving dual problem. Using least-squares solution instead.\n",
      "  warnings.warn(\n",
      "E:\\Data_Science\\Anaconda\\lib\\site-packages\\sklearn\\linear_model\\_ridge.py:196: UserWarning: Singular matrix in solving dual problem. Using least-squares solution instead.\n",
      "  warnings.warn(\n",
      "E:\\Data_Science\\Anaconda\\lib\\site-packages\\sklearn\\linear_model\\_ridge.py:196: UserWarning: Singular matrix in solving dual problem. Using least-squares solution instead.\n",
      "  warnings.warn(\n",
      "E:\\Data_Science\\Anaconda\\lib\\site-packages\\sklearn\\linear_model\\_ridge.py:196: UserWarning: Singular matrix in solving dual problem. Using least-squares solution instead.\n",
      "  warnings.warn(\n",
      "E:\\Data_Science\\Anaconda\\lib\\site-packages\\sklearn\\linear_model\\_ridge.py:196: UserWarning: Singular matrix in solving dual problem. Using least-squares solution instead.\n",
      "  warnings.warn(\n",
      "E:\\Data_Science\\Anaconda\\lib\\site-packages\\sklearn\\linear_model\\_ridge.py:196: UserWarning: Singular matrix in solving dual problem. Using least-squares solution instead.\n",
      "  warnings.warn(\n",
      "E:\\Data_Science\\Anaconda\\lib\\site-packages\\sklearn\\linear_model\\_ridge.py:196: UserWarning: Singular matrix in solving dual problem. Using least-squares solution instead.\n",
      "  warnings.warn(\n",
      "E:\\Data_Science\\Anaconda\\lib\\site-packages\\sklearn\\linear_model\\_ridge.py:196: UserWarning: Singular matrix in solving dual problem. Using least-squares solution instead.\n",
      "  warnings.warn(\n",
      "E:\\Data_Science\\Anaconda\\lib\\site-packages\\sklearn\\linear_model\\_ridge.py:196: UserWarning: Singular matrix in solving dual problem. Using least-squares solution instead.\n",
      "  warnings.warn(\n",
      "E:\\Data_Science\\Anaconda\\lib\\site-packages\\sklearn\\linear_model\\_ridge.py:196: UserWarning: Singular matrix in solving dual problem. Using least-squares solution instead.\n",
      "  warnings.warn(\n",
      "E:\\Data_Science\\Anaconda\\lib\\site-packages\\sklearn\\linear_model\\_ridge.py:196: UserWarning: Singular matrix in solving dual problem. Using least-squares solution instead.\n",
      "  warnings.warn(\n",
      "E:\\Data_Science\\Anaconda\\lib\\site-packages\\sklearn\\linear_model\\_ridge.py:196: UserWarning: Singular matrix in solving dual problem. Using least-squares solution instead.\n",
      "  warnings.warn(\n",
      "E:\\Data_Science\\Anaconda\\lib\\site-packages\\sklearn\\linear_model\\_ridge.py:196: UserWarning: Singular matrix in solving dual problem. Using least-squares solution instead.\n",
      "  warnings.warn(\n",
      "E:\\Data_Science\\Anaconda\\lib\\site-packages\\sklearn\\linear_model\\_ridge.py:196: UserWarning: Singular matrix in solving dual problem. Using least-squares solution instead.\n",
      "  warnings.warn(\n",
      "E:\\Data_Science\\Anaconda\\lib\\site-packages\\sklearn\\linear_model\\_ridge.py:196: UserWarning: Singular matrix in solving dual problem. Using least-squares solution instead.\n",
      "  warnings.warn(\n",
      "E:\\Data_Science\\Anaconda\\lib\\site-packages\\sklearn\\linear_model\\_ridge.py:196: UserWarning: Singular matrix in solving dual problem. Using least-squares solution instead.\n",
      "  warnings.warn(\n",
      "E:\\Data_Science\\Anaconda\\lib\\site-packages\\sklearn\\linear_model\\_ridge.py:196: UserWarning: Singular matrix in solving dual problem. Using least-squares solution instead.\n",
      "  warnings.warn(\n",
      "E:\\Data_Science\\Anaconda\\lib\\site-packages\\sklearn\\linear_model\\_ridge.py:196: UserWarning: Singular matrix in solving dual problem. Using least-squares solution instead.\n",
      "  warnings.warn(\n",
      "E:\\Data_Science\\Anaconda\\lib\\site-packages\\sklearn\\linear_model\\_ridge.py:196: UserWarning: Singular matrix in solving dual problem. Using least-squares solution instead.\n",
      "  warnings.warn(\n",
      "E:\\Data_Science\\Anaconda\\lib\\site-packages\\sklearn\\linear_model\\_ridge.py:196: UserWarning: Singular matrix in solving dual problem. Using least-squares solution instead.\n",
      "  warnings.warn(\n",
      "E:\\Data_Science\\Anaconda\\lib\\site-packages\\sklearn\\linear_model\\_ridge.py:196: UserWarning: Singular matrix in solving dual problem. Using least-squares solution instead.\n",
      "  warnings.warn(\n",
      "E:\\Data_Science\\Anaconda\\lib\\site-packages\\sklearn\\linear_model\\_ridge.py:196: UserWarning: Singular matrix in solving dual problem. Using least-squares solution instead.\n",
      "  warnings.warn(\n",
      "E:\\Data_Science\\Anaconda\\lib\\site-packages\\sklearn\\linear_model\\_ridge.py:196: UserWarning: Singular matrix in solving dual problem. Using least-squares solution instead.\n",
      "  warnings.warn(\n",
      "E:\\Data_Science\\Anaconda\\lib\\site-packages\\sklearn\\linear_model\\_ridge.py:196: UserWarning: Singular matrix in solving dual problem. Using least-squares solution instead.\n",
      "  warnings.warn(\n",
      "E:\\Data_Science\\Anaconda\\lib\\site-packages\\sklearn\\linear_model\\_ridge.py:196: UserWarning: Singular matrix in solving dual problem. Using least-squares solution instead.\n",
      "  warnings.warn(\n",
      "E:\\Data_Science\\Anaconda\\lib\\site-packages\\sklearn\\linear_model\\_ridge.py:196: UserWarning: Singular matrix in solving dual problem. Using least-squares solution instead.\n",
      "  warnings.warn(\n",
      "E:\\Data_Science\\Anaconda\\lib\\site-packages\\sklearn\\linear_model\\_ridge.py:196: UserWarning: Singular matrix in solving dual problem. Using least-squares solution instead.\n",
      "  warnings.warn(\n",
      "E:\\Data_Science\\Anaconda\\lib\\site-packages\\sklearn\\linear_model\\_ridge.py:196: UserWarning: Singular matrix in solving dual problem. Using least-squares solution instead.\n",
      "  warnings.warn(\n",
      "E:\\Data_Science\\Anaconda\\lib\\site-packages\\sklearn\\linear_model\\_ridge.py:196: UserWarning: Singular matrix in solving dual problem. Using least-squares solution instead.\n",
      "  warnings.warn(\n",
      "E:\\Data_Science\\Anaconda\\lib\\site-packages\\sklearn\\linear_model\\_ridge.py:196: UserWarning: Singular matrix in solving dual problem. Using least-squares solution instead.\n",
      "  warnings.warn(\n",
      "E:\\Data_Science\\Anaconda\\lib\\site-packages\\sklearn\\linear_model\\_ridge.py:196: UserWarning: Singular matrix in solving dual problem. Using least-squares solution instead.\n",
      "  warnings.warn(\n",
      "E:\\Data_Science\\Anaconda\\lib\\site-packages\\sklearn\\linear_model\\_ridge.py:196: UserWarning: Singular matrix in solving dual problem. Using least-squares solution instead.\n",
      "  warnings.warn(\n",
      "E:\\Data_Science\\Anaconda\\lib\\site-packages\\sklearn\\linear_model\\_ridge.py:196: UserWarning: Singular matrix in solving dual problem. Using least-squares solution instead.\n",
      "  warnings.warn(\n",
      "E:\\Data_Science\\Anaconda\\lib\\site-packages\\sklearn\\linear_model\\_ridge.py:196: UserWarning: Singular matrix in solving dual problem. Using least-squares solution instead.\n",
      "  warnings.warn(\n",
      "E:\\Data_Science\\Anaconda\\lib\\site-packages\\sklearn\\linear_model\\_ridge.py:196: UserWarning: Singular matrix in solving dual problem. Using least-squares solution instead.\n",
      "  warnings.warn(\n",
      "E:\\Data_Science\\Anaconda\\lib\\site-packages\\sklearn\\linear_model\\_ridge.py:196: UserWarning: Singular matrix in solving dual problem. Using least-squares solution instead.\n",
      "  warnings.warn(\n",
      "E:\\Data_Science\\Anaconda\\lib\\site-packages\\sklearn\\linear_model\\_ridge.py:196: UserWarning: Singular matrix in solving dual problem. Using least-squares solution instead.\n",
      "  warnings.warn(\n",
      "E:\\Data_Science\\Anaconda\\lib\\site-packages\\sklearn\\linear_model\\_ridge.py:196: UserWarning: Singular matrix in solving dual problem. Using least-squares solution instead.\n",
      "  warnings.warn(\n",
      "E:\\Data_Science\\Anaconda\\lib\\site-packages\\sklearn\\linear_model\\_ridge.py:196: UserWarning: Singular matrix in solving dual problem. Using least-squares solution instead.\n",
      "  warnings.warn(\n",
      "E:\\Data_Science\\Anaconda\\lib\\site-packages\\sklearn\\linear_model\\_ridge.py:196: UserWarning: Singular matrix in solving dual problem. Using least-squares solution instead.\n",
      "  warnings.warn(\n",
      "E:\\Data_Science\\Anaconda\\lib\\site-packages\\sklearn\\linear_model\\_ridge.py:196: UserWarning: Singular matrix in solving dual problem. Using least-squares solution instead.\n",
      "  warnings.warn(\n",
      "E:\\Data_Science\\Anaconda\\lib\\site-packages\\sklearn\\linear_model\\_ridge.py:196: UserWarning: Singular matrix in solving dual problem. Using least-squares solution instead.\n",
      "  warnings.warn(\n",
      "E:\\Data_Science\\Anaconda\\lib\\site-packages\\sklearn\\linear_model\\_ridge.py:196: UserWarning: Singular matrix in solving dual problem. Using least-squares solution instead.\n",
      "  warnings.warn(\n",
      "E:\\Data_Science\\Anaconda\\lib\\site-packages\\sklearn\\linear_model\\_ridge.py:196: UserWarning: Singular matrix in solving dual problem. Using least-squares solution instead.\n",
      "  warnings.warn(\n",
      "E:\\Data_Science\\Anaconda\\lib\\site-packages\\sklearn\\linear_model\\_ridge.py:194: LinAlgWarning: Ill-conditioned matrix (rcond=5.27359e-17): result may not be accurate.\n",
      "  dual_coef = linalg.solve(K, y, sym_pos=True, overwrite_a=False)\n",
      "E:\\Data_Science\\Anaconda\\lib\\site-packages\\sklearn\\linear_model\\_ridge.py:196: UserWarning: Singular matrix in solving dual problem. Using least-squares solution instead.\n",
      "  warnings.warn(\n",
      "E:\\Data_Science\\Anaconda\\lib\\site-packages\\sklearn\\linear_model\\_ridge.py:196: UserWarning: Singular matrix in solving dual problem. Using least-squares solution instead.\n",
      "  warnings.warn(\n",
      "E:\\Data_Science\\Anaconda\\lib\\site-packages\\sklearn\\linear_model\\_ridge.py:196: UserWarning: Singular matrix in solving dual problem. Using least-squares solution instead.\n",
      "  warnings.warn(\n",
      "E:\\Data_Science\\Anaconda\\lib\\site-packages\\sklearn\\linear_model\\_ridge.py:194: LinAlgWarning: Ill-conditioned matrix (rcond=8.27589e-17): result may not be accurate.\n",
      "  dual_coef = linalg.solve(K, y, sym_pos=True, overwrite_a=False)\n",
      "E:\\Data_Science\\Anaconda\\lib\\site-packages\\sklearn\\linear_model\\_ridge.py:194: LinAlgWarning: Ill-conditioned matrix (rcond=2.97523e-17): result may not be accurate.\n",
      "  dual_coef = linalg.solve(K, y, sym_pos=True, overwrite_a=False)\n",
      "E:\\Data_Science\\Anaconda\\lib\\site-packages\\sklearn\\linear_model\\_ridge.py:196: UserWarning: Singular matrix in solving dual problem. Using least-squares solution instead.\n",
      "  warnings.warn(\n",
      "E:\\Data_Science\\Anaconda\\lib\\site-packages\\sklearn\\linear_model\\_ridge.py:196: UserWarning: Singular matrix in solving dual problem. Using least-squares solution instead.\n",
      "  warnings.warn(\n",
      "E:\\Data_Science\\Anaconda\\lib\\site-packages\\sklearn\\linear_model\\_ridge.py:196: UserWarning: Singular matrix in solving dual problem. Using least-squares solution instead.\n",
      "  warnings.warn(\n",
      "E:\\Data_Science\\Anaconda\\lib\\site-packages\\sklearn\\linear_model\\_ridge.py:194: LinAlgWarning: Ill-conditioned matrix (rcond=7.96132e-17): result may not be accurate.\n",
      "  dual_coef = linalg.solve(K, y, sym_pos=True, overwrite_a=False)\n",
      "E:\\Data_Science\\Anaconda\\lib\\site-packages\\sklearn\\linear_model\\_ridge.py:194: LinAlgWarning: Ill-conditioned matrix (rcond=2.84506e-17): result may not be accurate.\n",
      "  dual_coef = linalg.solve(K, y, sym_pos=True, overwrite_a=False)\n",
      "E:\\Data_Science\\Anaconda\\lib\\site-packages\\sklearn\\linear_model\\_ridge.py:196: UserWarning: Singular matrix in solving dual problem. Using least-squares solution instead.\n",
      "  warnings.warn(\n",
      "E:\\Data_Science\\Anaconda\\lib\\site-packages\\sklearn\\linear_model\\_ridge.py:196: UserWarning: Singular matrix in solving dual problem. Using least-squares solution instead.\n",
      "  warnings.warn(\n",
      "E:\\Data_Science\\Anaconda\\lib\\site-packages\\sklearn\\linear_model\\_ridge.py:196: UserWarning: Singular matrix in solving dual problem. Using least-squares solution instead.\n",
      "  warnings.warn(\n",
      "E:\\Data_Science\\Anaconda\\lib\\site-packages\\sklearn\\linear_model\\_ridge.py:194: LinAlgWarning: Ill-conditioned matrix (rcond=7.84666e-17): result may not be accurate.\n",
      "  dual_coef = linalg.solve(K, y, sym_pos=True, overwrite_a=False)\n",
      "E:\\Data_Science\\Anaconda\\lib\\site-packages\\sklearn\\linear_model\\_ridge.py:194: LinAlgWarning: Ill-conditioned matrix (rcond=2.80526e-17): result may not be accurate.\n",
      "  dual_coef = linalg.solve(K, y, sym_pos=True, overwrite_a=False)\n",
      "E:\\Data_Science\\Anaconda\\lib\\site-packages\\sklearn\\linear_model\\_ridge.py:196: UserWarning: Singular matrix in solving dual problem. Using least-squares solution instead.\n",
      "  warnings.warn(\n",
      "E:\\Data_Science\\Anaconda\\lib\\site-packages\\sklearn\\linear_model\\_ridge.py:196: UserWarning: Singular matrix in solving dual problem. Using least-squares solution instead.\n",
      "  warnings.warn(\n",
      "E:\\Data_Science\\Anaconda\\lib\\site-packages\\sklearn\\linear_model\\_ridge.py:196: UserWarning: Singular matrix in solving dual problem. Using least-squares solution instead.\n",
      "  warnings.warn(\n",
      "E:\\Data_Science\\Anaconda\\lib\\site-packages\\sklearn\\linear_model\\_ridge.py:194: LinAlgWarning: Ill-conditioned matrix (rcond=7.79441e-17): result may not be accurate.\n",
      "  dual_coef = linalg.solve(K, y, sym_pos=True, overwrite_a=False)\n",
      "E:\\Data_Science\\Anaconda\\lib\\site-packages\\sklearn\\linear_model\\_ridge.py:194: LinAlgWarning: Ill-conditioned matrix (rcond=2.78734e-17): result may not be accurate.\n",
      "  dual_coef = linalg.solve(K, y, sym_pos=True, overwrite_a=False)\n",
      "E:\\Data_Science\\Anaconda\\lib\\site-packages\\sklearn\\linear_model\\_ridge.py:196: UserWarning: Singular matrix in solving dual problem. Using least-squares solution instead.\n",
      "  warnings.warn(\n",
      "E:\\Data_Science\\Anaconda\\lib\\site-packages\\sklearn\\linear_model\\_ridge.py:196: UserWarning: Singular matrix in solving dual problem. Using least-squares solution instead.\n",
      "  warnings.warn(\n",
      "E:\\Data_Science\\Anaconda\\lib\\site-packages\\sklearn\\linear_model\\_ridge.py:196: UserWarning: Singular matrix in solving dual problem. Using least-squares solution instead.\n",
      "  warnings.warn(\n",
      "E:\\Data_Science\\Anaconda\\lib\\site-packages\\sklearn\\linear_model\\_ridge.py:196: UserWarning: Singular matrix in solving dual problem. Using least-squares solution instead.\n",
      "  warnings.warn(\n",
      "E:\\Data_Science\\Anaconda\\lib\\site-packages\\sklearn\\linear_model\\_ridge.py:196: UserWarning: Singular matrix in solving dual problem. Using least-squares solution instead.\n",
      "  warnings.warn(\n",
      "E:\\Data_Science\\Anaconda\\lib\\site-packages\\sklearn\\linear_model\\_ridge.py:196: UserWarning: Singular matrix in solving dual problem. Using least-squares solution instead.\n",
      "  warnings.warn(\n",
      "E:\\Data_Science\\Anaconda\\lib\\site-packages\\sklearn\\linear_model\\_ridge.py:196: UserWarning: Singular matrix in solving dual problem. Using least-squares solution instead.\n",
      "  warnings.warn(\n",
      "E:\\Data_Science\\Anaconda\\lib\\site-packages\\sklearn\\linear_model\\_ridge.py:196: UserWarning: Singular matrix in solving dual problem. Using least-squares solution instead.\n",
      "  warnings.warn(\n",
      "E:\\Data_Science\\Anaconda\\lib\\site-packages\\sklearn\\linear_model\\_ridge.py:196: UserWarning: Singular matrix in solving dual problem. Using least-squares solution instead.\n",
      "  warnings.warn(\n",
      "E:\\Data_Science\\Anaconda\\lib\\site-packages\\sklearn\\linear_model\\_ridge.py:196: UserWarning: Singular matrix in solving dual problem. Using least-squares solution instead.\n",
      "  warnings.warn(\n",
      "E:\\Data_Science\\Anaconda\\lib\\site-packages\\sklearn\\linear_model\\_ridge.py:196: UserWarning: Singular matrix in solving dual problem. Using least-squares solution instead.\n",
      "  warnings.warn(\n",
      "E:\\Data_Science\\Anaconda\\lib\\site-packages\\sklearn\\linear_model\\_ridge.py:196: UserWarning: Singular matrix in solving dual problem. Using least-squares solution instead.\n",
      "  warnings.warn(\n",
      "E:\\Data_Science\\Anaconda\\lib\\site-packages\\sklearn\\linear_model\\_ridge.py:196: UserWarning: Singular matrix in solving dual problem. Using least-squares solution instead.\n",
      "  warnings.warn(\n",
      "E:\\Data_Science\\Anaconda\\lib\\site-packages\\sklearn\\linear_model\\_ridge.py:196: UserWarning: Singular matrix in solving dual problem. Using least-squares solution instead.\n",
      "  warnings.warn(\n",
      "E:\\Data_Science\\Anaconda\\lib\\site-packages\\sklearn\\linear_model\\_ridge.py:196: UserWarning: Singular matrix in solving dual problem. Using least-squares solution instead.\n",
      "  warnings.warn(\n",
      "E:\\Data_Science\\Anaconda\\lib\\site-packages\\sklearn\\linear_model\\_ridge.py:196: UserWarning: Singular matrix in solving dual problem. Using least-squares solution instead.\n",
      "  warnings.warn(\n",
      "E:\\Data_Science\\Anaconda\\lib\\site-packages\\sklearn\\linear_model\\_ridge.py:196: UserWarning: Singular matrix in solving dual problem. Using least-squares solution instead.\n",
      "  warnings.warn(\n",
      "E:\\Data_Science\\Anaconda\\lib\\site-packages\\sklearn\\linear_model\\_ridge.py:196: UserWarning: Singular matrix in solving dual problem. Using least-squares solution instead.\n",
      "  warnings.warn(\n",
      "E:\\Data_Science\\Anaconda\\lib\\site-packages\\sklearn\\linear_model\\_ridge.py:196: UserWarning: Singular matrix in solving dual problem. Using least-squares solution instead.\n",
      "  warnings.warn(\n",
      "E:\\Data_Science\\Anaconda\\lib\\site-packages\\sklearn\\linear_model\\_ridge.py:196: UserWarning: Singular matrix in solving dual problem. Using least-squares solution instead.\n",
      "  warnings.warn(\n",
      "E:\\Data_Science\\Anaconda\\lib\\site-packages\\sklearn\\linear_model\\_ridge.py:196: UserWarning: Singular matrix in solving dual problem. Using least-squares solution instead.\n",
      "  warnings.warn(\n",
      "E:\\Data_Science\\Anaconda\\lib\\site-packages\\sklearn\\linear_model\\_ridge.py:196: UserWarning: Singular matrix in solving dual problem. Using least-squares solution instead.\n",
      "  warnings.warn(\n",
      "E:\\Data_Science\\Anaconda\\lib\\site-packages\\sklearn\\linear_model\\_ridge.py:196: UserWarning: Singular matrix in solving dual problem. Using least-squares solution instead.\n",
      "  warnings.warn(\n",
      "E:\\Data_Science\\Anaconda\\lib\\site-packages\\sklearn\\linear_model\\_ridge.py:196: UserWarning: Singular matrix in solving dual problem. Using least-squares solution instead.\n",
      "  warnings.warn(\n",
      "E:\\Data_Science\\Anaconda\\lib\\site-packages\\sklearn\\linear_model\\_ridge.py:196: UserWarning: Singular matrix in solving dual problem. Using least-squares solution instead.\n",
      "  warnings.warn(\n",
      "E:\\Data_Science\\Anaconda\\lib\\site-packages\\sklearn\\linear_model\\_ridge.py:196: UserWarning: Singular matrix in solving dual problem. Using least-squares solution instead.\n",
      "  warnings.warn(\n",
      "E:\\Data_Science\\Anaconda\\lib\\site-packages\\sklearn\\linear_model\\_ridge.py:196: UserWarning: Singular matrix in solving dual problem. Using least-squares solution instead.\n",
      "  warnings.warn(\n",
      "E:\\Data_Science\\Anaconda\\lib\\site-packages\\sklearn\\linear_model\\_ridge.py:196: UserWarning: Singular matrix in solving dual problem. Using least-squares solution instead.\n",
      "  warnings.warn(\n",
      "E:\\Data_Science\\Anaconda\\lib\\site-packages\\sklearn\\linear_model\\_ridge.py:196: UserWarning: Singular matrix in solving dual problem. Using least-squares solution instead.\n",
      "  warnings.warn(\n",
      "E:\\Data_Science\\Anaconda\\lib\\site-packages\\sklearn\\linear_model\\_ridge.py:196: UserWarning: Singular matrix in solving dual problem. Using least-squares solution instead.\n",
      "  warnings.warn(\n",
      "E:\\Data_Science\\Anaconda\\lib\\site-packages\\sklearn\\linear_model\\_ridge.py:196: UserWarning: Singular matrix in solving dual problem. Using least-squares solution instead.\n",
      "  warnings.warn(\n",
      "E:\\Data_Science\\Anaconda\\lib\\site-packages\\sklearn\\linear_model\\_ridge.py:196: UserWarning: Singular matrix in solving dual problem. Using least-squares solution instead.\n",
      "  warnings.warn(\n",
      "E:\\Data_Science\\Anaconda\\lib\\site-packages\\sklearn\\linear_model\\_ridge.py:196: UserWarning: Singular matrix in solving dual problem. Using least-squares solution instead.\n",
      "  warnings.warn(\n",
      "E:\\Data_Science\\Anaconda\\lib\\site-packages\\sklearn\\linear_model\\_ridge.py:196: UserWarning: Singular matrix in solving dual problem. Using least-squares solution instead.\n",
      "  warnings.warn(\n",
      "E:\\Data_Science\\Anaconda\\lib\\site-packages\\sklearn\\linear_model\\_ridge.py:196: UserWarning: Singular matrix in solving dual problem. Using least-squares solution instead.\n",
      "  warnings.warn(\n",
      "E:\\Data_Science\\Anaconda\\lib\\site-packages\\sklearn\\linear_model\\_ridge.py:196: UserWarning: Singular matrix in solving dual problem. Using least-squares solution instead.\n",
      "  warnings.warn(\n",
      "E:\\Data_Science\\Anaconda\\lib\\site-packages\\sklearn\\linear_model\\_ridge.py:196: UserWarning: Singular matrix in solving dual problem. Using least-squares solution instead.\n",
      "  warnings.warn(\n",
      "E:\\Data_Science\\Anaconda\\lib\\site-packages\\sklearn\\linear_model\\_ridge.py:196: UserWarning: Singular matrix in solving dual problem. Using least-squares solution instead.\n",
      "  warnings.warn(\n",
      "E:\\Data_Science\\Anaconda\\lib\\site-packages\\sklearn\\linear_model\\_ridge.py:196: UserWarning: Singular matrix in solving dual problem. Using least-squares solution instead.\n",
      "  warnings.warn(\n",
      "E:\\Data_Science\\Anaconda\\lib\\site-packages\\sklearn\\linear_model\\_ridge.py:196: UserWarning: Singular matrix in solving dual problem. Using least-squares solution instead.\n",
      "  warnings.warn(\n",
      "E:\\Data_Science\\Anaconda\\lib\\site-packages\\sklearn\\linear_model\\_ridge.py:196: UserWarning: Singular matrix in solving dual problem. Using least-squares solution instead.\n",
      "  warnings.warn(\n",
      "E:\\Data_Science\\Anaconda\\lib\\site-packages\\sklearn\\linear_model\\_ridge.py:196: UserWarning: Singular matrix in solving dual problem. Using least-squares solution instead.\n",
      "  warnings.warn(\n",
      "E:\\Data_Science\\Anaconda\\lib\\site-packages\\sklearn\\linear_model\\_ridge.py:196: UserWarning: Singular matrix in solving dual problem. Using least-squares solution instead.\n",
      "  warnings.warn(\n",
      "E:\\Data_Science\\Anaconda\\lib\\site-packages\\sklearn\\linear_model\\_ridge.py:196: UserWarning: Singular matrix in solving dual problem. Using least-squares solution instead.\n",
      "  warnings.warn(\n",
      "E:\\Data_Science\\Anaconda\\lib\\site-packages\\sklearn\\linear_model\\_ridge.py:196: UserWarning: Singular matrix in solving dual problem. Using least-squares solution instead.\n",
      "  warnings.warn(\n",
      "E:\\Data_Science\\Anaconda\\lib\\site-packages\\sklearn\\linear_model\\_ridge.py:196: UserWarning: Singular matrix in solving dual problem. Using least-squares solution instead.\n",
      "  warnings.warn(\n",
      "E:\\Data_Science\\Anaconda\\lib\\site-packages\\sklearn\\linear_model\\_ridge.py:196: UserWarning: Singular matrix in solving dual problem. Using least-squares solution instead.\n",
      "  warnings.warn(\n",
      "E:\\Data_Science\\Anaconda\\lib\\site-packages\\sklearn\\linear_model\\_ridge.py:196: UserWarning: Singular matrix in solving dual problem. Using least-squares solution instead.\n",
      "  warnings.warn(\n",
      "E:\\Data_Science\\Anaconda\\lib\\site-packages\\sklearn\\linear_model\\_ridge.py:196: UserWarning: Singular matrix in solving dual problem. Using least-squares solution instead.\n",
      "  warnings.warn(\n",
      "E:\\Data_Science\\Anaconda\\lib\\site-packages\\sklearn\\linear_model\\_ridge.py:196: UserWarning: Singular matrix in solving dual problem. Using least-squares solution instead.\n",
      "  warnings.warn(\n",
      "E:\\Data_Science\\Anaconda\\lib\\site-packages\\sklearn\\linear_model\\_ridge.py:196: UserWarning: Singular matrix in solving dual problem. Using least-squares solution instead.\n",
      "  warnings.warn(\n",
      "E:\\Data_Science\\Anaconda\\lib\\site-packages\\sklearn\\linear_model\\_ridge.py:196: UserWarning: Singular matrix in solving dual problem. Using least-squares solution instead.\n",
      "  warnings.warn(\n",
      "E:\\Data_Science\\Anaconda\\lib\\site-packages\\sklearn\\linear_model\\_ridge.py:196: UserWarning: Singular matrix in solving dual problem. Using least-squares solution instead.\n",
      "  warnings.warn(\n",
      "E:\\Data_Science\\Anaconda\\lib\\site-packages\\sklearn\\linear_model\\_ridge.py:196: UserWarning: Singular matrix in solving dual problem. Using least-squares solution instead.\n",
      "  warnings.warn(\n",
      "E:\\Data_Science\\Anaconda\\lib\\site-packages\\sklearn\\linear_model\\_ridge.py:196: UserWarning: Singular matrix in solving dual problem. Using least-squares solution instead.\n",
      "  warnings.warn(\n",
      "E:\\Data_Science\\Anaconda\\lib\\site-packages\\sklearn\\linear_model\\_ridge.py:196: UserWarning: Singular matrix in solving dual problem. Using least-squares solution instead.\n",
      "  warnings.warn(\n",
      "E:\\Data_Science\\Anaconda\\lib\\site-packages\\sklearn\\linear_model\\_ridge.py:196: UserWarning: Singular matrix in solving dual problem. Using least-squares solution instead.\n",
      "  warnings.warn(\n",
      "E:\\Data_Science\\Anaconda\\lib\\site-packages\\sklearn\\linear_model\\_ridge.py:196: UserWarning: Singular matrix in solving dual problem. Using least-squares solution instead.\n",
      "  warnings.warn(\n",
      "E:\\Data_Science\\Anaconda\\lib\\site-packages\\sklearn\\linear_model\\_ridge.py:196: UserWarning: Singular matrix in solving dual problem. Using least-squares solution instead.\n",
      "  warnings.warn(\n",
      "E:\\Data_Science\\Anaconda\\lib\\site-packages\\sklearn\\linear_model\\_ridge.py:196: UserWarning: Singular matrix in solving dual problem. Using least-squares solution instead.\n",
      "  warnings.warn(\n",
      "E:\\Data_Science\\Anaconda\\lib\\site-packages\\sklearn\\linear_model\\_ridge.py:196: UserWarning: Singular matrix in solving dual problem. Using least-squares solution instead.\n",
      "  warnings.warn(\n",
      "E:\\Data_Science\\Anaconda\\lib\\site-packages\\sklearn\\linear_model\\_ridge.py:196: UserWarning: Singular matrix in solving dual problem. Using least-squares solution instead.\n",
      "  warnings.warn(\n",
      "E:\\Data_Science\\Anaconda\\lib\\site-packages\\sklearn\\linear_model\\_ridge.py:196: UserWarning: Singular matrix in solving dual problem. Using least-squares solution instead.\n",
      "  warnings.warn(\n",
      "E:\\Data_Science\\Anaconda\\lib\\site-packages\\sklearn\\linear_model\\_ridge.py:196: UserWarning: Singular matrix in solving dual problem. Using least-squares solution instead.\n",
      "  warnings.warn(\n",
      "E:\\Data_Science\\Anaconda\\lib\\site-packages\\sklearn\\linear_model\\_ridge.py:196: UserWarning: Singular matrix in solving dual problem. Using least-squares solution instead.\n",
      "  warnings.warn(\n",
      "E:\\Data_Science\\Anaconda\\lib\\site-packages\\sklearn\\linear_model\\_ridge.py:196: UserWarning: Singular matrix in solving dual problem. Using least-squares solution instead.\n",
      "  warnings.warn(\n",
      "E:\\Data_Science\\Anaconda\\lib\\site-packages\\sklearn\\linear_model\\_ridge.py:196: UserWarning: Singular matrix in solving dual problem. Using least-squares solution instead.\n",
      "  warnings.warn(\n",
      "E:\\Data_Science\\Anaconda\\lib\\site-packages\\sklearn\\linear_model\\_ridge.py:196: UserWarning: Singular matrix in solving dual problem. Using least-squares solution instead.\n",
      "  warnings.warn(\n",
      "E:\\Data_Science\\Anaconda\\lib\\site-packages\\sklearn\\linear_model\\_ridge.py:196: UserWarning: Singular matrix in solving dual problem. Using least-squares solution instead.\n",
      "  warnings.warn(\n",
      "E:\\Data_Science\\Anaconda\\lib\\site-packages\\sklearn\\linear_model\\_ridge.py:194: LinAlgWarning: Ill-conditioned matrix (rcond=8.55193e-17): result may not be accurate.\n",
      "  dual_coef = linalg.solve(K, y, sym_pos=True, overwrite_a=False)\n",
      "E:\\Data_Science\\Anaconda\\lib\\site-packages\\sklearn\\linear_model\\_ridge.py:194: LinAlgWarning: Ill-conditioned matrix (rcond=3.16124e-17): result may not be accurate.\n",
      "  dual_coef = linalg.solve(K, y, sym_pos=True, overwrite_a=False)\n",
      "E:\\Data_Science\\Anaconda\\lib\\site-packages\\sklearn\\linear_model\\_ridge.py:196: UserWarning: Singular matrix in solving dual problem. Using least-squares solution instead.\n",
      "  warnings.warn(\n",
      "E:\\Data_Science\\Anaconda\\lib\\site-packages\\sklearn\\linear_model\\_ridge.py:196: UserWarning: Singular matrix in solving dual problem. Using least-squares solution instead.\n",
      "  warnings.warn(\n",
      "E:\\Data_Science\\Anaconda\\lib\\site-packages\\sklearn\\linear_model\\_ridge.py:196: UserWarning: Singular matrix in solving dual problem. Using least-squares solution instead.\n",
      "  warnings.warn(\n",
      "E:\\Data_Science\\Anaconda\\lib\\site-packages\\sklearn\\linear_model\\_ridge.py:194: LinAlgWarning: Ill-conditioned matrix (rcond=7.96727e-17): result may not be accurate.\n",
      "  dual_coef = linalg.solve(K, y, sym_pos=True, overwrite_a=False)\n",
      "E:\\Data_Science\\Anaconda\\lib\\site-packages\\sklearn\\linear_model\\_ridge.py:194: LinAlgWarning: Ill-conditioned matrix (rcond=2.84907e-17): result may not be accurate.\n",
      "  dual_coef = linalg.solve(K, y, sym_pos=True, overwrite_a=False)\n",
      "E:\\Data_Science\\Anaconda\\lib\\site-packages\\sklearn\\linear_model\\_ridge.py:196: UserWarning: Singular matrix in solving dual problem. Using least-squares solution instead.\n",
      "  warnings.warn(\n",
      "E:\\Data_Science\\Anaconda\\lib\\site-packages\\sklearn\\linear_model\\_ridge.py:196: UserWarning: Singular matrix in solving dual problem. Using least-squares solution instead.\n",
      "  warnings.warn(\n",
      "E:\\Data_Science\\Anaconda\\lib\\site-packages\\sklearn\\linear_model\\_ridge.py:196: UserWarning: Singular matrix in solving dual problem. Using least-squares solution instead.\n",
      "  warnings.warn(\n",
      "E:\\Data_Science\\Anaconda\\lib\\site-packages\\sklearn\\linear_model\\_ridge.py:194: LinAlgWarning: Ill-conditioned matrix (rcond=7.84679e-17): result may not be accurate.\n",
      "  dual_coef = linalg.solve(K, y, sym_pos=True, overwrite_a=False)\n",
      "E:\\Data_Science\\Anaconda\\lib\\site-packages\\sklearn\\linear_model\\_ridge.py:194: LinAlgWarning: Ill-conditioned matrix (rcond=2.80535e-17): result may not be accurate.\n",
      "  dual_coef = linalg.solve(K, y, sym_pos=True, overwrite_a=False)\n",
      "E:\\Data_Science\\Anaconda\\lib\\site-packages\\sklearn\\linear_model\\_ridge.py:196: UserWarning: Singular matrix in solving dual problem. Using least-squares solution instead.\n",
      "  warnings.warn(\n",
      "E:\\Data_Science\\Anaconda\\lib\\site-packages\\sklearn\\linear_model\\_ridge.py:196: UserWarning: Singular matrix in solving dual problem. Using least-squares solution instead.\n",
      "  warnings.warn(\n",
      "E:\\Data_Science\\Anaconda\\lib\\site-packages\\sklearn\\linear_model\\_ridge.py:196: UserWarning: Singular matrix in solving dual problem. Using least-squares solution instead.\n",
      "  warnings.warn(\n",
      "E:\\Data_Science\\Anaconda\\lib\\site-packages\\sklearn\\linear_model\\_ridge.py:194: LinAlgWarning: Ill-conditioned matrix (rcond=7.79441e-17): result may not be accurate.\n",
      "  dual_coef = linalg.solve(K, y, sym_pos=True, overwrite_a=False)\n",
      "E:\\Data_Science\\Anaconda\\lib\\site-packages\\sklearn\\linear_model\\_ridge.py:194: LinAlgWarning: Ill-conditioned matrix (rcond=2.78734e-17): result may not be accurate.\n",
      "  dual_coef = linalg.solve(K, y, sym_pos=True, overwrite_a=False)\n",
      "E:\\Data_Science\\Anaconda\\lib\\site-packages\\sklearn\\linear_model\\_ridge.py:196: UserWarning: Singular matrix in solving dual problem. Using least-squares solution instead.\n",
      "  warnings.warn(\n",
      "E:\\Data_Science\\Anaconda\\lib\\site-packages\\sklearn\\linear_model\\_ridge.py:196: UserWarning: Singular matrix in solving dual problem. Using least-squares solution instead.\n",
      "  warnings.warn(\n",
      "E:\\Data_Science\\Anaconda\\lib\\site-packages\\sklearn\\linear_model\\_ridge.py:196: UserWarning: Singular matrix in solving dual problem. Using least-squares solution instead.\n",
      "  warnings.warn(\n",
      "E:\\Data_Science\\Anaconda\\lib\\site-packages\\sklearn\\linear_model\\_ridge.py:196: UserWarning: Singular matrix in solving dual problem. Using least-squares solution instead.\n",
      "  warnings.warn(\n",
      "E:\\Data_Science\\Anaconda\\lib\\site-packages\\sklearn\\linear_model\\_ridge.py:196: UserWarning: Singular matrix in solving dual problem. Using least-squares solution instead.\n",
      "  warnings.warn(\n",
      "E:\\Data_Science\\Anaconda\\lib\\site-packages\\sklearn\\linear_model\\_ridge.py:196: UserWarning: Singular matrix in solving dual problem. Using least-squares solution instead.\n",
      "  warnings.warn(\n",
      "E:\\Data_Science\\Anaconda\\lib\\site-packages\\sklearn\\linear_model\\_ridge.py:196: UserWarning: Singular matrix in solving dual problem. Using least-squares solution instead.\n",
      "  warnings.warn(\n",
      "E:\\Data_Science\\Anaconda\\lib\\site-packages\\sklearn\\linear_model\\_ridge.py:196: UserWarning: Singular matrix in solving dual problem. Using least-squares solution instead.\n",
      "  warnings.warn(\n",
      "E:\\Data_Science\\Anaconda\\lib\\site-packages\\sklearn\\linear_model\\_ridge.py:196: UserWarning: Singular matrix in solving dual problem. Using least-squares solution instead.\n",
      "  warnings.warn(\n",
      "E:\\Data_Science\\Anaconda\\lib\\site-packages\\sklearn\\linear_model\\_ridge.py:196: UserWarning: Singular matrix in solving dual problem. Using least-squares solution instead.\n",
      "  warnings.warn(\n",
      "E:\\Data_Science\\Anaconda\\lib\\site-packages\\sklearn\\linear_model\\_ridge.py:196: UserWarning: Singular matrix in solving dual problem. Using least-squares solution instead.\n",
      "  warnings.warn(\n",
      "E:\\Data_Science\\Anaconda\\lib\\site-packages\\sklearn\\linear_model\\_ridge.py:196: UserWarning: Singular matrix in solving dual problem. Using least-squares solution instead.\n",
      "  warnings.warn(\n",
      "E:\\Data_Science\\Anaconda\\lib\\site-packages\\sklearn\\linear_model\\_ridge.py:196: UserWarning: Singular matrix in solving dual problem. Using least-squares solution instead.\n",
      "  warnings.warn(\n",
      "E:\\Data_Science\\Anaconda\\lib\\site-packages\\sklearn\\linear_model\\_ridge.py:196: UserWarning: Singular matrix in solving dual problem. Using least-squares solution instead.\n",
      "  warnings.warn(\n",
      "E:\\Data_Science\\Anaconda\\lib\\site-packages\\sklearn\\linear_model\\_ridge.py:196: UserWarning: Singular matrix in solving dual problem. Using least-squares solution instead.\n",
      "  warnings.warn(\n",
      "E:\\Data_Science\\Anaconda\\lib\\site-packages\\sklearn\\linear_model\\_ridge.py:196: UserWarning: Singular matrix in solving dual problem. Using least-squares solution instead.\n",
      "  warnings.warn(\n",
      "E:\\Data_Science\\Anaconda\\lib\\site-packages\\sklearn\\linear_model\\_ridge.py:196: UserWarning: Singular matrix in solving dual problem. Using least-squares solution instead.\n",
      "  warnings.warn(\n",
      "E:\\Data_Science\\Anaconda\\lib\\site-packages\\sklearn\\linear_model\\_ridge.py:196: UserWarning: Singular matrix in solving dual problem. Using least-squares solution instead.\n",
      "  warnings.warn(\n",
      "E:\\Data_Science\\Anaconda\\lib\\site-packages\\sklearn\\linear_model\\_ridge.py:196: UserWarning: Singular matrix in solving dual problem. Using least-squares solution instead.\n",
      "  warnings.warn(\n",
      "E:\\Data_Science\\Anaconda\\lib\\site-packages\\sklearn\\linear_model\\_ridge.py:196: UserWarning: Singular matrix in solving dual problem. Using least-squares solution instead.\n",
      "  warnings.warn(\n",
      "E:\\Data_Science\\Anaconda\\lib\\site-packages\\sklearn\\linear_model\\_ridge.py:196: UserWarning: Singular matrix in solving dual problem. Using least-squares solution instead.\n",
      "  warnings.warn(\n",
      "E:\\Data_Science\\Anaconda\\lib\\site-packages\\sklearn\\linear_model\\_ridge.py:196: UserWarning: Singular matrix in solving dual problem. Using least-squares solution instead.\n",
      "  warnings.warn(\n",
      "E:\\Data_Science\\Anaconda\\lib\\site-packages\\sklearn\\linear_model\\_ridge.py:196: UserWarning: Singular matrix in solving dual problem. Using least-squares solution instead.\n",
      "  warnings.warn(\n",
      "E:\\Data_Science\\Anaconda\\lib\\site-packages\\sklearn\\linear_model\\_ridge.py:196: UserWarning: Singular matrix in solving dual problem. Using least-squares solution instead.\n",
      "  warnings.warn(\n",
      "E:\\Data_Science\\Anaconda\\lib\\site-packages\\sklearn\\linear_model\\_ridge.py:196: UserWarning: Singular matrix in solving dual problem. Using least-squares solution instead.\n",
      "  warnings.warn(\n",
      "E:\\Data_Science\\Anaconda\\lib\\site-packages\\sklearn\\linear_model\\_ridge.py:196: UserWarning: Singular matrix in solving dual problem. Using least-squares solution instead.\n",
      "  warnings.warn(\n",
      "E:\\Data_Science\\Anaconda\\lib\\site-packages\\sklearn\\linear_model\\_ridge.py:196: UserWarning: Singular matrix in solving dual problem. Using least-squares solution instead.\n",
      "  warnings.warn(\n",
      "E:\\Data_Science\\Anaconda\\lib\\site-packages\\sklearn\\linear_model\\_ridge.py:196: UserWarning: Singular matrix in solving dual problem. Using least-squares solution instead.\n",
      "  warnings.warn(\n",
      "E:\\Data_Science\\Anaconda\\lib\\site-packages\\sklearn\\linear_model\\_ridge.py:196: UserWarning: Singular matrix in solving dual problem. Using least-squares solution instead.\n",
      "  warnings.warn(\n",
      "E:\\Data_Science\\Anaconda\\lib\\site-packages\\sklearn\\linear_model\\_ridge.py:196: UserWarning: Singular matrix in solving dual problem. Using least-squares solution instead.\n",
      "  warnings.warn(\n",
      "E:\\Data_Science\\Anaconda\\lib\\site-packages\\sklearn\\linear_model\\_ridge.py:196: UserWarning: Singular matrix in solving dual problem. Using least-squares solution instead.\n",
      "  warnings.warn(\n",
      "E:\\Data_Science\\Anaconda\\lib\\site-packages\\sklearn\\linear_model\\_ridge.py:196: UserWarning: Singular matrix in solving dual problem. Using least-squares solution instead.\n",
      "  warnings.warn(\n",
      "E:\\Data_Science\\Anaconda\\lib\\site-packages\\sklearn\\linear_model\\_ridge.py:196: UserWarning: Singular matrix in solving dual problem. Using least-squares solution instead.\n",
      "  warnings.warn(\n",
      "E:\\Data_Science\\Anaconda\\lib\\site-packages\\sklearn\\linear_model\\_ridge.py:196: UserWarning: Singular matrix in solving dual problem. Using least-squares solution instead.\n",
      "  warnings.warn(\n",
      "E:\\Data_Science\\Anaconda\\lib\\site-packages\\sklearn\\linear_model\\_ridge.py:196: UserWarning: Singular matrix in solving dual problem. Using least-squares solution instead.\n",
      "  warnings.warn(\n",
      "E:\\Data_Science\\Anaconda\\lib\\site-packages\\sklearn\\linear_model\\_ridge.py:196: UserWarning: Singular matrix in solving dual problem. Using least-squares solution instead.\n",
      "  warnings.warn(\n",
      "E:\\Data_Science\\Anaconda\\lib\\site-packages\\sklearn\\linear_model\\_ridge.py:196: UserWarning: Singular matrix in solving dual problem. Using least-squares solution instead.\n",
      "  warnings.warn(\n",
      "E:\\Data_Science\\Anaconda\\lib\\site-packages\\sklearn\\linear_model\\_ridge.py:196: UserWarning: Singular matrix in solving dual problem. Using least-squares solution instead.\n",
      "  warnings.warn(\n",
      "E:\\Data_Science\\Anaconda\\lib\\site-packages\\sklearn\\linear_model\\_ridge.py:196: UserWarning: Singular matrix in solving dual problem. Using least-squares solution instead.\n",
      "  warnings.warn(\n",
      "E:\\Data_Science\\Anaconda\\lib\\site-packages\\sklearn\\linear_model\\_ridge.py:196: UserWarning: Singular matrix in solving dual problem. Using least-squares solution instead.\n",
      "  warnings.warn(\n",
      "E:\\Data_Science\\Anaconda\\lib\\site-packages\\sklearn\\linear_model\\_ridge.py:196: UserWarning: Singular matrix in solving dual problem. Using least-squares solution instead.\n",
      "  warnings.warn(\n",
      "E:\\Data_Science\\Anaconda\\lib\\site-packages\\sklearn\\linear_model\\_ridge.py:196: UserWarning: Singular matrix in solving dual problem. Using least-squares solution instead.\n",
      "  warnings.warn(\n",
      "E:\\Data_Science\\Anaconda\\lib\\site-packages\\sklearn\\linear_model\\_ridge.py:196: UserWarning: Singular matrix in solving dual problem. Using least-squares solution instead.\n",
      "  warnings.warn(\n",
      "E:\\Data_Science\\Anaconda\\lib\\site-packages\\sklearn\\linear_model\\_ridge.py:196: UserWarning: Singular matrix in solving dual problem. Using least-squares solution instead.\n",
      "  warnings.warn(\n",
      "E:\\Data_Science\\Anaconda\\lib\\site-packages\\sklearn\\linear_model\\_ridge.py:196: UserWarning: Singular matrix in solving dual problem. Using least-squares solution instead.\n",
      "  warnings.warn(\n",
      "E:\\Data_Science\\Anaconda\\lib\\site-packages\\sklearn\\linear_model\\_ridge.py:196: UserWarning: Singular matrix in solving dual problem. Using least-squares solution instead.\n",
      "  warnings.warn(\n",
      "E:\\Data_Science\\Anaconda\\lib\\site-packages\\sklearn\\linear_model\\_ridge.py:196: UserWarning: Singular matrix in solving dual problem. Using least-squares solution instead.\n",
      "  warnings.warn(\n",
      "E:\\Data_Science\\Anaconda\\lib\\site-packages\\sklearn\\linear_model\\_ridge.py:196: UserWarning: Singular matrix in solving dual problem. Using least-squares solution instead.\n",
      "  warnings.warn(\n",
      "E:\\Data_Science\\Anaconda\\lib\\site-packages\\sklearn\\linear_model\\_ridge.py:196: UserWarning: Singular matrix in solving dual problem. Using least-squares solution instead.\n",
      "  warnings.warn(\n",
      "E:\\Data_Science\\Anaconda\\lib\\site-packages\\sklearn\\linear_model\\_ridge.py:196: UserWarning: Singular matrix in solving dual problem. Using least-squares solution instead.\n",
      "  warnings.warn(\n",
      "E:\\Data_Science\\Anaconda\\lib\\site-packages\\sklearn\\linear_model\\_ridge.py:196: UserWarning: Singular matrix in solving dual problem. Using least-squares solution instead.\n",
      "  warnings.warn(\n",
      "E:\\Data_Science\\Anaconda\\lib\\site-packages\\sklearn\\linear_model\\_ridge.py:196: UserWarning: Singular matrix in solving dual problem. Using least-squares solution instead.\n",
      "  warnings.warn(\n",
      "E:\\Data_Science\\Anaconda\\lib\\site-packages\\sklearn\\linear_model\\_ridge.py:196: UserWarning: Singular matrix in solving dual problem. Using least-squares solution instead.\n",
      "  warnings.warn(\n",
      "E:\\Data_Science\\Anaconda\\lib\\site-packages\\sklearn\\linear_model\\_ridge.py:196: UserWarning: Singular matrix in solving dual problem. Using least-squares solution instead.\n",
      "  warnings.warn(\n",
      "E:\\Data_Science\\Anaconda\\lib\\site-packages\\sklearn\\linear_model\\_ridge.py:196: UserWarning: Singular matrix in solving dual problem. Using least-squares solution instead.\n",
      "  warnings.warn(\n",
      "E:\\Data_Science\\Anaconda\\lib\\site-packages\\sklearn\\linear_model\\_ridge.py:196: UserWarning: Singular matrix in solving dual problem. Using least-squares solution instead.\n",
      "  warnings.warn(\n",
      "E:\\Data_Science\\Anaconda\\lib\\site-packages\\sklearn\\linear_model\\_ridge.py:196: UserWarning: Singular matrix in solving dual problem. Using least-squares solution instead.\n",
      "  warnings.warn(\n",
      "E:\\Data_Science\\Anaconda\\lib\\site-packages\\sklearn\\linear_model\\_ridge.py:196: UserWarning: Singular matrix in solving dual problem. Using least-squares solution instead.\n",
      "  warnings.warn(\n",
      "E:\\Data_Science\\Anaconda\\lib\\site-packages\\sklearn\\linear_model\\_ridge.py:196: UserWarning: Singular matrix in solving dual problem. Using least-squares solution instead.\n",
      "  warnings.warn(\n",
      "E:\\Data_Science\\Anaconda\\lib\\site-packages\\sklearn\\linear_model\\_ridge.py:196: UserWarning: Singular matrix in solving dual problem. Using least-squares solution instead.\n",
      "  warnings.warn(\n",
      "E:\\Data_Science\\Anaconda\\lib\\site-packages\\sklearn\\linear_model\\_ridge.py:196: UserWarning: Singular matrix in solving dual problem. Using least-squares solution instead.\n",
      "  warnings.warn(\n",
      "E:\\Data_Science\\Anaconda\\lib\\site-packages\\sklearn\\linear_model\\_ridge.py:196: UserWarning: Singular matrix in solving dual problem. Using least-squares solution instead.\n",
      "  warnings.warn(\n",
      "E:\\Data_Science\\Anaconda\\lib\\site-packages\\sklearn\\linear_model\\_ridge.py:196: UserWarning: Singular matrix in solving dual problem. Using least-squares solution instead.\n",
      "  warnings.warn(\n",
      "E:\\Data_Science\\Anaconda\\lib\\site-packages\\sklearn\\linear_model\\_ridge.py:194: LinAlgWarning: Ill-conditioned matrix (rcond=8.8975e-17): result may not be accurate.\n",
      "  dual_coef = linalg.solve(K, y, sym_pos=True, overwrite_a=False)\n",
      "E:\\Data_Science\\Anaconda\\lib\\site-packages\\sklearn\\linear_model\\_ridge.py:194: LinAlgWarning: Ill-conditioned matrix (rcond=3.39386e-17): result may not be accurate.\n",
      "  dual_coef = linalg.solve(K, y, sym_pos=True, overwrite_a=False)\n",
      "E:\\Data_Science\\Anaconda\\lib\\site-packages\\sklearn\\linear_model\\_ridge.py:196: UserWarning: Singular matrix in solving dual problem. Using least-squares solution instead.\n",
      "  warnings.warn(\n",
      "E:\\Data_Science\\Anaconda\\lib\\site-packages\\sklearn\\linear_model\\_ridge.py:196: UserWarning: Singular matrix in solving dual problem. Using least-squares solution instead.\n",
      "  warnings.warn(\n",
      "E:\\Data_Science\\Anaconda\\lib\\site-packages\\sklearn\\linear_model\\_ridge.py:196: UserWarning: Singular matrix in solving dual problem. Using least-squares solution instead.\n",
      "  warnings.warn(\n",
      "E:\\Data_Science\\Anaconda\\lib\\site-packages\\sklearn\\linear_model\\_ridge.py:194: LinAlgWarning: Ill-conditioned matrix (rcond=7.9747e-17): result may not be accurate.\n",
      "  dual_coef = linalg.solve(K, y, sym_pos=True, overwrite_a=False)\n",
      "E:\\Data_Science\\Anaconda\\lib\\site-packages\\sklearn\\linear_model\\_ridge.py:194: LinAlgWarning: Ill-conditioned matrix (rcond=2.85408e-17): result may not be accurate.\n",
      "  dual_coef = linalg.solve(K, y, sym_pos=True, overwrite_a=False)\n",
      "E:\\Data_Science\\Anaconda\\lib\\site-packages\\sklearn\\linear_model\\_ridge.py:196: UserWarning: Singular matrix in solving dual problem. Using least-squares solution instead.\n",
      "  warnings.warn(\n",
      "E:\\Data_Science\\Anaconda\\lib\\site-packages\\sklearn\\linear_model\\_ridge.py:196: UserWarning: Singular matrix in solving dual problem. Using least-squares solution instead.\n",
      "  warnings.warn(\n",
      "E:\\Data_Science\\Anaconda\\lib\\site-packages\\sklearn\\linear_model\\_ridge.py:196: UserWarning: Singular matrix in solving dual problem. Using least-squares solution instead.\n",
      "  warnings.warn(\n",
      "E:\\Data_Science\\Anaconda\\lib\\site-packages\\sklearn\\linear_model\\_ridge.py:194: LinAlgWarning: Ill-conditioned matrix (rcond=7.84695e-17): result may not be accurate.\n",
      "  dual_coef = linalg.solve(K, y, sym_pos=True, overwrite_a=False)\n",
      "E:\\Data_Science\\Anaconda\\lib\\site-packages\\sklearn\\linear_model\\_ridge.py:194: LinAlgWarning: Ill-conditioned matrix (rcond=2.80546e-17): result may not be accurate.\n",
      "  dual_coef = linalg.solve(K, y, sym_pos=True, overwrite_a=False)\n",
      "E:\\Data_Science\\Anaconda\\lib\\site-packages\\sklearn\\linear_model\\_ridge.py:196: UserWarning: Singular matrix in solving dual problem. Using least-squares solution instead.\n",
      "  warnings.warn(\n",
      "E:\\Data_Science\\Anaconda\\lib\\site-packages\\sklearn\\linear_model\\_ridge.py:196: UserWarning: Singular matrix in solving dual problem. Using least-squares solution instead.\n",
      "  warnings.warn(\n",
      "E:\\Data_Science\\Anaconda\\lib\\site-packages\\sklearn\\linear_model\\_ridge.py:196: UserWarning: Singular matrix in solving dual problem. Using least-squares solution instead.\n",
      "  warnings.warn(\n",
      "E:\\Data_Science\\Anaconda\\lib\\site-packages\\sklearn\\linear_model\\_ridge.py:194: LinAlgWarning: Ill-conditioned matrix (rcond=7.79442e-17): result may not be accurate.\n",
      "  dual_coef = linalg.solve(K, y, sym_pos=True, overwrite_a=False)\n",
      "E:\\Data_Science\\Anaconda\\lib\\site-packages\\sklearn\\linear_model\\_ridge.py:194: LinAlgWarning: Ill-conditioned matrix (rcond=2.78734e-17): result may not be accurate.\n",
      "  dual_coef = linalg.solve(K, y, sym_pos=True, overwrite_a=False)\n",
      "E:\\Data_Science\\Anaconda\\lib\\site-packages\\sklearn\\linear_model\\_ridge.py:196: UserWarning: Singular matrix in solving dual problem. Using least-squares solution instead.\n",
      "  warnings.warn(\n",
      "E:\\Data_Science\\Anaconda\\lib\\site-packages\\sklearn\\linear_model\\_ridge.py:196: UserWarning: Singular matrix in solving dual problem. Using least-squares solution instead.\n",
      "  warnings.warn(\n",
      "E:\\Data_Science\\Anaconda\\lib\\site-packages\\sklearn\\linear_model\\_ridge.py:196: UserWarning: Singular matrix in solving dual problem. Using least-squares solution instead.\n",
      "  warnings.warn(\n",
      "E:\\Data_Science\\Anaconda\\lib\\site-packages\\sklearn\\linear_model\\_ridge.py:196: UserWarning: Singular matrix in solving dual problem. Using least-squares solution instead.\n",
      "  warnings.warn(\n",
      "E:\\Data_Science\\Anaconda\\lib\\site-packages\\sklearn\\linear_model\\_ridge.py:196: UserWarning: Singular matrix in solving dual problem. Using least-squares solution instead.\n",
      "  warnings.warn(\n",
      "E:\\Data_Science\\Anaconda\\lib\\site-packages\\sklearn\\linear_model\\_ridge.py:196: UserWarning: Singular matrix in solving dual problem. Using least-squares solution instead.\n",
      "  warnings.warn(\n",
      "E:\\Data_Science\\Anaconda\\lib\\site-packages\\sklearn\\linear_model\\_ridge.py:196: UserWarning: Singular matrix in solving dual problem. Using least-squares solution instead.\n",
      "  warnings.warn(\n",
      "E:\\Data_Science\\Anaconda\\lib\\site-packages\\sklearn\\linear_model\\_ridge.py:196: UserWarning: Singular matrix in solving dual problem. Using least-squares solution instead.\n",
      "  warnings.warn(\n",
      "E:\\Data_Science\\Anaconda\\lib\\site-packages\\sklearn\\linear_model\\_ridge.py:196: UserWarning: Singular matrix in solving dual problem. Using least-squares solution instead.\n",
      "  warnings.warn(\n",
      "E:\\Data_Science\\Anaconda\\lib\\site-packages\\sklearn\\linear_model\\_ridge.py:196: UserWarning: Singular matrix in solving dual problem. Using least-squares solution instead.\n",
      "  warnings.warn(\n",
      "E:\\Data_Science\\Anaconda\\lib\\site-packages\\sklearn\\linear_model\\_ridge.py:196: UserWarning: Singular matrix in solving dual problem. Using least-squares solution instead.\n",
      "  warnings.warn(\n",
      "E:\\Data_Science\\Anaconda\\lib\\site-packages\\sklearn\\linear_model\\_ridge.py:196: UserWarning: Singular matrix in solving dual problem. Using least-squares solution instead.\n",
      "  warnings.warn(\n",
      "E:\\Data_Science\\Anaconda\\lib\\site-packages\\sklearn\\linear_model\\_ridge.py:196: UserWarning: Singular matrix in solving dual problem. Using least-squares solution instead.\n",
      "  warnings.warn(\n",
      "E:\\Data_Science\\Anaconda\\lib\\site-packages\\sklearn\\linear_model\\_ridge.py:196: UserWarning: Singular matrix in solving dual problem. Using least-squares solution instead.\n",
      "  warnings.warn(\n",
      "E:\\Data_Science\\Anaconda\\lib\\site-packages\\sklearn\\linear_model\\_ridge.py:196: UserWarning: Singular matrix in solving dual problem. Using least-squares solution instead.\n",
      "  warnings.warn(\n",
      "E:\\Data_Science\\Anaconda\\lib\\site-packages\\sklearn\\linear_model\\_ridge.py:196: UserWarning: Singular matrix in solving dual problem. Using least-squares solution instead.\n",
      "  warnings.warn(\n",
      "E:\\Data_Science\\Anaconda\\lib\\site-packages\\sklearn\\linear_model\\_ridge.py:196: UserWarning: Singular matrix in solving dual problem. Using least-squares solution instead.\n",
      "  warnings.warn(\n",
      "E:\\Data_Science\\Anaconda\\lib\\site-packages\\sklearn\\linear_model\\_ridge.py:196: UserWarning: Singular matrix in solving dual problem. Using least-squares solution instead.\n",
      "  warnings.warn(\n",
      "E:\\Data_Science\\Anaconda\\lib\\site-packages\\sklearn\\linear_model\\_ridge.py:196: UserWarning: Singular matrix in solving dual problem. Using least-squares solution instead.\n",
      "  warnings.warn(\n",
      "E:\\Data_Science\\Anaconda\\lib\\site-packages\\sklearn\\linear_model\\_ridge.py:196: UserWarning: Singular matrix in solving dual problem. Using least-squares solution instead.\n",
      "  warnings.warn(\n",
      "E:\\Data_Science\\Anaconda\\lib\\site-packages\\sklearn\\linear_model\\_ridge.py:196: UserWarning: Singular matrix in solving dual problem. Using least-squares solution instead.\n",
      "  warnings.warn(\n",
      "E:\\Data_Science\\Anaconda\\lib\\site-packages\\sklearn\\linear_model\\_ridge.py:196: UserWarning: Singular matrix in solving dual problem. Using least-squares solution instead.\n",
      "  warnings.warn(\n",
      "E:\\Data_Science\\Anaconda\\lib\\site-packages\\sklearn\\linear_model\\_ridge.py:196: UserWarning: Singular matrix in solving dual problem. Using least-squares solution instead.\n",
      "  warnings.warn(\n",
      "E:\\Data_Science\\Anaconda\\lib\\site-packages\\sklearn\\linear_model\\_ridge.py:196: UserWarning: Singular matrix in solving dual problem. Using least-squares solution instead.\n",
      "  warnings.warn(\n",
      "E:\\Data_Science\\Anaconda\\lib\\site-packages\\sklearn\\linear_model\\_ridge.py:196: UserWarning: Singular matrix in solving dual problem. Using least-squares solution instead.\n",
      "  warnings.warn(\n",
      "E:\\Data_Science\\Anaconda\\lib\\site-packages\\sklearn\\linear_model\\_ridge.py:196: UserWarning: Singular matrix in solving dual problem. Using least-squares solution instead.\n",
      "  warnings.warn(\n",
      "E:\\Data_Science\\Anaconda\\lib\\site-packages\\sklearn\\linear_model\\_ridge.py:196: UserWarning: Singular matrix in solving dual problem. Using least-squares solution instead.\n",
      "  warnings.warn(\n",
      "E:\\Data_Science\\Anaconda\\lib\\site-packages\\sklearn\\linear_model\\_ridge.py:196: UserWarning: Singular matrix in solving dual problem. Using least-squares solution instead.\n",
      "  warnings.warn(\n",
      "E:\\Data_Science\\Anaconda\\lib\\site-packages\\sklearn\\linear_model\\_ridge.py:196: UserWarning: Singular matrix in solving dual problem. Using least-squares solution instead.\n",
      "  warnings.warn(\n",
      "E:\\Data_Science\\Anaconda\\lib\\site-packages\\sklearn\\linear_model\\_ridge.py:196: UserWarning: Singular matrix in solving dual problem. Using least-squares solution instead.\n",
      "  warnings.warn(\n",
      "E:\\Data_Science\\Anaconda\\lib\\site-packages\\sklearn\\linear_model\\_ridge.py:196: UserWarning: Singular matrix in solving dual problem. Using least-squares solution instead.\n",
      "  warnings.warn(\n",
      "E:\\Data_Science\\Anaconda\\lib\\site-packages\\sklearn\\linear_model\\_ridge.py:196: UserWarning: Singular matrix in solving dual problem. Using least-squares solution instead.\n",
      "  warnings.warn(\n",
      "E:\\Data_Science\\Anaconda\\lib\\site-packages\\sklearn\\linear_model\\_ridge.py:196: UserWarning: Singular matrix in solving dual problem. Using least-squares solution instead.\n",
      "  warnings.warn(\n",
      "E:\\Data_Science\\Anaconda\\lib\\site-packages\\sklearn\\linear_model\\_ridge.py:196: UserWarning: Singular matrix in solving dual problem. Using least-squares solution instead.\n",
      "  warnings.warn(\n",
      "E:\\Data_Science\\Anaconda\\lib\\site-packages\\sklearn\\linear_model\\_ridge.py:196: UserWarning: Singular matrix in solving dual problem. Using least-squares solution instead.\n",
      "  warnings.warn(\n",
      "E:\\Data_Science\\Anaconda\\lib\\site-packages\\sklearn\\linear_model\\_ridge.py:196: UserWarning: Singular matrix in solving dual problem. Using least-squares solution instead.\n",
      "  warnings.warn(\n",
      "E:\\Data_Science\\Anaconda\\lib\\site-packages\\sklearn\\linear_model\\_ridge.py:194: LinAlgWarning: Ill-conditioned matrix (rcond=7.59069e-17): result may not be accurate.\n",
      "  dual_coef = linalg.solve(K, y, sym_pos=True, overwrite_a=False)\n",
      "E:\\Data_Science\\Anaconda\\lib\\site-packages\\sklearn\\linear_model\\_ridge.py:196: UserWarning: Singular matrix in solving dual problem. Using least-squares solution instead.\n",
      "  warnings.warn(\n",
      "E:\\Data_Science\\Anaconda\\lib\\site-packages\\sklearn\\linear_model\\_ridge.py:196: UserWarning: Singular matrix in solving dual problem. Using least-squares solution instead.\n",
      "  warnings.warn(\n",
      "E:\\Data_Science\\Anaconda\\lib\\site-packages\\sklearn\\linear_model\\_ridge.py:196: UserWarning: Singular matrix in solving dual problem. Using least-squares solution instead.\n",
      "  warnings.warn(\n",
      "E:\\Data_Science\\Anaconda\\lib\\site-packages\\sklearn\\linear_model\\_ridge.py:194: LinAlgWarning: Ill-conditioned matrix (rcond=8.10861e-17): result may not be accurate.\n",
      "  dual_coef = linalg.solve(K, y, sym_pos=True, overwrite_a=False)\n",
      "E:\\Data_Science\\Anaconda\\lib\\site-packages\\sklearn\\linear_model\\_ridge.py:194: LinAlgWarning: Ill-conditioned matrix (rcond=2.94432e-17): result may not be accurate.\n",
      "  dual_coef = linalg.solve(K, y, sym_pos=True, overwrite_a=False)\n",
      "E:\\Data_Science\\Anaconda\\lib\\site-packages\\sklearn\\linear_model\\_ridge.py:196: UserWarning: Singular matrix in solving dual problem. Using least-squares solution instead.\n",
      "  warnings.warn(\n",
      "E:\\Data_Science\\Anaconda\\lib\\site-packages\\sklearn\\linear_model\\_ridge.py:196: UserWarning: Singular matrix in solving dual problem. Using least-squares solution instead.\n",
      "  warnings.warn(\n",
      "E:\\Data_Science\\Anaconda\\lib\\site-packages\\sklearn\\linear_model\\_ridge.py:196: UserWarning: Singular matrix in solving dual problem. Using least-squares solution instead.\n",
      "  warnings.warn(\n",
      "E:\\Data_Science\\Anaconda\\lib\\site-packages\\sklearn\\linear_model\\_ridge.py:194: LinAlgWarning: Ill-conditioned matrix (rcond=7.84984e-17): result may not be accurate.\n",
      "  dual_coef = linalg.solve(K, y, sym_pos=True, overwrite_a=False)\n",
      "E:\\Data_Science\\Anaconda\\lib\\site-packages\\sklearn\\linear_model\\_ridge.py:194: LinAlgWarning: Ill-conditioned matrix (rcond=2.8074e-17): result may not be accurate.\n",
      "  dual_coef = linalg.solve(K, y, sym_pos=True, overwrite_a=False)\n",
      "E:\\Data_Science\\Anaconda\\lib\\site-packages\\sklearn\\linear_model\\_ridge.py:196: UserWarning: Singular matrix in solving dual problem. Using least-squares solution instead.\n",
      "  warnings.warn(\n",
      "E:\\Data_Science\\Anaconda\\lib\\site-packages\\sklearn\\linear_model\\_ridge.py:196: UserWarning: Singular matrix in solving dual problem. Using least-squares solution instead.\n",
      "  warnings.warn(\n",
      "E:\\Data_Science\\Anaconda\\lib\\site-packages\\sklearn\\linear_model\\_ridge.py:196: UserWarning: Singular matrix in solving dual problem. Using least-squares solution instead.\n",
      "  warnings.warn(\n",
      "E:\\Data_Science\\Anaconda\\lib\\site-packages\\sklearn\\linear_model\\_ridge.py:194: LinAlgWarning: Ill-conditioned matrix (rcond=7.79448e-17): result may not be accurate.\n",
      "  dual_coef = linalg.solve(K, y, sym_pos=True, overwrite_a=False)\n",
      "E:\\Data_Science\\Anaconda\\lib\\site-packages\\sklearn\\linear_model\\_ridge.py:194: LinAlgWarning: Ill-conditioned matrix (rcond=2.78738e-17): result may not be accurate.\n",
      "  dual_coef = linalg.solve(K, y, sym_pos=True, overwrite_a=False)\n",
      "E:\\Data_Science\\Anaconda\\lib\\site-packages\\sklearn\\linear_model\\_ridge.py:196: UserWarning: Singular matrix in solving dual problem. Using least-squares solution instead.\n",
      "  warnings.warn(\n",
      "E:\\Data_Science\\Anaconda\\lib\\site-packages\\sklearn\\linear_model\\_ridge.py:196: UserWarning: Singular matrix in solving dual problem. Using least-squares solution instead.\n",
      "  warnings.warn(\n",
      "E:\\Data_Science\\Anaconda\\lib\\site-packages\\sklearn\\linear_model\\_ridge.py:196: UserWarning: Singular matrix in solving dual problem. Using least-squares solution instead.\n",
      "  warnings.warn(\n"
     ]
    },
    {
     "name": "stdout",
     "output_type": "stream",
     "text": [
      "Best params on training set : {'alpha': 100.0, 'degree': 4, 'gamma': 0.01, 'kernel': 'poly'}\n"
     ]
    }
   ],
   "source": [
    "from sklearn import kernel_ridge\n",
    "#let's try with a ridge regression\n",
    "\n",
    "\n",
    "alpha_range = [1.0, 5.0, 10.0, 100.0]\n",
    "kernels = ['linear', 'poly', 'sigmoid', 'rbf']\n",
    "degrees = [3,4,5]\n",
    "gamma_range  = np.logspace(-2, 1, 10)\n",
    "\n",
    "\n",
    "param_grid = {'gamma' : gamma_range, 'kernel' : kernels, 'degree' : degrees, 'alpha' : alpha_range}\n",
    "\n",
    "score = 'neg_mean_absolute_percentage_error'\n",
    "\n",
    "kernel_ridge_cv = GridSearchCV(kernel_ridge.KernelRidge(), param_grid, cv = 3, scoring = score, verbose = 1)\n",
    "\n",
    "kernel_ridge_cv.fit(xtrain, ytrain)\n",
    "\n",
    "print('Best params on training set : {}'.format(kernel_ridge_cv.best_params_))"
   ]
  },
  {
   "cell_type": "code",
   "execution_count": 14,
   "id": "0ac765ef-774b-4160-8c8d-5543b44202a6",
   "metadata": {
    "execution": {
     "iopub.execute_input": "2022-10-28T09:03:47.989785Z",
     "iopub.status.busy": "2022-10-28T09:03:47.989785Z",
     "iopub.status.idle": "2022-10-28T09:03:48.043786Z",
     "shell.execute_reply": "2022-10-28T09:03:48.042786Z",
     "shell.execute_reply.started": "2022-10-28T09:03:47.989785Z"
    },
    "tags": []
   },
   "outputs": [
    {
     "ename": "NameError",
     "evalue": "name 'kernel_ridge' is not defined",
     "output_type": "error",
     "traceback": [
      "\u001b[1;31m---------------------------------------------------------------------------\u001b[0m",
      "\u001b[1;31mNameError\u001b[0m                                 Traceback (most recent call last)",
      "Input \u001b[1;32mIn [14]\u001b[0m, in \u001b[0;36m<cell line: 1>\u001b[1;34m()\u001b[0m\n\u001b[1;32m----> 1\u001b[0m model \u001b[38;5;241m=\u001b[39m \u001b[43mkernel_ridge\u001b[49m\u001b[38;5;241m.\u001b[39mKernelRidge(alpha \u001b[38;5;241m=\u001b[39m \u001b[38;5;241m1.0\u001b[39m, kernel \u001b[38;5;241m=\u001b[39m \u001b[38;5;124m'\u001b[39m\u001b[38;5;124mpoly\u001b[39m\u001b[38;5;124m'\u001b[39m, degree \u001b[38;5;241m=\u001b[39m \u001b[38;5;241m3\u001b[39m, gamma \u001b[38;5;241m=\u001b[39m \u001b[38;5;241m0.01\u001b[39m)\n\u001b[0;32m      2\u001b[0m model \u001b[38;5;241m=\u001b[39m model\u001b[38;5;241m.\u001b[39mfit(xtrain, ytrain)\n\u001b[0;32m      4\u001b[0m true_pred_plot(ytrain, model\u001b[38;5;241m.\u001b[39mpredict(xtrain), ytest, model\u001b[38;5;241m.\u001b[39mpredict(xtest))\n",
      "\u001b[1;31mNameError\u001b[0m: name 'kernel_ridge' is not defined"
     ]
    }
   ],
   "source": [
    "model = kernel_ridge.KernelRidge(alpha = 1.0, kernel = 'poly', degree = 3, gamma = 0.01)\n",
    "model = model.fit(xtrain, ytrain)\n",
    "\n",
    "true_pred_plot(ytrain, model.predict(xtrain), ytest, model.predict(xtest))"
   ]
  },
  {
   "cell_type": "markdown",
   "id": "27b30d39-eb07-4bc6-9b40-753127644a6b",
   "metadata": {},
   "source": [
    "## Neural network"
   ]
  },
  {
   "cell_type": "code",
   "execution_count": null,
   "id": "10ba7dc1-8841-438d-8f24-2f406bd4e4e7",
   "metadata": {
    "execution": {
     "iopub.status.busy": "2022-10-28T09:00:52.439109Z",
     "iopub.status.idle": "2022-10-28T09:00:52.439109Z",
     "shell.execute_reply": "2022-10-28T09:00:52.439109Z",
     "shell.execute_reply.started": "2022-10-28T09:00:52.439109Z"
    },
    "tags": []
   },
   "outputs": [],
   "source": [
    "import tensorflow as tf\n",
    "from tensorflow import keras\n",
    "from tensorflow.keras import layers"
   ]
  },
  {
   "cell_type": "code",
   "execution_count": null,
   "id": "ae6fcc3d-1ed1-4744-8aa8-1fee512a03ca",
   "metadata": {
    "execution": {
     "iopub.status.busy": "2022-10-28T09:00:52.440109Z",
     "iopub.status.idle": "2022-10-28T09:00:52.441109Z",
     "shell.execute_reply": "2022-10-28T09:00:52.441109Z",
     "shell.execute_reply.started": "2022-10-28T09:00:52.441109Z"
    },
    "tags": []
   },
   "outputs": [],
   "source": [
    "#test with a single perceptron\n",
    "model = keras.Sequential()\n",
    "model.add(keras.Input(shape = xtrain.shape[1]))\n",
    "model.add(layers.Dense(1,input_dim = 2, activation = 'linear'))\n",
    "\n",
    "model.compile(metrics = [tf.keras.metrics.RootMeanSquaredError()], loss = 'mean_absolute_percentage_error', optimizer = 'adam')\n",
    "\n",
    "model.summary()"
   ]
  },
  {
   "cell_type": "code",
   "execution_count": null,
   "id": "ef614bee-95aa-4226-814a-26d0a235f876",
   "metadata": {
    "execution": {
     "iopub.status.busy": "2022-10-28T09:00:52.442109Z",
     "iopub.status.idle": "2022-10-28T09:00:52.442109Z",
     "shell.execute_reply": "2022-10-28T09:00:52.442109Z",
     "shell.execute_reply.started": "2022-10-28T09:00:52.442109Z"
    },
    "tags": []
   },
   "outputs": [],
   "source": [
    "history = model.fit(xtrain, ytrain, epochs = 50, batch_size = 4, verbose = 1)"
   ]
  },
  {
   "cell_type": "code",
   "execution_count": null,
   "id": "17a6d228-d235-4d48-a400-c9021e8aceac",
   "metadata": {
    "execution": {
     "iopub.status.busy": "2022-10-28T09:00:52.443110Z",
     "iopub.status.idle": "2022-10-28T09:00:52.444109Z",
     "shell.execute_reply": "2022-10-28T09:00:52.444109Z",
     "shell.execute_reply.started": "2022-10-28T09:00:52.444109Z"
    },
    "tags": []
   },
   "outputs": [],
   "source": [
    "#now with a multi layer network\n",
    "\n",
    "model2 = keras.Sequential(\n",
    "    [\n",
    "        layers.Dense(xtrain.shape[1], activation=\"selu\", name=\"layer1\", input_shape=(xtrain.shape[1],), input_dim = 2),\n",
    "        layers.Dense(383, activation=\"selu\", name=\"layer2\"),\n",
    "        layers.Dense(287, activation=\"selu\", name=\"layer2b\"),\n",
    "        layers.Dense(82, activation=\"selu\", name=\"layer3\"),\n",
    "        layers.Dense(20, activation=\"selu\", name=\"layer4\"),\n",
    "        layers.Dense(4, activation = \"selu\", name = \"layer5\"),\n",
    "        layers.Dense(1, activation = 'linear', name=\"layer6\"),\n",
    "    ]\n",
    ")\n",
    "\n",
    "model2.compile(metrics = [tf.keras.metrics.RootMeanSquaredError()], loss = 'mean_absolute_percentage_error', optimizer = 'adam')\n",
    "\n",
    "model2.summary()\n",
    "\n",
    "history2 = model2.fit(xtrain, ytrain, epochs = 50, batch_size = 2, verbose = 1)"
   ]
  },
  {
   "cell_type": "code",
   "execution_count": null,
   "id": "796021a2-e991-4b29-856f-f42c645d6195",
   "metadata": {
    "execution": {
     "iopub.status.busy": "2022-10-28T09:00:52.445110Z",
     "iopub.status.idle": "2022-10-28T09:00:52.446109Z",
     "shell.execute_reply": "2022-10-28T09:00:52.445110Z",
     "shell.execute_reply.started": "2022-10-28T09:00:52.445110Z"
    },
    "tags": []
   },
   "outputs": [],
   "source": [
    "model3 = keras.Sequential(\n",
    "    [\n",
    "        layers.Dense(xtrain.shape[1], activation=\"relu\", name=\"layer1\", input_shape=(xtrain.shape[1],), input_dim = 2),\n",
    "        layers.Dense(287, activation=\"relu\", name=\"layer2\"),\n",
    "        layers.Dense(1, activation = 'linear', name=\"layer3\"),\n",
    "    ]\n",
    ")\n",
    "\n",
    "model3.compile(metrics = [tf.keras.metrics.RootMeanSquaredError()], loss = 'mean_absolute_percentage_error', optimizer = 'adam')\n",
    "\n",
    "model3.summary()\n",
    "\n",
    "history3 = model3.fit(xtrain, ytrain, epochs = 50, batch_size = 2, verbose = 1)"
   ]
  },
  {
   "cell_type": "code",
   "execution_count": null,
   "id": "4f649370-5a9f-429f-90b7-e81d1a036465",
   "metadata": {
    "execution": {
     "iopub.status.busy": "2022-10-28T09:00:52.446109Z",
     "iopub.status.idle": "2022-10-28T09:00:52.447108Z",
     "shell.execute_reply": "2022-10-28T09:00:52.447108Z",
     "shell.execute_reply.started": "2022-10-28T09:00:52.447108Z"
    },
    "tags": []
   },
   "outputs": [],
   "source": [
    "from sklearn.ensemble import RandomForestRegressor\n",
    "\n"
   ]
  },
  {
   "cell_type": "code",
   "execution_count": null,
   "id": "edfc9ec3-06b1-46e7-b960-830864d6de20",
   "metadata": {
    "execution": {
     "iopub.status.busy": "2022-10-28T09:00:52.448109Z",
     "iopub.status.idle": "2022-10-28T09:00:52.448109Z",
     "shell.execute_reply": "2022-10-28T09:00:52.448109Z",
     "shell.execute_reply.started": "2022-10-28T09:00:52.448109Z"
    },
    "tags": []
   },
   "outputs": [],
   "source": [
    "rfr = RandomForestRegressor(n_estimators=500, verbose = 1)\n",
    "\n",
    "model = rfr.fit(xtrain,ytrain)\n",
    "\n",
    "true_pred_plot(ytrain, model.predict(xtrain), ytest, model.predict(xtest))"
   ]
  },
  {
   "cell_type": "code",
   "execution_count": null,
   "id": "99f64d98-1645-42bd-aa10-42c8dfa58058",
   "metadata": {},
   "outputs": [],
   "source": []
  }
 ],
 "metadata": {
  "kernelspec": {
   "display_name": "Python 3 (ipykernel)",
   "language": "python",
   "name": "python3"
  },
  "language_info": {
   "codemirror_mode": {
    "name": "ipython",
    "version": 3
   },
   "file_extension": ".py",
   "mimetype": "text/x-python",
   "name": "python",
   "nbconvert_exporter": "python",
   "pygments_lexer": "ipython3",
   "version": "3.9.12"
  }
 },
 "nbformat": 4,
 "nbformat_minor": 5
}
